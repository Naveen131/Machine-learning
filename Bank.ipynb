{
  "nbformat": 4,
  "nbformat_minor": 0,
  "metadata": {
    "colab": {
      "name": "Bank.ipynb",
      "version": "0.3.2",
      "provenance": [],
      "include_colab_link": true
    },
    "kernelspec": {
      "display_name": "Python 3",
      "language": "python",
      "name": "python3"
    }
  },
  "cells": [
    {
      "cell_type": "markdown",
      "metadata": {
        "id": "view-in-github",
        "colab_type": "text"
      },
      "source": [
        "<a href=\"https://colab.research.google.com/github/Naveen131/Machine-learning/blob/master/Bank.ipynb\" target=\"_parent\"><img src=\"https://colab.research.google.com/assets/colab-badge.svg\" alt=\"Open In Colab\"/></a>"
      ]
    },
    {
      "metadata": {
        "id": "RKtaJO53aoXL",
        "colab_type": "code",
        "colab": {}
      },
      "cell_type": "code",
      "source": [
        "import pandas as pd\n",
        "from sklearn.feature_extraction import DictVectorizer\n",
        "import matplotlib.pyplot as plt\n",
        "%matplotlib inline\n",
        "from pandas.plotting import scatter_matrix"
      ],
      "execution_count": 0,
      "outputs": []
    },
    {
      "metadata": {
        "id": "3A0loyRibETL",
        "colab_type": "code",
        "colab": {
          "resources": {
            "http://localhost:8080/nbextensions/google.colab/files.js": {
              "data": "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",
              "ok": true,
              "headers": [
                [
                  "content-type",
                  "application/javascript"
                ]
              ],
              "status": 200,
              "status_text": ""
            }
          },
          "base_uri": "https://localhost:8080/",
          "height": 74
        },
        "outputId": "3f74d512-4e95-4eee-ac33-dddc096e1e8f"
      },
      "cell_type": "code",
      "source": [
        "from google.colab import files\n",
        "uploaded = files.upload()"
      ],
      "execution_count": 2,
      "outputs": [
        {
          "output_type": "display_data",
          "data": {
            "text/html": [
              "\n",
              "     <input type=\"file\" id=\"files-583d9c43-b218-4a3c-9fd0-0ede357bd60b\" name=\"files[]\" multiple disabled />\n",
              "     <output id=\"result-583d9c43-b218-4a3c-9fd0-0ede357bd60b\">\n",
              "      Upload widget is only available when the cell has been executed in the\n",
              "      current browser session. Please rerun this cell to enable.\n",
              "      </output>\n",
              "      <script src=\"/nbextensions/google.colab/files.js\"></script> "
            ],
            "text/plain": [
              "<IPython.core.display.HTML object>"
            ]
          },
          "metadata": {
            "tags": []
          }
        },
        {
          "output_type": "stream",
          "text": [
            "Saving bank-additional-full.csv to bank-additional-full.csv\n"
          ],
          "name": "stdout"
        }
      ]
    },
    {
      "metadata": {
        "id": "HPk85UCUaoXQ",
        "colab_type": "code",
        "colab": {}
      },
      "cell_type": "code",
      "source": [
        "data = pd.read_csv(\"bank-additional-full.csv\",sep=';')\n"
      ],
      "execution_count": 0,
      "outputs": []
    },
    {
      "metadata": {
        "id": "vWiNlnLzaoXT",
        "colab_type": "code",
        "colab": {
          "base_uri": "https://localhost:8080/",
          "height": 233
        },
        "outputId": "ef627f27-cbe8-4e1a-c41a-c30b5512596d"
      },
      "cell_type": "code",
      "source": [
        "data.head()\n"
      ],
      "execution_count": 4,
      "outputs": [
        {
          "output_type": "execute_result",
          "data": {
            "text/html": [
              "<div>\n",
              "<style scoped>\n",
              "    .dataframe tbody tr th:only-of-type {\n",
              "        vertical-align: middle;\n",
              "    }\n",
              "\n",
              "    .dataframe tbody tr th {\n",
              "        vertical-align: top;\n",
              "    }\n",
              "\n",
              "    .dataframe thead th {\n",
              "        text-align: right;\n",
              "    }\n",
              "</style>\n",
              "<table border=\"1\" class=\"dataframe\">\n",
              "  <thead>\n",
              "    <tr style=\"text-align: right;\">\n",
              "      <th></th>\n",
              "      <th>age</th>\n",
              "      <th>job</th>\n",
              "      <th>marital</th>\n",
              "      <th>education</th>\n",
              "      <th>default</th>\n",
              "      <th>housing</th>\n",
              "      <th>loan</th>\n",
              "      <th>contact</th>\n",
              "      <th>month</th>\n",
              "      <th>day_of_week</th>\n",
              "      <th>...</th>\n",
              "      <th>campaign</th>\n",
              "      <th>pdays</th>\n",
              "      <th>previous</th>\n",
              "      <th>poutcome</th>\n",
              "      <th>emp.var.rate</th>\n",
              "      <th>cons.price.idx</th>\n",
              "      <th>cons.conf.idx</th>\n",
              "      <th>euribor3m</th>\n",
              "      <th>nr.employed</th>\n",
              "      <th>y</th>\n",
              "    </tr>\n",
              "  </thead>\n",
              "  <tbody>\n",
              "    <tr>\n",
              "      <th>0</th>\n",
              "      <td>56</td>\n",
              "      <td>housemaid</td>\n",
              "      <td>married</td>\n",
              "      <td>basic.4y</td>\n",
              "      <td>no</td>\n",
              "      <td>no</td>\n",
              "      <td>no</td>\n",
              "      <td>telephone</td>\n",
              "      <td>may</td>\n",
              "      <td>mon</td>\n",
              "      <td>...</td>\n",
              "      <td>1</td>\n",
              "      <td>999</td>\n",
              "      <td>0</td>\n",
              "      <td>nonexistent</td>\n",
              "      <td>1.1</td>\n",
              "      <td>93.994</td>\n",
              "      <td>-36.4</td>\n",
              "      <td>4.857</td>\n",
              "      <td>5191.0</td>\n",
              "      <td>no</td>\n",
              "    </tr>\n",
              "    <tr>\n",
              "      <th>1</th>\n",
              "      <td>57</td>\n",
              "      <td>services</td>\n",
              "      <td>married</td>\n",
              "      <td>high.school</td>\n",
              "      <td>unknown</td>\n",
              "      <td>no</td>\n",
              "      <td>no</td>\n",
              "      <td>telephone</td>\n",
              "      <td>may</td>\n",
              "      <td>mon</td>\n",
              "      <td>...</td>\n",
              "      <td>1</td>\n",
              "      <td>999</td>\n",
              "      <td>0</td>\n",
              "      <td>nonexistent</td>\n",
              "      <td>1.1</td>\n",
              "      <td>93.994</td>\n",
              "      <td>-36.4</td>\n",
              "      <td>4.857</td>\n",
              "      <td>5191.0</td>\n",
              "      <td>no</td>\n",
              "    </tr>\n",
              "    <tr>\n",
              "      <th>2</th>\n",
              "      <td>37</td>\n",
              "      <td>services</td>\n",
              "      <td>married</td>\n",
              "      <td>high.school</td>\n",
              "      <td>no</td>\n",
              "      <td>yes</td>\n",
              "      <td>no</td>\n",
              "      <td>telephone</td>\n",
              "      <td>may</td>\n",
              "      <td>mon</td>\n",
              "      <td>...</td>\n",
              "      <td>1</td>\n",
              "      <td>999</td>\n",
              "      <td>0</td>\n",
              "      <td>nonexistent</td>\n",
              "      <td>1.1</td>\n",
              "      <td>93.994</td>\n",
              "      <td>-36.4</td>\n",
              "      <td>4.857</td>\n",
              "      <td>5191.0</td>\n",
              "      <td>no</td>\n",
              "    </tr>\n",
              "    <tr>\n",
              "      <th>3</th>\n",
              "      <td>40</td>\n",
              "      <td>admin.</td>\n",
              "      <td>married</td>\n",
              "      <td>basic.6y</td>\n",
              "      <td>no</td>\n",
              "      <td>no</td>\n",
              "      <td>no</td>\n",
              "      <td>telephone</td>\n",
              "      <td>may</td>\n",
              "      <td>mon</td>\n",
              "      <td>...</td>\n",
              "      <td>1</td>\n",
              "      <td>999</td>\n",
              "      <td>0</td>\n",
              "      <td>nonexistent</td>\n",
              "      <td>1.1</td>\n",
              "      <td>93.994</td>\n",
              "      <td>-36.4</td>\n",
              "      <td>4.857</td>\n",
              "      <td>5191.0</td>\n",
              "      <td>no</td>\n",
              "    </tr>\n",
              "    <tr>\n",
              "      <th>4</th>\n",
              "      <td>56</td>\n",
              "      <td>services</td>\n",
              "      <td>married</td>\n",
              "      <td>high.school</td>\n",
              "      <td>no</td>\n",
              "      <td>no</td>\n",
              "      <td>yes</td>\n",
              "      <td>telephone</td>\n",
              "      <td>may</td>\n",
              "      <td>mon</td>\n",
              "      <td>...</td>\n",
              "      <td>1</td>\n",
              "      <td>999</td>\n",
              "      <td>0</td>\n",
              "      <td>nonexistent</td>\n",
              "      <td>1.1</td>\n",
              "      <td>93.994</td>\n",
              "      <td>-36.4</td>\n",
              "      <td>4.857</td>\n",
              "      <td>5191.0</td>\n",
              "      <td>no</td>\n",
              "    </tr>\n",
              "  </tbody>\n",
              "</table>\n",
              "<p>5 rows × 21 columns</p>\n",
              "</div>"
            ],
            "text/plain": [
              "   age        job  marital    education  default housing loan    contact  \\\n",
              "0   56  housemaid  married     basic.4y       no      no   no  telephone   \n",
              "1   57   services  married  high.school  unknown      no   no  telephone   \n",
              "2   37   services  married  high.school       no     yes   no  telephone   \n",
              "3   40     admin.  married     basic.6y       no      no   no  telephone   \n",
              "4   56   services  married  high.school       no      no  yes  telephone   \n",
              "\n",
              "  month day_of_week ...  campaign  pdays  previous     poutcome emp.var.rate  \\\n",
              "0   may         mon ...         1    999         0  nonexistent          1.1   \n",
              "1   may         mon ...         1    999         0  nonexistent          1.1   \n",
              "2   may         mon ...         1    999         0  nonexistent          1.1   \n",
              "3   may         mon ...         1    999         0  nonexistent          1.1   \n",
              "4   may         mon ...         1    999         0  nonexistent          1.1   \n",
              "\n",
              "   cons.price.idx  cons.conf.idx  euribor3m  nr.employed   y  \n",
              "0          93.994          -36.4      4.857       5191.0  no  \n",
              "1          93.994          -36.4      4.857       5191.0  no  \n",
              "2          93.994          -36.4      4.857       5191.0  no  \n",
              "3          93.994          -36.4      4.857       5191.0  no  \n",
              "4          93.994          -36.4      4.857       5191.0  no  \n",
              "\n",
              "[5 rows x 21 columns]"
            ]
          },
          "metadata": {
            "tags": []
          },
          "execution_count": 4
        }
      ]
    },
    {
      "metadata": {
        "id": "7JV9g6XzaoXZ",
        "colab_type": "code",
        "colab": {}
      },
      "cell_type": "code",
      "source": [
        "data_dict = data.T.to_dict().values()\n"
      ],
      "execution_count": 0,
      "outputs": []
    },
    {
      "metadata": {
        "id": "FL9-GzDJaoXb",
        "colab_type": "code",
        "colab": {}
      },
      "cell_type": "code",
      "source": [
        "vec = DictVectorizer()\n",
        "signal_array = vec.fit_transform(data_dict).toarray()\n",
        "feature_names = vec.get_feature_names()"
      ],
      "execution_count": 0,
      "outputs": []
    },
    {
      "metadata": {
        "id": "QfjD8mgdaoXd",
        "colab_type": "code",
        "colab": {
          "base_uri": "https://localhost:8080/",
          "height": 253
        },
        "outputId": "39916e80-90b6-4c87-881d-9495799e13ee"
      },
      "cell_type": "code",
      "source": [
        "df = pd.DataFrame(signal_array,columns=feature_names)\n",
        "df.head()"
      ],
      "execution_count": 7,
      "outputs": [
        {
          "output_type": "execute_result",
          "data": {
            "text/html": [
              "<div>\n",
              "<style scoped>\n",
              "    .dataframe tbody tr th:only-of-type {\n",
              "        vertical-align: middle;\n",
              "    }\n",
              "\n",
              "    .dataframe tbody tr th {\n",
              "        vertical-align: top;\n",
              "    }\n",
              "\n",
              "    .dataframe thead th {\n",
              "        text-align: right;\n",
              "    }\n",
              "</style>\n",
              "<table border=\"1\" class=\"dataframe\">\n",
              "  <thead>\n",
              "    <tr style=\"text-align: right;\">\n",
              "      <th></th>\n",
              "      <th>age</th>\n",
              "      <th>campaign</th>\n",
              "      <th>cons.conf.idx</th>\n",
              "      <th>cons.price.idx</th>\n",
              "      <th>contact=cellular</th>\n",
              "      <th>contact=telephone</th>\n",
              "      <th>day_of_week=fri</th>\n",
              "      <th>day_of_week=mon</th>\n",
              "      <th>day_of_week=thu</th>\n",
              "      <th>day_of_week=tue</th>\n",
              "      <th>...</th>\n",
              "      <th>month=oct</th>\n",
              "      <th>month=sep</th>\n",
              "      <th>nr.employed</th>\n",
              "      <th>pdays</th>\n",
              "      <th>poutcome=failure</th>\n",
              "      <th>poutcome=nonexistent</th>\n",
              "      <th>poutcome=success</th>\n",
              "      <th>previous</th>\n",
              "      <th>y=no</th>\n",
              "      <th>y=yes</th>\n",
              "    </tr>\n",
              "  </thead>\n",
              "  <tbody>\n",
              "    <tr>\n",
              "      <th>0</th>\n",
              "      <td>56.0</td>\n",
              "      <td>1.0</td>\n",
              "      <td>-36.4</td>\n",
              "      <td>93.994</td>\n",
              "      <td>0.0</td>\n",
              "      <td>1.0</td>\n",
              "      <td>0.0</td>\n",
              "      <td>1.0</td>\n",
              "      <td>0.0</td>\n",
              "      <td>0.0</td>\n",
              "      <td>...</td>\n",
              "      <td>0.0</td>\n",
              "      <td>0.0</td>\n",
              "      <td>5191.0</td>\n",
              "      <td>999.0</td>\n",
              "      <td>0.0</td>\n",
              "      <td>1.0</td>\n",
              "      <td>0.0</td>\n",
              "      <td>0.0</td>\n",
              "      <td>1.0</td>\n",
              "      <td>0.0</td>\n",
              "    </tr>\n",
              "    <tr>\n",
              "      <th>1</th>\n",
              "      <td>57.0</td>\n",
              "      <td>1.0</td>\n",
              "      <td>-36.4</td>\n",
              "      <td>93.994</td>\n",
              "      <td>0.0</td>\n",
              "      <td>1.0</td>\n",
              "      <td>0.0</td>\n",
              "      <td>1.0</td>\n",
              "      <td>0.0</td>\n",
              "      <td>0.0</td>\n",
              "      <td>...</td>\n",
              "      <td>0.0</td>\n",
              "      <td>0.0</td>\n",
              "      <td>5191.0</td>\n",
              "      <td>999.0</td>\n",
              "      <td>0.0</td>\n",
              "      <td>1.0</td>\n",
              "      <td>0.0</td>\n",
              "      <td>0.0</td>\n",
              "      <td>1.0</td>\n",
              "      <td>0.0</td>\n",
              "    </tr>\n",
              "    <tr>\n",
              "      <th>2</th>\n",
              "      <td>37.0</td>\n",
              "      <td>1.0</td>\n",
              "      <td>-36.4</td>\n",
              "      <td>93.994</td>\n",
              "      <td>0.0</td>\n",
              "      <td>1.0</td>\n",
              "      <td>0.0</td>\n",
              "      <td>1.0</td>\n",
              "      <td>0.0</td>\n",
              "      <td>0.0</td>\n",
              "      <td>...</td>\n",
              "      <td>0.0</td>\n",
              "      <td>0.0</td>\n",
              "      <td>5191.0</td>\n",
              "      <td>999.0</td>\n",
              "      <td>0.0</td>\n",
              "      <td>1.0</td>\n",
              "      <td>0.0</td>\n",
              "      <td>0.0</td>\n",
              "      <td>1.0</td>\n",
              "      <td>0.0</td>\n",
              "    </tr>\n",
              "    <tr>\n",
              "      <th>3</th>\n",
              "      <td>40.0</td>\n",
              "      <td>1.0</td>\n",
              "      <td>-36.4</td>\n",
              "      <td>93.994</td>\n",
              "      <td>0.0</td>\n",
              "      <td>1.0</td>\n",
              "      <td>0.0</td>\n",
              "      <td>1.0</td>\n",
              "      <td>0.0</td>\n",
              "      <td>0.0</td>\n",
              "      <td>...</td>\n",
              "      <td>0.0</td>\n",
              "      <td>0.0</td>\n",
              "      <td>5191.0</td>\n",
              "      <td>999.0</td>\n",
              "      <td>0.0</td>\n",
              "      <td>1.0</td>\n",
              "      <td>0.0</td>\n",
              "      <td>0.0</td>\n",
              "      <td>1.0</td>\n",
              "      <td>0.0</td>\n",
              "    </tr>\n",
              "    <tr>\n",
              "      <th>4</th>\n",
              "      <td>56.0</td>\n",
              "      <td>1.0</td>\n",
              "      <td>-36.4</td>\n",
              "      <td>93.994</td>\n",
              "      <td>0.0</td>\n",
              "      <td>1.0</td>\n",
              "      <td>0.0</td>\n",
              "      <td>1.0</td>\n",
              "      <td>0.0</td>\n",
              "      <td>0.0</td>\n",
              "      <td>...</td>\n",
              "      <td>0.0</td>\n",
              "      <td>0.0</td>\n",
              "      <td>5191.0</td>\n",
              "      <td>999.0</td>\n",
              "      <td>0.0</td>\n",
              "      <td>1.0</td>\n",
              "      <td>0.0</td>\n",
              "      <td>0.0</td>\n",
              "      <td>1.0</td>\n",
              "      <td>0.0</td>\n",
              "    </tr>\n",
              "  </tbody>\n",
              "</table>\n",
              "<p>5 rows × 65 columns</p>\n",
              "</div>"
            ],
            "text/plain": [
              "    age  campaign  cons.conf.idx  cons.price.idx  contact=cellular  \\\n",
              "0  56.0       1.0          -36.4          93.994               0.0   \n",
              "1  57.0       1.0          -36.4          93.994               0.0   \n",
              "2  37.0       1.0          -36.4          93.994               0.0   \n",
              "3  40.0       1.0          -36.4          93.994               0.0   \n",
              "4  56.0       1.0          -36.4          93.994               0.0   \n",
              "\n",
              "   contact=telephone  day_of_week=fri  day_of_week=mon  day_of_week=thu  \\\n",
              "0                1.0              0.0              1.0              0.0   \n",
              "1                1.0              0.0              1.0              0.0   \n",
              "2                1.0              0.0              1.0              0.0   \n",
              "3                1.0              0.0              1.0              0.0   \n",
              "4                1.0              0.0              1.0              0.0   \n",
              "\n",
              "   day_of_week=tue  ...    month=oct  month=sep  nr.employed  pdays  \\\n",
              "0              0.0  ...          0.0        0.0       5191.0  999.0   \n",
              "1              0.0  ...          0.0        0.0       5191.0  999.0   \n",
              "2              0.0  ...          0.0        0.0       5191.0  999.0   \n",
              "3              0.0  ...          0.0        0.0       5191.0  999.0   \n",
              "4              0.0  ...          0.0        0.0       5191.0  999.0   \n",
              "\n",
              "   poutcome=failure  poutcome=nonexistent  poutcome=success  previous  y=no  \\\n",
              "0               0.0                   1.0               0.0       0.0   1.0   \n",
              "1               0.0                   1.0               0.0       0.0   1.0   \n",
              "2               0.0                   1.0               0.0       0.0   1.0   \n",
              "3               0.0                   1.0               0.0       0.0   1.0   \n",
              "4               0.0                   1.0               0.0       0.0   1.0   \n",
              "\n",
              "   y=yes  \n",
              "0    0.0  \n",
              "1    0.0  \n",
              "2    0.0  \n",
              "3    0.0  \n",
              "4    0.0  \n",
              "\n",
              "[5 rows x 65 columns]"
            ]
          },
          "metadata": {
            "tags": []
          },
          "execution_count": 7
        }
      ]
    },
    {
      "metadata": {
        "id": "EltqDB0laoXh",
        "colab_type": "code",
        "colab": {
          "base_uri": "https://localhost:8080/",
          "height": 1351
        },
        "outputId": "c3d11e47-52ec-4717-b09b-aec49730dd87"
      },
      "cell_type": "code",
      "source": [
        "import numpy as np\n",
        "import seaborn as sns\n",
        "import matplotlib.pyplot as plt\n",
        "\n",
        "from sklearn.datasets import make_classification\n",
        "from sklearn.ensemble import RandomForestClassifier\n",
        "\n",
        "X = signal_array[:,:-2]\n",
        "X = np.hstack((X[:,:14],X[:,15:]))\n",
        "y = signal_array[:,-1]\n",
        "# Build a forest and compute the feature importances\n",
        "forest = RandomForestClassifier(n_estimators=250,\n",
        "                              random_state=0)\n",
        "\n",
        "forest.fit(X, y)\n",
        "importances = forest.feature_importances_\n",
        "std = np.std([tree.feature_importances_ for tree in forest.estimators_],\n",
        "             axis=0)\n",
        "indices = np.argsort(importances)[::-1]\n",
        "\n",
        "# Print the feature ranking\n",
        "print(\"Feature ranking:\")\n",
        "\n",
        "for f in range(X.shape[1]):\n",
        "    print(\"%d. feature %s (%f)\" % (f + 1, feature_names[indices[f]], importances[indices[f]]))\n",
        "\n",
        "# Plot the feature importances of the forest\n",
        "plt.figure()\n",
        "plt.title(\"Feature importances\")\n",
        "plt.bar(range(X.shape[1]), importances[indices],\n",
        "       color=\"r\", yerr=std[indices], align=\"center\")\n",
        "plt.xticks(range(X.shape[1]), indices)\n",
        "plt.xlim([-1, X.shape[1]])\n",
        "plt.show()"
      ],
      "execution_count": 8,
      "outputs": [
        {
          "output_type": "stream",
          "text": [
            "Feature ranking:\n",
            "1. feature age (0.164047)\n",
            "2. feature emp.var.rate (0.117021)\n",
            "3. feature campaign (0.083560)\n",
            "4. feature month=sep (0.049478)\n",
            "5. feature nr.employed (0.034052)\n",
            "6. feature cons.conf.idx (0.027570)\n",
            "7. feature cons.price.idx (0.023012)\n",
            "8. feature poutcome=nonexistent (0.022943)\n",
            "9. feature education=unknown (0.022474)\n",
            "10. feature euribor3m (0.021194)\n",
            "11. feature housing=unknown (0.021185)\n",
            "12. feature housing=yes (0.017653)\n",
            "13. feature marital=divorced (0.016720)\n",
            "14. feature education=basic.9y (0.016283)\n",
            "15. feature education=professional.course (0.016191)\n",
            "16. feature marital=married (0.014782)\n",
            "17. feature day_of_week=mon (0.014618)\n",
            "18. feature day_of_week=wed (0.014473)\n",
            "19. feature poutcome=success (0.014427)\n",
            "20. feature day_of_week=thu (0.014243)\n",
            "21. feature day_of_week=tue (0.014166)\n",
            "22. feature job=student (0.014008)\n",
            "23. feature job=unknown (0.014003)\n",
            "24. feature loan=unknown (0.013831)\n",
            "25. feature day_of_week=fri (0.013753)\n",
            "26. feature education=illiterate (0.011851)\n",
            "27. feature job=admin. (0.011798)\n",
            "28. feature education=basic.6y (0.011275)\n",
            "29. feature loan=yes (0.010415)\n",
            "30. feature job=housemaid (0.009447)\n",
            "31. feature job=self-employed (0.009024)\n",
            "32. feature contact=telephone (0.008300)\n",
            "33. feature duration (0.008157)\n",
            "34. feature contact=cellular (0.007694)\n",
            "35. feature pdays (0.007676)\n",
            "36. feature poutcome=failure (0.007590)\n",
            "37. feature default=unknown (0.007252)\n",
            "38. feature default=no (0.007184)\n",
            "39. feature job=management (0.007027)\n",
            "40. feature education=basic.4y (0.006778)\n",
            "41. feature education=university.degree (0.006760)\n",
            "42. feature job=retired (0.006212)\n",
            "43. feature job=blue-collar (0.005778)\n",
            "44. feature month=nov (0.005462)\n",
            "45. feature job=services (0.005384)\n",
            "46. feature job=technician (0.004991)\n",
            "47. feature month=mar (0.004532)\n",
            "48. feature job=entrepreneur (0.004431)\n",
            "49. feature month=jun (0.004220)\n",
            "50. feature marital=unknown (0.003309)\n",
            "51. feature month=jul (0.003013)\n",
            "52. feature month=dec (0.002521)\n",
            "53. feature month=apr (0.002500)\n",
            "54. feature loan=no (0.002475)\n",
            "55. feature housing=no (0.002460)\n",
            "56. feature month=oct (0.002417)\n",
            "57. feature job=unemployed (0.002256)\n",
            "58. feature month=may (0.002140)\n",
            "59. feature month=aug (0.000844)\n",
            "60. feature marital=single (0.000843)\n",
            "61. feature education=high.school (0.000297)\n",
            "62. feature default=yes (0.000001)\n"
          ],
          "name": "stdout"
        },
        {
          "output_type": "display_data",
          "data": {
            "image/png": "[encoded data removed]",
            "text/plain": [
              "<Figure size 432x288 with 1 Axes>"
            ]
          },
          "metadata": {
            "tags": []
          }
        }
      ]
    },
    {
      "metadata": {
        "id": "-cPan-DoaoXk",
        "colab_type": "code",
        "colab": {
          "base_uri": "https://localhost:8080/",
          "height": 279
        },
        "outputId": "4e70a574-a286-4253-c564-f58dce45cff4"
      },
      "cell_type": "code",
      "source": [
        "ax = sns.regplot(x=\"age\", y=\"y=yes\", order=3, data=df, truncate=True)\n"
      ],
      "execution_count": 9,
      "outputs": [
        {
          "output_type": "display_data",
          "data": {
            "image/png": "[encoded data removed]",
            "text/plain": [
              "<Figure size 432x288 with 1 Axes>"
            ]
          },
          "metadata": {
            "tags": []
          }
        }
      ]
    },
    {
      "metadata": {
        "id": "4XFe-9GmaoXp",
        "colab_type": "code",
        "colab": {
          "base_uri": "https://localhost:8080/",
          "height": 279
        },
        "outputId": "8b7edafd-0b2c-4330-81c2-8dbcfdf500b7"
      },
      "cell_type": "code",
      "source": [
        "ax = sns.regplot(x=\"campaign\", y=\"y=yes\", order=1, data=df, truncate=True)\n"
      ],
      "execution_count": 10,
      "outputs": [
        {
          "output_type": "display_data",
          "data": {
            "image/png": "[encoded data removed]",
            "text/plain": [
              "<Figure size 432x288 with 1 Axes>"
            ]
          },
          "metadata": {
            "tags": []
          }
        }
      ]
    },
    {
      "metadata": {
        "id": "nAYv5rypaoXs",
        "colab_type": "text"
      },
      "cell_type": "markdown",
      "source": [
        "Shows that any campaign after 20 is useless. Hence no customer must be approached more than 20 times.\n"
      ]
    },
    {
      "metadata": {
        "id": "LAUIpmJyaoXt",
        "colab_type": "code",
        "colab": {
          "base_uri": "https://localhost:8080/",
          "height": 253
        },
        "outputId": "280c8224-58cb-48a7-c666-6473620f7551"
      },
      "cell_type": "code",
      "source": [
        "df.loc[(df['campaign'] >15) & (df['y=yes']==1)]\n"
      ],
      "execution_count": 11,
      "outputs": [
        {
          "output_type": "execute_result",
          "data": {
            "text/html": [
              "<div>\n",
              "<style scoped>\n",
              "    .dataframe tbody tr th:only-of-type {\n",
              "        vertical-align: middle;\n",
              "    }\n",
              "\n",
              "    .dataframe tbody tr th {\n",
              "        vertical-align: top;\n",
              "    }\n",
              "\n",
              "    .dataframe thead th {\n",
              "        text-align: right;\n",
              "    }\n",
              "</style>\n",
              "<table border=\"1\" class=\"dataframe\">\n",
              "  <thead>\n",
              "    <tr style=\"text-align: right;\">\n",
              "      <th></th>\n",
              "      <th>age</th>\n",
              "      <th>campaign</th>\n",
              "      <th>cons.conf.idx</th>\n",
              "      <th>cons.price.idx</th>\n",
              "      <th>contact=cellular</th>\n",
              "      <th>contact=telephone</th>\n",
              "      <th>day_of_week=fri</th>\n",
              "      <th>day_of_week=mon</th>\n",
              "      <th>day_of_week=thu</th>\n",
              "      <th>day_of_week=tue</th>\n",
              "      <th>...</th>\n",
              "      <th>month=oct</th>\n",
              "      <th>month=sep</th>\n",
              "      <th>nr.employed</th>\n",
              "      <th>pdays</th>\n",
              "      <th>poutcome=failure</th>\n",
              "      <th>poutcome=nonexistent</th>\n",
              "      <th>poutcome=success</th>\n",
              "      <th>previous</th>\n",
              "      <th>y=no</th>\n",
              "      <th>y=yes</th>\n",
              "    </tr>\n",
              "  </thead>\n",
              "  <tbody>\n",
              "    <tr>\n",
              "      <th>3219</th>\n",
              "      <td>39.0</td>\n",
              "      <td>23.0</td>\n",
              "      <td>-36.4</td>\n",
              "      <td>93.994</td>\n",
              "      <td>0.0</td>\n",
              "      <td>1.0</td>\n",
              "      <td>0.0</td>\n",
              "      <td>0.0</td>\n",
              "      <td>1.0</td>\n",
              "      <td>0.0</td>\n",
              "      <td>...</td>\n",
              "      <td>0.0</td>\n",
              "      <td>0.0</td>\n",
              "      <td>5191.0</td>\n",
              "      <td>999.0</td>\n",
              "      <td>0.0</td>\n",
              "      <td>1.0</td>\n",
              "      <td>0.0</td>\n",
              "      <td>0.0</td>\n",
              "      <td>0.0</td>\n",
              "      <td>1.0</td>\n",
              "    </tr>\n",
              "    <tr>\n",
              "      <th>10162</th>\n",
              "      <td>44.0</td>\n",
              "      <td>17.0</td>\n",
              "      <td>-41.8</td>\n",
              "      <td>94.465</td>\n",
              "      <td>0.0</td>\n",
              "      <td>1.0</td>\n",
              "      <td>0.0</td>\n",
              "      <td>0.0</td>\n",
              "      <td>1.0</td>\n",
              "      <td>0.0</td>\n",
              "      <td>...</td>\n",
              "      <td>0.0</td>\n",
              "      <td>0.0</td>\n",
              "      <td>5228.1</td>\n",
              "      <td>999.0</td>\n",
              "      <td>0.0</td>\n",
              "      <td>1.0</td>\n",
              "      <td>0.0</td>\n",
              "      <td>0.0</td>\n",
              "      <td>0.0</td>\n",
              "      <td>1.0</td>\n",
              "    </tr>\n",
              "    <tr>\n",
              "      <th>17284</th>\n",
              "      <td>59.0</td>\n",
              "      <td>17.0</td>\n",
              "      <td>-42.7</td>\n",
              "      <td>93.918</td>\n",
              "      <td>1.0</td>\n",
              "      <td>0.0</td>\n",
              "      <td>1.0</td>\n",
              "      <td>0.0</td>\n",
              "      <td>0.0</td>\n",
              "      <td>0.0</td>\n",
              "      <td>...</td>\n",
              "      <td>0.0</td>\n",
              "      <td>0.0</td>\n",
              "      <td>5228.1</td>\n",
              "      <td>999.0</td>\n",
              "      <td>0.0</td>\n",
              "      <td>1.0</td>\n",
              "      <td>0.0</td>\n",
              "      <td>0.0</td>\n",
              "      <td>0.0</td>\n",
              "      <td>1.0</td>\n",
              "    </tr>\n",
              "    <tr>\n",
              "      <th>17655</th>\n",
              "      <td>50.0</td>\n",
              "      <td>17.0</td>\n",
              "      <td>-42.7</td>\n",
              "      <td>93.918</td>\n",
              "      <td>0.0</td>\n",
              "      <td>1.0</td>\n",
              "      <td>0.0</td>\n",
              "      <td>1.0</td>\n",
              "      <td>0.0</td>\n",
              "      <td>0.0</td>\n",
              "      <td>...</td>\n",
              "      <td>0.0</td>\n",
              "      <td>0.0</td>\n",
              "      <td>5228.1</td>\n",
              "      <td>999.0</td>\n",
              "      <td>0.0</td>\n",
              "      <td>1.0</td>\n",
              "      <td>0.0</td>\n",
              "      <td>0.0</td>\n",
              "      <td>0.0</td>\n",
              "      <td>1.0</td>\n",
              "    </tr>\n",
              "    <tr>\n",
              "      <th>29980</th>\n",
              "      <td>31.0</td>\n",
              "      <td>17.0</td>\n",
              "      <td>-47.1</td>\n",
              "      <td>93.075</td>\n",
              "      <td>0.0</td>\n",
              "      <td>1.0</td>\n",
              "      <td>0.0</td>\n",
              "      <td>0.0</td>\n",
              "      <td>0.0</td>\n",
              "      <td>1.0</td>\n",
              "      <td>...</td>\n",
              "      <td>0.0</td>\n",
              "      <td>0.0</td>\n",
              "      <td>5099.1</td>\n",
              "      <td>999.0</td>\n",
              "      <td>0.0</td>\n",
              "      <td>1.0</td>\n",
              "      <td>0.0</td>\n",
              "      <td>0.0</td>\n",
              "      <td>0.0</td>\n",
              "      <td>1.0</td>\n",
              "    </tr>\n",
              "  </tbody>\n",
              "</table>\n",
              "<p>5 rows × 65 columns</p>\n",
              "</div>"
            ],
            "text/plain": [
              "        age  campaign  cons.conf.idx  cons.price.idx  contact=cellular  \\\n",
              "3219   39.0      23.0          -36.4          93.994               0.0   \n",
              "10162  44.0      17.0          -41.8          94.465               0.0   \n",
              "17284  59.0      17.0          -42.7          93.918               1.0   \n",
              "17655  50.0      17.0          -42.7          93.918               0.0   \n",
              "29980  31.0      17.0          -47.1          93.075               0.0   \n",
              "\n",
              "       contact=telephone  day_of_week=fri  day_of_week=mon  day_of_week=thu  \\\n",
              "3219                 1.0              0.0              0.0              1.0   \n",
              "10162                1.0              0.0              0.0              1.0   \n",
              "17284                0.0              1.0              0.0              0.0   \n",
              "17655                1.0              0.0              1.0              0.0   \n",
              "29980                1.0              0.0              0.0              0.0   \n",
              "\n",
              "       day_of_week=tue  ...    month=oct  month=sep  nr.employed  pdays  \\\n",
              "3219               0.0  ...          0.0        0.0       5191.0  999.0   \n",
              "10162              0.0  ...          0.0        0.0       5228.1  999.0   \n",
              "17284              0.0  ...          0.0        0.0       5228.1  999.0   \n",
              "17655              0.0  ...          0.0        0.0       5228.1  999.0   \n",
              "29980              1.0  ...          0.0        0.0       5099.1  999.0   \n",
              "\n",
              "       poutcome=failure  poutcome=nonexistent  poutcome=success  previous  \\\n",
              "3219                0.0                   1.0               0.0       0.0   \n",
              "10162               0.0                   1.0               0.0       0.0   \n",
              "17284               0.0                   1.0               0.0       0.0   \n",
              "17655               0.0                   1.0               0.0       0.0   \n",
              "29980               0.0                   1.0               0.0       0.0   \n",
              "\n",
              "       y=no  y=yes  \n",
              "3219    0.0    1.0  \n",
              "10162   0.0    1.0  \n",
              "17284   0.0    1.0  \n",
              "17655   0.0    1.0  \n",
              "29980   0.0    1.0  \n",
              "\n",
              "[5 rows x 65 columns]"
            ]
          },
          "metadata": {
            "tags": []
          },
          "execution_count": 11
        }
      ]
    },
    {
      "metadata": {
        "id": "MrfdFztiaoXw",
        "colab_type": "code",
        "colab": {
          "base_uri": "https://localhost:8080/",
          "height": 279
        },
        "outputId": "fc8db82d-8139-4469-ab14-3bd8e132292d"
      },
      "cell_type": "code",
      "source": [
        "ax = sns.regplot(x=\"emp.var.rate\", y=\"y=yes\", order=1, data=df, truncate=True)\n"
      ],
      "execution_count": 12,
      "outputs": [
        {
          "output_type": "display_data",
          "data": {
            "image/png": "[encoded data removed]",
            "text/plain": [
              "<Figure size 432x288 with 1 Axes>"
            ]
          },
          "metadata": {
            "tags": []
          }
        }
      ]
    },
    {
      "metadata": {
        "id": "F0RaB4MIaoXz",
        "colab_type": "code",
        "colab": {
          "base_uri": "https://localhost:8080/",
          "height": 279
        },
        "outputId": "492ec562-7413-4fa4-8bc7-67e572adf07c"
      },
      "cell_type": "code",
      "source": [
        "ax = sns.regplot(x=\"nr.employed\", y=\"y=yes\", order=1, data=df, truncate=True)\n"
      ],
      "execution_count": 13,
      "outputs": [
        {
          "output_type": "display_data",
          "data": {
            "image/png": "[encoded data removed]",
            "text/plain": [
              "<Figure size 432x288 with 1 Axes>"
            ]
          },
          "metadata": {
            "tags": []
          }
        }
      ]
    },
    {
      "metadata": {
        "id": "h-b9veCVaoX2",
        "colab_type": "code",
        "colab": {
          "base_uri": "https://localhost:8080/",
          "height": 279
        },
        "outputId": "1fff4fcd-ec6f-4a45-beb4-951c1b9a6f93"
      },
      "cell_type": "code",
      "source": [
        "ax = sns.regplot(x=\"age\", y=\"y=yes\", order=1, data=df, truncate=True)\n"
      ],
      "execution_count": 14,
      "outputs": [
        {
          "output_type": "display_data",
          "data": {
            "image/png": "[encoded data removed]",
            "text/plain": [
              "<Figure size 432x288 with 1 Axes>"
            ]
          },
          "metadata": {
            "tags": []
          }
        }
      ]
    },
    {
      "metadata": {
        "id": "b01BxBbmaoX6",
        "colab_type": "code",
        "colab": {
          "base_uri": "https://localhost:8080/",
          "height": 279
        },
        "outputId": "6f6abc04-c349-459b-9abd-2c753d890a38"
      },
      "cell_type": "code",
      "source": [
        "ax = sns.regplot(x=\"duration\", y=\"y=yes\", order=1, data=df, truncate=True)\n"
      ],
      "execution_count": 15,
      "outputs": [
        {
          "output_type": "display_data",
          "data": {
            "image/png": "[encoded data removed]",
            "text/plain": [
              "<Figure size 432x288 with 1 Axes>"
            ]
          },
          "metadata": {
            "tags": []
          }
        }
      ]
    },
    {
      "metadata": {
        "id": "1PV-jvltaoX-",
        "colab_type": "code",
        "colab": {
          "base_uri": "https://localhost:8080/",
          "height": 279
        },
        "outputId": "a1cba8ed-763c-4e99-9b44-cb20585ce884"
      },
      "cell_type": "code",
      "source": [
        "ax = sns.regplot(x=\"contact=telephone\", y=\"y=yes\", order=1, data=df, truncate=True)\n"
      ],
      "execution_count": 16,
      "outputs": [
        {
          "output_type": "display_data",
          "data": {
            "image/png": "[encoded data removed]",
            "text/plain": [
              "<Figure size 432x288 with 1 Axes>"
            ]
          },
          "metadata": {
            "tags": []
          }
        }
      ]
    },
    {
      "metadata": {
        "id": "lQpkD-XMaoYC",
        "colab_type": "code",
        "colab": {
          "base_uri": "https://localhost:8080/",
          "height": 279
        },
        "outputId": "f050aab5-7010-4423-85cb-58953d70548c"
      },
      "cell_type": "code",
      "source": [
        "ax = sns.regplot(x=\"month=sep\", y=\"y=yes\", order=1, data=df, truncate=True)\n"
      ],
      "execution_count": 17,
      "outputs": [
        {
          "output_type": "display_data",
          "data": {
            "image/png": "[encoded data removed]",
            "text/plain": [
              "<Figure size 432x288 with 1 Axes>"
            ]
          },
          "metadata": {
            "tags": []
          }
        }
      ]
    },
    {
      "metadata": {
        "id": "2m7ykLL7aoYG",
        "colab_type": "code",
        "colab": {
          "base_uri": "https://localhost:8080/",
          "height": 279
        },
        "outputId": "9d7e7a75-00a4-4693-a49d-a0f8e5b393bb"
      },
      "cell_type": "code",
      "source": [
        "ax = sns.regplot(x=\"cons.conf.idx\", y=\"y=yes\", order=1, data=df, truncate=True)\n"
      ],
      "execution_count": 18,
      "outputs": [
        {
          "output_type": "display_data",
          "data": {
            "image/png": "[encoded data removed]",
            "text/plain": [
              "<Figure size 432x288 with 1 Axes>"
            ]
          },
          "metadata": {
            "tags": []
          }
        }
      ]
    },
    {
      "metadata": {
        "id": "SAENNIn3aoYJ",
        "colab_type": "code",
        "colab": {
          "base_uri": "https://localhost:8080/",
          "height": 279
        },
        "outputId": "5c1e9477-4b39-451a-c3dc-f03155d3c3dd"
      },
      "cell_type": "code",
      "source": [
        "ax = sns.regplot(x=\"poutcome=nonexistent\", y=\"y=yes\", order=1, data=df, truncate=True)\n"
      ],
      "execution_count": 19,
      "outputs": [
        {
          "output_type": "display_data",
          "data": {
            "image/png": "[encoded data removed]",
            "text/plain": [
              "<Figure size 432x288 with 1 Axes>"
            ]
          },
          "metadata": {
            "tags": []
          }
        }
      ]
    },
    {
      "metadata": {
        "id": "GzNS6uXFaoYN",
        "colab_type": "code",
        "colab": {
          "base_uri": "https://localhost:8080/",
          "height": 279
        },
        "outputId": "96881592-f06e-4880-bd87-b813ee96b69b"
      },
      "cell_type": "code",
      "source": [
        "ax = sns.regplot(x=\"education=unknown\", y=\"y=yes\", order=1, data=df, truncate=True)\n"
      ],
      "execution_count": 20,
      "outputs": [
        {
          "output_type": "display_data",
          "data": {
            "image/png": "[encoded data removed]",
            "text/plain": [
              "<Figure size 432x288 with 1 Axes>"
            ]
          },
          "metadata": {
            "tags": []
          }
        }
      ]
    },
    {
      "metadata": {
        "id": "gHqBTHisaoYP",
        "colab_type": "code",
        "colab": {
          "base_uri": "https://localhost:8080/",
          "height": 279
        },
        "outputId": "e21c0826-d2af-4670-b19a-44c6a1e4c45d"
      },
      "cell_type": "code",
      "source": [
        "ax = sns.regplot(x=\"euribor3m\", y=\"y=yes\", order=1, data=df, truncate=True)\n"
      ],
      "execution_count": 21,
      "outputs": [
        {
          "output_type": "display_data",
          "data": {
            "image/png": "[encoded data removed]",
            "text/plain": [
              "<Figure size 432x288 with 1 Axes>"
            ]
          },
          "metadata": {
            "tags": []
          }
        }
      ]
    },
    {
      "metadata": {
        "id": "7_3G91UsaoYT",
        "colab_type": "code",
        "colab": {
          "base_uri": "https://localhost:8080/",
          "height": 279
        },
        "outputId": "ba084342-f59f-4b2d-eb4d-9fffe499e302"
      },
      "cell_type": "code",
      "source": [
        "ax = sns.regplot(x=\"housing=unknown\", y=\"y=yes\", order=1, data=df, truncate=True)\n"
      ],
      "execution_count": 22,
      "outputs": [
        {
          "output_type": "display_data",
          "data": {
            "image/png": "[encoded data removed]",
            "text/plain": [
              "<Figure size 432x288 with 1 Axes>"
            ]
          },
          "metadata": {
            "tags": []
          }
        }
      ]
    },
    {
      "metadata": {
        "id": "ysqMPVr6aoYV",
        "colab_type": "code",
        "colab": {
          "base_uri": "https://localhost:8080/",
          "height": 279
        },
        "outputId": "18e5149d-11e7-4e46-a6d8-a9da959afa18"
      },
      "cell_type": "code",
      "source": [
        "ax = sns.regplot(x=\"housing=yes\", y=\"y=yes\", order=1, data=df, truncate=True)\n"
      ],
      "execution_count": 23,
      "outputs": [
        {
          "output_type": "display_data",
          "data": {
            "image/png": "[encoded data removed]",
            "text/plain": [
              "<Figure size 432x288 with 1 Axes>"
            ]
          },
          "metadata": {
            "tags": []
          }
        }
      ]
    },
    {
      "metadata": {
        "id": "lVrIZO29aoYY",
        "colab_type": "text"
      },
      "cell_type": "markdown",
      "source": [
        "# Let's optimize using campaign\n"
      ]
    },
    {
      "metadata": {
        "id": "YiAfr1qtaoYZ",
        "colab_type": "code",
        "colab": {
          "base_uri": "https://localhost:8080/",
          "height": 34
        },
        "outputId": "dcc1e875-de18-47e4-bf2f-1d70ff12a130"
      },
      "cell_type": "code",
      "source": [
        "# Total Conversion ratio\n",
        "sum(df['y=yes'])/sum(df['campaign'])"
      ],
      "execution_count": 24,
      "outputs": [
        {
          "output_type": "execute_result",
          "data": {
            "text/plain": [
              "0.043875408967982296"
            ]
          },
          "metadata": {
            "tags": []
          },
          "execution_count": 24
        }
      ]
    },
    {
      "metadata": {
        "id": "vO4Kzy-VaoYb",
        "colab_type": "code",
        "colab": {
          "base_uri": "https://localhost:8080/",
          "height": 527
        },
        "outputId": "e33d625e-fdd5-4037-8941-0a58b397090f"
      },
      "cell_type": "code",
      "source": [
        "# Now let's see efficiancy on every additional call\n",
        "print(\"Nth Call \\t Efficiency\")\n",
        "for i in range(1,30):\n",
        "    goo = sum(df.loc[df['campaign']==i]['y=yes']) / float(df.loc[df['campaign'] >= i].shape[0])\n",
        "    print (str((i))+\" \\t\\t \"+str(goo))"
      ],
      "execution_count": 25,
      "outputs": [
        {
          "output_type": "stream",
          "text": [
            "Nth Call \t Efficiency\n",
            "1 \t\t 0.05584150723511702\n",
            "2 \t\t 0.05143124097511254\n",
            "3 \t\t 0.04423551171393342\n",
            "4 \t\t 0.03261296660117878\n",
            "5 \t\t 0.024077046548956663\n",
            "6 \t\t 0.022156573116691284\n",
            "7 \t\t 0.015793848711554447\n",
            "8 \t\t 0.009566685424873381\n",
            "9 \t\t 0.012345679012345678\n",
            "10 \t\t 0.010968921389396709\n",
            "11 \t\t 0.01380897583429229\n",
            "12 \t\t 0.004335260115606936\n",
            "13 \t\t 0.007054673721340388\n",
            "14 \t\t 0.002105263157894737\n",
            "15 \t\t 0.0049261083743842365\n",
            "16 \t\t 0.0\n",
            "17 \t\t 0.013157894736842105\n",
            "18 \t\t 0.0\n",
            "19 \t\t 0.0\n",
            "20 \t\t 0.0\n",
            "21 \t\t 0.0\n",
            "22 \t\t 0.0\n",
            "23 \t\t 0.008620689655172414\n",
            "24 \t\t 0.0\n",
            "25 \t\t 0.0\n",
            "26 \t\t 0.0\n",
            "27 \t\t 0.0\n",
            "28 \t\t 0.0\n",
            "29 \t\t 0.0\n"
          ],
          "name": "stdout"
        }
      ]
    },
    {
      "metadata": {
        "id": "GNPIYH7YaoYd",
        "colab_type": "text"
      },
      "cell_type": "markdown",
      "source": [
        "The Market acceptable conversion ratio is 2-10% so it is a fair to say any call after the 6th call is not acceptable since it has a conversion ratio of less than 1.6%"
      ]
    },
    {
      "metadata": {
        "id": "pj8lA0FBaoYe",
        "colab_type": "text"
      },
      "cell_type": "markdown",
      "source": [
        "# Now Let's evaluate how much we can optimize on age.\n"
      ]
    },
    {
      "metadata": {
        "id": "UZrt4aKwaoYe",
        "colab_type": "text"
      },
      "cell_type": "markdown",
      "source": [
        "Let's divide age into 10 year brackets"
      ]
    },
    {
      "metadata": {
        "id": "oDOG5Sx0aoYf",
        "colab_type": "code",
        "colab": {
          "base_uri": "https://localhost:8080/",
          "height": 544
        },
        "outputId": "1d85a3cd-9469-48d4-902d-179b35e1d951"
      },
      "cell_type": "code",
      "source": [
        "print(\"For age upto 30\")\n",
        "print(\"Nth Call \\t Efficiency\")\n",
        "for i in range(1,30):\n",
        "    num = float(df[(df['age'] <= 30) & (df['campaign']==i) & (df['y=yes']==1)].shape[0])\n",
        "    den = 1+float(df[(df['age'] <= 30) & (df['campaign'] >= i)].shape[0])\n",
        "    print (str((i))+\" \\t\\t \"+str(num/den))"
      ],
      "execution_count": 26,
      "outputs": [
        {
          "output_type": "stream",
          "text": [
            "For age upto 30\n",
            "Nth Call \t Efficiency\n",
            "1 \t\t 0.07502708559046588\n",
            "2 \t\t 0.07100309745055992\n",
            "3 \t\t 0.06274509803921569\n",
            "4 \t\t 0.04447739065974796\n",
            "5 \t\t 0.03882352941176471\n",
            "6 \t\t 0.02058319039451115\n",
            "7 \t\t 0.030805687203791468\n",
            "8 \t\t 0.006493506493506494\n",
            "9 \t\t 0.012875536480686695\n",
            "10 \t\t 0.005376344086021506\n",
            "11 \t\t 0.013888888888888888\n",
            "12 \t\t 0.0\n",
            "13 \t\t 0.010869565217391304\n",
            "14 \t\t 0.0\n",
            "15 \t\t 0.014705882352941176\n",
            "16 \t\t 0.0\n",
            "17 \t\t 0.0\n",
            "18 \t\t 0.0\n",
            "19 \t\t 0.0\n",
            "20 \t\t 0.0\n",
            "21 \t\t 0.0\n",
            "22 \t\t 0.0\n",
            "23 \t\t 0.0\n",
            "24 \t\t 0.0\n",
            "25 \t\t 0.0\n",
            "26 \t\t 0.0\n",
            "27 \t\t 0.0\n",
            "28 \t\t 0.0\n",
            "29 \t\t 0.0\n"
          ],
          "name": "stdout"
        }
      ]
    },
    {
      "metadata": {
        "id": "_WTDm57YaoYi",
        "colab_type": "code",
        "colab": {
          "base_uri": "https://localhost:8080/",
          "height": 544
        },
        "outputId": "dd0c57a0-beb2-4abd-87a8-e2687a53ffe3"
      },
      "cell_type": "code",
      "source": [
        "print(\"For age between 30-40\")\n",
        "print (\"Nth Call \\t Efficiency\")\n",
        "for i in range(1,30):\n",
        "    num = float(df[(df['age'] <= 40) & (df['age'] > 30) & (df['campaign']==i) & (df['y=yes']==1)].shape[0])\n",
        "    den = 1+float(df[(df['age'] <= 40) & (df['age'] > 30) & (df['campaign'] >= i)].shape[0])\n",
        "    print (str((i))+\" \\t\\t \"+str(num/den))"
      ],
      "execution_count": 27,
      "outputs": [
        {
          "output_type": "stream",
          "text": [
            "For age between 30-40\n",
            "Nth Call \t Efficiency\n",
            "1 \t\t 0.04882216526302942\n",
            "2 \t\t 0.042643923240938165\n",
            "3 \t\t 0.04005444293214078\n",
            "4 \t\t 0.028093645484949834\n",
            "5 \t\t 0.02048131080389145\n",
            "6 \t\t 0.024279210925644917\n",
            "7 \t\t 0.007494646680942184\n",
            "8 \t\t 0.008746355685131196\n",
            "9 \t\t 0.011538461538461539\n",
            "10 \t\t 0.011990407673860911\n",
            "11 \t\t 0.015015015015015015\n",
            "12 \t\t 0.0076045627376425855\n",
            "13 \t\t 0.009523809523809525\n",
            "14 \t\t 0.0\n",
            "15 \t\t 0.0\n",
            "16 \t\t 0.0\n",
            "17 \t\t 0.009259259259259259\n",
            "18 \t\t 0.0\n",
            "19 \t\t 0.0\n",
            "20 \t\t 0.0\n",
            "21 \t\t 0.0\n",
            "22 \t\t 0.0\n",
            "23 \t\t 0.02040816326530612\n",
            "24 \t\t 0.0\n",
            "25 \t\t 0.0\n",
            "26 \t\t 0.0\n",
            "27 \t\t 0.0\n",
            "28 \t\t 0.0\n",
            "29 \t\t 0.0\n"
          ],
          "name": "stdout"
        }
      ]
    },
    {
      "metadata": {
        "id": "T_nBH3ZdaoYk",
        "colab_type": "code",
        "colab": {
          "base_uri": "https://localhost:8080/",
          "height": 544
        },
        "outputId": "7aeea48f-2719-4feb-d556-8b3c19d26677"
      },
      "cell_type": "code",
      "source": [
        "print(\"For age between 40-50\")\n",
        "print (\"Nth Call \\t Efficiency\")\n",
        "for i in range(1,30):\n",
        "    num = float(df[(df['age'] <= 50) & (df['age'] > 40) & (df['campaign']==i) & (df['y=yes']==1)].shape[0])\n",
        "    den = 1+float(df[(df['age'] <= 50) & (df['age'] > 40) & (df['campaign'] >= i)].shape[0])\n",
        "    print (str((i))+\" \\t\\t \"+str(num/den))"
      ],
      "execution_count": 28,
      "outputs": [
        {
          "output_type": "stream",
          "text": [
            "For age between 40-50\n",
            "Nth Call \t Efficiency\n",
            "1 \t\t 0.03925397910360316\n",
            "2 \t\t 0.036345108695652176\n",
            "3 \t\t 0.03047676523838262\n",
            "4 \t\t 0.027820710973724884\n",
            "5 \t\t 0.020737327188940093\n",
            "6 \t\t 0.016853932584269662\n",
            "7 \t\t 0.008012820512820512\n",
            "8 \t\t 0.008368200836820083\n",
            "9 \t\t 0.005333333333333333\n",
            "10 \t\t 0.013888888888888888\n",
            "11 \t\t 0.017316017316017316\n",
            "12 \t\t 0.005434782608695652\n",
            "13 \t\t 0.006622516556291391\n",
            "14 \t\t 0.007936507936507936\n",
            "15 \t\t 0.0\n",
            "16 \t\t 0.0\n",
            "17 \t\t 0.023529411764705882\n",
            "18 \t\t 0.0\n",
            "19 \t\t 0.0\n",
            "20 \t\t 0.0\n",
            "21 \t\t 0.0\n",
            "22 \t\t 0.0\n",
            "23 \t\t 0.0\n",
            "24 \t\t 0.0\n",
            "25 \t\t 0.0\n",
            "26 \t\t 0.0\n",
            "27 \t\t 0.0\n",
            "28 \t\t 0.0\n",
            "29 \t\t 0.0\n"
          ],
          "name": "stdout"
        }
      ]
    },
    {
      "metadata": {
        "id": "pqDKdgJ9aoYp",
        "colab_type": "code",
        "colab": {
          "base_uri": "https://localhost:8080/",
          "height": 544
        },
        "outputId": "e4af7215-2593-4c16-c49a-ce354d69b1c7"
      },
      "cell_type": "code",
      "source": [
        "print(\"For age between 50-60\")\n",
        "print(\"Nth Call \\t Efficiency\")\n",
        "for i in range(1,30):\n",
        "    num = float(df[(df['age'] <= 60) & (df['age'] > 50) & (df['campaign']==i) & (df['y=yes']==1)].shape[0])\n",
        "    den = 1+float(df[(df['age'] <= 60) & (df['age'] > 50) & (df['campaign'] >= i)].shape[0])\n",
        "    print (str((i))+\" \\t\\t \"+str(num/den))\n"
      ],
      "execution_count": 29,
      "outputs": [
        {
          "output_type": "stream",
          "text": [
            "For age between 50-60\n",
            "Nth Call \t Efficiency\n",
            "1 \t\t 0.050709615691277306\n",
            "2 \t\t 0.05120481927710843\n",
            "3 \t\t 0.040806293018682396\n",
            "4 \t\t 0.024681528662420384\n",
            "5 \t\t 0.016766467065868262\n",
            "6 \t\t 0.02120141342756184\n",
            "7 \t\t 0.022004889975550123\n",
            "8 \t\t 0.013559322033898305\n",
            "9 \t\t 0.024489795918367346\n",
            "10 \t\t 0.009900990099009901\n",
            "11 \t\t 0.0\n",
            "12 \t\t 0.0\n",
            "13 \t\t 0.0\n",
            "14 \t\t 0.0\n",
            "15 \t\t 0.011363636363636364\n",
            "16 \t\t 0.0\n",
            "17 \t\t 0.016129032258064516\n",
            "18 \t\t 0.0\n",
            "19 \t\t 0.0\n",
            "20 \t\t 0.0\n",
            "21 \t\t 0.0\n",
            "22 \t\t 0.0\n",
            "23 \t\t 0.0\n",
            "24 \t\t 0.0\n",
            "25 \t\t 0.0\n",
            "26 \t\t 0.0\n",
            "27 \t\t 0.0\n",
            "28 \t\t 0.0\n",
            "29 \t\t 0.0\n"
          ],
          "name": "stdout"
        }
      ]
    },
    {
      "metadata": {
        "id": "tFtv0z6faoYr",
        "colab_type": "text"
      },
      "cell_type": "markdown",
      "source": [
        "No extra ordinary patterns visible in age groups compared to the numbers over all ages\n",
        "\n"
      ]
    },
    {
      "metadata": {
        "id": "7sl5eIWZaoYs",
        "colab_type": "code",
        "colab": {
          "base_uri": "https://localhost:8080/",
          "height": 34
        },
        "outputId": "1fb218d8-f591-4865-e9bd-cb345d541c5e"
      },
      "cell_type": "code",
      "source": [
        "# Calculate how many calls were made in total\n",
        "total_calls = sum(df['campaign'])\n",
        "print(total_calls)"
      ],
      "execution_count": 30,
      "outputs": [
        {
          "output_type": "stream",
          "text": [
            "105754.0\n"
          ],
          "name": "stdout"
        }
      ]
    },
    {
      "metadata": {
        "id": "OA-nbk-kaoYu",
        "colab_type": "code",
        "colab": {
          "base_uri": "https://localhost:8080/",
          "height": 34
        },
        "outputId": "27cb70d5-d69e-4644-b5d3-64b9ebe476d5"
      },
      "cell_type": "code",
      "source": [
        "# Calculate how many calls were made after the 6th call\n",
        "extra_calls = sum(df[df['campaign']>6]['campaign']) - 6*df[df['campaign']>6].shape[0]\n",
        "print(extra_calls)"
      ],
      "execution_count": 31,
      "outputs": [
        {
          "output_type": "stream",
          "text": [
            "12040.0\n"
          ],
          "name": "stdout"
        }
      ]
    },
    {
      "metadata": {
        "id": "dFtl7ZgNaoYx",
        "colab_type": "code",
        "colab": {
          "base_uri": "https://localhost:8080/",
          "height": 34
        },
        "outputId": "5c1ffd78-b7cc-4eae-cc7a-b4deacd7a65a"
      },
      "cell_type": "code",
      "source": [
        "# Calculate reduction in marketing cost\n",
        "reduction=100*extra_calls/total_calls\n",
        "print(reduction)"
      ],
      "execution_count": 32,
      "outputs": [
        {
          "output_type": "stream",
          "text": [
            "11.384912154622993\n"
          ],
          "name": "stdout"
        }
      ]
    },
    {
      "metadata": {
        "id": "nY2M5s6LaoYz",
        "colab_type": "code",
        "colab": {
          "base_uri": "https://localhost:8080/",
          "height": 34
        },
        "outputId": "984b852f-8555-4834-dab2-3c76fc7c1cb7"
      },
      "cell_type": "code",
      "source": [
        "total_sales=float(df[df['y=yes']==1].shape[0])\n",
        "print(total_sales)"
      ],
      "execution_count": 33,
      "outputs": [
        {
          "output_type": "stream",
          "text": [
            "4640.0\n"
          ],
          "name": "stdout"
        }
      ]
    },
    {
      "metadata": {
        "id": "6RzTVXbraoY3",
        "colab_type": "code",
        "colab": {
          "base_uri": "https://localhost:8080/",
          "height": 34
        },
        "outputId": "6f7cd7c6-8d21-4592-9e77-f17f6f6fa981"
      },
      "cell_type": "code",
      "source": [
        "less_costly_sales=float(df[(df['campaign'] <= 6) & (df['y=yes']==1)].shape[0])\n",
        "print(less_costly_sales)"
      ],
      "execution_count": 34,
      "outputs": [
        {
          "output_type": "stream",
          "text": [
            "4529.0\n"
          ],
          "name": "stdout"
        }
      ]
    },
    {
      "metadata": {
        "id": "pS-f7jOhaoY5",
        "colab_type": "code",
        "colab": {
          "base_uri": "https://localhost:8080/",
          "height": 34
        },
        "outputId": "57705886-7bcf-4843-c036-88ddb8462d94"
      },
      "cell_type": "code",
      "source": [
        "sales_percent=100*less_costly_sales/total_sales\n",
        "print(sales_percent)"
      ],
      "execution_count": 35,
      "outputs": [
        {
          "output_type": "stream",
          "text": [
            "97.60775862068965\n"
          ],
          "name": "stdout"
        }
      ]
    },
    {
      "metadata": {
        "id": "QI5aROixaoY7",
        "colab_type": "text"
      },
      "cell_type": "markdown",
      "source": [
        "# Hence a reduction of about 11.38% in marketing cost can be achieved while maintaining 97.60% sales if any person is called a maximum of 6 times."
      ]
    },
    {
      "metadata": {
        "id": "kIv5bzBJaoY7",
        "colab_type": "code",
        "colab": {}
      },
      "cell_type": "code",
      "source": [
        ""
      ],
      "execution_count": 0,
      "outputs": []
    },
    {
      "metadata": {
        "id": "pvAdmrltbBOP",
        "colab_type": "code",
        "colab": {}
      },
      "cell_type": "code",
      "source": [
        ""
      ],
      "execution_count": 0,
      "outputs": []
    }
  ]
}