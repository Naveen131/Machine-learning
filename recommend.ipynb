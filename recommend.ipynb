{
  "nbformat": 4,
  "nbformat_minor": 0,
  "metadata": {
    "colab": {
      "name": "recommend.ipynb",
      "version": "0.3.2",
      "provenance": [],
      "include_colab_link": true
    },
    "kernelspec": {
      "name": "python3",
      "display_name": "Python 3"
    },
    "accelerator": "GPU"
  },
  "cells": [
    {
      "cell_type": "markdown",
      "metadata": {
        "id": "view-in-github",
        "colab_type": "text"
      },
      "source": [
        "<a href=\"https://colab.research.google.com/github/Naveen131/Machine-learning/blob/master/recommend.ipynb\" target=\"_parent\"><img src=\"https://colab.research.google.com/assets/colab-badge.svg\" alt=\"Open In Colab\"/></a>"
      ]
    },
    {
      "metadata": {
        "id": "HiPG5nVdV9Ab",
        "colab_type": "code",
        "colab": {}
      },
      "cell_type": "code",
      "source": [
        "import pandas as pd\n",
        "import numpy as np\n",
        "import time\n",
        "from sklearn.model_selection import train_test_split\n",
        "import turicreate as tc"
      ],
      "execution_count": 0,
      "outputs": []
    },
    {
      "metadata": {
        "id": "m1Q0QuQRWFrn",
        "colab_type": "code",
        "colab": {
          "resources": {
            "http://localhost:8080/nbextensions/google.colab/files.js": {
              "data": "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",
              "ok": true,
              "headers": [
                [
                  "content-type",
                  "application/javascript"
                ]
              ],
              "status": 200,
              "status_text": ""
            }
          },
          "base_uri": "https://localhost:8080/",
          "height": 108
        },
        "outputId": "b0d96790-e581-4998-f189-e03dce0a1f6b"
      },
      "cell_type": "code",
      "source": [
        "from google.colab import files\n",
        "uploaded = files.upload()"
      ],
      "execution_count": 4,
      "outputs": [
        {
          "output_type": "display_data",
          "data": {
            "text/html": [
              "\n",
              "     <input type=\"file\" id=\"files-23a32139-a70f-4991-ab5c-c331500960bb\" name=\"files[]\" multiple disabled />\n",
              "     <output id=\"result-23a32139-a70f-4991-ab5c-c331500960bb\">\n",
              "      Upload widget is only available when the cell has been executed in the\n",
              "      current browser session. Please rerun this cell to enable.\n",
              "      </output>\n",
              "      <script src=\"/nbextensions/google.colab/files.js\"></script> "
            ],
            "text/plain": [
              "<IPython.core.display.HTML object>"
            ]
          },
          "metadata": {
            "tags": []
          }
        },
        {
          "output_type": "stream",
          "text": [
            "Saving user_tran.csv to user_tran.csv\n",
            "Saving customers.csv to customers.csv\n"
          ],
          "name": "stdout"
        }
      ]
    },
    {
      "metadata": {
        "id": "NOS6oeS2V9Am",
        "colab_type": "text"
      },
      "cell_type": "markdown",
      "source": [
        "# Load Data"
      ]
    },
    {
      "metadata": {
        "id": "Bfh3r9VlV9Ap",
        "colab_type": "code",
        "colab": {}
      },
      "cell_type": "code",
      "source": [
        "customers = pd.read_csv('customers.csv') # list of 1000 customer ids\n",
        "transactions = pd.read_csv('user_tran.csv') # user transactions"
      ],
      "execution_count": 0,
      "outputs": []
    },
    {
      "metadata": {
        "id": "ipYjjUT5V9Au",
        "colab_type": "code",
        "colab": {
          "base_uri": "https://localhost:8080/",
          "height": 204
        },
        "outputId": "4a9d8a35-f214-44b9-cbd9-bdf009d1621d"
      },
      "cell_type": "code",
      "source": [
        "customers.head()"
      ],
      "execution_count": 25,
      "outputs": [
        {
          "output_type": "execute_result",
          "data": {
            "text/html": [
              "<div>\n",
              "<style scoped>\n",
              "    .dataframe tbody tr th:only-of-type {\n",
              "        vertical-align: middle;\n",
              "    }\n",
              "\n",
              "    .dataframe tbody tr th {\n",
              "        vertical-align: top;\n",
              "    }\n",
              "\n",
              "    .dataframe thead th {\n",
              "        text-align: right;\n",
              "    }\n",
              "</style>\n",
              "<table border=\"1\" class=\"dataframe\">\n",
              "  <thead>\n",
              "    <tr style=\"text-align: right;\">\n",
              "      <th></th>\n",
              "      <th>customerId</th>\n",
              "    </tr>\n",
              "  </thead>\n",
              "  <tbody>\n",
              "    <tr>\n",
              "      <th>0</th>\n",
              "      <td>1553</td>\n",
              "    </tr>\n",
              "    <tr>\n",
              "      <th>1</th>\n",
              "      <td>20400</td>\n",
              "    </tr>\n",
              "    <tr>\n",
              "      <th>2</th>\n",
              "      <td>19750</td>\n",
              "    </tr>\n",
              "    <tr>\n",
              "      <th>3</th>\n",
              "      <td>6334</td>\n",
              "    </tr>\n",
              "    <tr>\n",
              "      <th>4</th>\n",
              "      <td>27773</td>\n",
              "    </tr>\n",
              "  </tbody>\n",
              "</table>\n",
              "</div>"
            ],
            "text/plain": [
              "   customerId\n",
              "0        1553\n",
              "1       20400\n",
              "2       19750\n",
              "3        6334\n",
              "4       27773"
            ]
          },
          "metadata": {
            "tags": []
          },
          "execution_count": 25
        }
      ]
    },
    {
      "metadata": {
        "id": "6R3bOkDBV9A0",
        "colab_type": "code",
        "colab": {
          "base_uri": "https://localhost:8080/",
          "height": 204
        },
        "outputId": "da9d830d-139a-4716-cea4-ca8d1c4cb434"
      },
      "cell_type": "code",
      "source": [
        "transactions.head()"
      ],
      "execution_count": 26,
      "outputs": [
        {
          "output_type": "execute_result",
          "data": {
            "text/html": [
              "<div>\n",
              "<style scoped>\n",
              "    .dataframe tbody tr th:only-of-type {\n",
              "        vertical-align: middle;\n",
              "    }\n",
              "\n",
              "    .dataframe tbody tr th {\n",
              "        vertical-align: top;\n",
              "    }\n",
              "\n",
              "    .dataframe thead th {\n",
              "        text-align: right;\n",
              "    }\n",
              "</style>\n",
              "<table border=\"1\" class=\"dataframe\">\n",
              "  <thead>\n",
              "    <tr style=\"text-align: right;\">\n",
              "      <th></th>\n",
              "      <th>customerId</th>\n",
              "      <th>products</th>\n",
              "    </tr>\n",
              "  </thead>\n",
              "  <tbody>\n",
              "    <tr>\n",
              "      <th>0</th>\n",
              "      <td>0</td>\n",
              "      <td>20</td>\n",
              "    </tr>\n",
              "    <tr>\n",
              "      <th>1</th>\n",
              "      <td>1</td>\n",
              "      <td>2|2|23|68|68|111|29|86|107|152</td>\n",
              "    </tr>\n",
              "    <tr>\n",
              "      <th>2</th>\n",
              "      <td>2</td>\n",
              "      <td>111|107|29|11|11|11|33|23</td>\n",
              "    </tr>\n",
              "    <tr>\n",
              "      <th>3</th>\n",
              "      <td>3</td>\n",
              "      <td>164|227</td>\n",
              "    </tr>\n",
              "    <tr>\n",
              "      <th>4</th>\n",
              "      <td>5</td>\n",
              "      <td>2|2</td>\n",
              "    </tr>\n",
              "  </tbody>\n",
              "</table>\n",
              "</div>"
            ],
            "text/plain": [
              "   customerId                        products\n",
              "0           0                              20\n",
              "1           1  2|2|23|68|68|111|29|86|107|152\n",
              "2           2       111|107|29|11|11|11|33|23\n",
              "3           3                         164|227\n",
              "4           5                             2|2"
            ]
          },
          "metadata": {
            "tags": []
          },
          "execution_count": 26
        }
      ]
    },
    {
      "metadata": {
        "id": "nuI-jRg3V9A6",
        "colab_type": "text"
      },
      "cell_type": "markdown",
      "source": [
        "# Data Preparation"
      ]
    },
    {
      "metadata": {
        "id": "ZXswAKX4V9A7",
        "colab_type": "code",
        "colab": {}
      },
      "cell_type": "code",
      "source": [
        "\n",
        "data = pd.melt(transactions.set_index('customerId')['products'].apply(pd.Series).reset_index(), \n",
        "             id_vars=['customerId'],\n",
        "             value_name='products')\n"
      ],
      "execution_count": 0,
      "outputs": []
    },
    {
      "metadata": {
        "id": "Ej5clkovV9A-",
        "colab_type": "code",
        "colab": {
          "base_uri": "https://localhost:8080/",
          "height": 68
        },
        "outputId": "d599a4fd-9172-4468-dde9-a1d56aa69a41"
      },
      "cell_type": "code",
      "source": [
        "data= data.groupby((['customerId', 'products'])).agg({'products': 'count'})"
      ],
      "execution_count": 32,
      "outputs": [
        {
          "output_type": "stream",
          "text": [
            "/usr/local/lib/python3.6/dist-packages/ipykernel_launcher.py:1: FutureWarning: 'products' is both a column name and an index level.\n",
            "Defaulting to column but this will raise an ambiguity error in a future version\n",
            "  \"\"\"Entry point for launching an IPython kernel.\n"
          ],
          "name": "stderr"
        }
      ]
    },
    {
      "metadata": {
        "id": "iq9_-dwdV9BB",
        "colab_type": "code",
        "colab": {
          "base_uri": "https://localhost:8080/",
          "height": 1630
        },
        "outputId": "77a54403-17fa-492e-aff6-3ebd2cbd90e9"
      },
      "cell_type": "code",
      "source": [
        "data.head(50)"
      ],
      "execution_count": 33,
      "outputs": [
        {
          "output_type": "execute_result",
          "data": {
            "text/html": [
              "<div>\n",
              "<style scoped>\n",
              "    .dataframe tbody tr th:only-of-type {\n",
              "        vertical-align: middle;\n",
              "    }\n",
              "\n",
              "    .dataframe tbody tr th {\n",
              "        vertical-align: top;\n",
              "    }\n",
              "\n",
              "    .dataframe thead th {\n",
              "        text-align: right;\n",
              "    }\n",
              "</style>\n",
              "<table border=\"1\" class=\"dataframe\">\n",
              "  <thead>\n",
              "    <tr style=\"text-align: right;\">\n",
              "      <th></th>\n",
              "      <th></th>\n",
              "      <th>products</th>\n",
              "    </tr>\n",
              "    <tr>\n",
              "      <th>customerId</th>\n",
              "      <th>products</th>\n",
              "      <th></th>\n",
              "    </tr>\n",
              "  </thead>\n",
              "  <tbody>\n",
              "    <tr>\n",
              "      <th>0</th>\n",
              "      <th>1</th>\n",
              "      <td>9</td>\n",
              "    </tr>\n",
              "    <tr>\n",
              "      <th>1</th>\n",
              "      <th>1</th>\n",
              "      <td>9</td>\n",
              "    </tr>\n",
              "    <tr>\n",
              "      <th>2</th>\n",
              "      <th>1</th>\n",
              "      <td>1</td>\n",
              "    </tr>\n",
              "    <tr>\n",
              "      <th rowspan=\"2\" valign=\"top\">3</th>\n",
              "      <th>1</th>\n",
              "      <td>5</td>\n",
              "    </tr>\n",
              "    <tr>\n",
              "      <th>2</th>\n",
              "      <td>1</td>\n",
              "    </tr>\n",
              "    <tr>\n",
              "      <th>4</th>\n",
              "      <th>1</th>\n",
              "      <td>6</td>\n",
              "    </tr>\n",
              "    <tr>\n",
              "      <th>5</th>\n",
              "      <th>1</th>\n",
              "      <td>7</td>\n",
              "    </tr>\n",
              "    <tr>\n",
              "      <th>6</th>\n",
              "      <th>1</th>\n",
              "      <td>4</td>\n",
              "    </tr>\n",
              "    <tr>\n",
              "      <th>7</th>\n",
              "      <th>1</th>\n",
              "      <td>2</td>\n",
              "    </tr>\n",
              "    <tr>\n",
              "      <th>8</th>\n",
              "      <th>1</th>\n",
              "      <td>19</td>\n",
              "    </tr>\n",
              "    <tr>\n",
              "      <th>9</th>\n",
              "      <th>1</th>\n",
              "      <td>10</td>\n",
              "    </tr>\n",
              "    <tr>\n",
              "      <th rowspan=\"2\" valign=\"top\">10</th>\n",
              "      <th>1</th>\n",
              "      <td>14</td>\n",
              "    </tr>\n",
              "    <tr>\n",
              "      <th>2</th>\n",
              "      <td>1</td>\n",
              "    </tr>\n",
              "    <tr>\n",
              "      <th>11</th>\n",
              "      <th>1</th>\n",
              "      <td>14</td>\n",
              "    </tr>\n",
              "    <tr>\n",
              "      <th>12</th>\n",
              "      <th>1</th>\n",
              "      <td>2</td>\n",
              "    </tr>\n",
              "    <tr>\n",
              "      <th>13</th>\n",
              "      <th>1</th>\n",
              "      <td>4</td>\n",
              "    </tr>\n",
              "    <tr>\n",
              "      <th>14</th>\n",
              "      <th>1</th>\n",
              "      <td>18</td>\n",
              "    </tr>\n",
              "    <tr>\n",
              "      <th>15</th>\n",
              "      <th>1</th>\n",
              "      <td>2</td>\n",
              "    </tr>\n",
              "    <tr>\n",
              "      <th>16</th>\n",
              "      <th>1</th>\n",
              "      <td>5</td>\n",
              "    </tr>\n",
              "    <tr>\n",
              "      <th>17</th>\n",
              "      <th>1</th>\n",
              "      <td>8</td>\n",
              "    </tr>\n",
              "    <tr>\n",
              "      <th>18</th>\n",
              "      <th>1</th>\n",
              "      <td>1</td>\n",
              "    </tr>\n",
              "    <tr>\n",
              "      <th>19</th>\n",
              "      <th>1</th>\n",
              "      <td>6</td>\n",
              "    </tr>\n",
              "    <tr>\n",
              "      <th>20</th>\n",
              "      <th>1</th>\n",
              "      <td>5</td>\n",
              "    </tr>\n",
              "    <tr>\n",
              "      <th rowspan=\"2\" valign=\"top\">21</th>\n",
              "      <th>1</th>\n",
              "      <td>9</td>\n",
              "    </tr>\n",
              "    <tr>\n",
              "      <th>2</th>\n",
              "      <td>1</td>\n",
              "    </tr>\n",
              "    <tr>\n",
              "      <th>22</th>\n",
              "      <th>1</th>\n",
              "      <td>14</td>\n",
              "    </tr>\n",
              "    <tr>\n",
              "      <th>23</th>\n",
              "      <th>1</th>\n",
              "      <td>5</td>\n",
              "    </tr>\n",
              "    <tr>\n",
              "      <th>24</th>\n",
              "      <th>1</th>\n",
              "      <td>8</td>\n",
              "    </tr>\n",
              "    <tr>\n",
              "      <th rowspan=\"2\" valign=\"top\">25</th>\n",
              "      <th>1</th>\n",
              "      <td>11</td>\n",
              "    </tr>\n",
              "    <tr>\n",
              "      <th>2</th>\n",
              "      <td>1</td>\n",
              "    </tr>\n",
              "    <tr>\n",
              "      <th rowspan=\"2\" valign=\"top\">27</th>\n",
              "      <th>1</th>\n",
              "      <td>6</td>\n",
              "    </tr>\n",
              "    <tr>\n",
              "      <th>2</th>\n",
              "      <td>1</td>\n",
              "    </tr>\n",
              "    <tr>\n",
              "      <th>28</th>\n",
              "      <th>1</th>\n",
              "      <td>1</td>\n",
              "    </tr>\n",
              "    <tr>\n",
              "      <th>29</th>\n",
              "      <th>1</th>\n",
              "      <td>8</td>\n",
              "    </tr>\n",
              "    <tr>\n",
              "      <th>30</th>\n",
              "      <th>1</th>\n",
              "      <td>6</td>\n",
              "    </tr>\n",
              "    <tr>\n",
              "      <th>31</th>\n",
              "      <th>1</th>\n",
              "      <td>4</td>\n",
              "    </tr>\n",
              "    <tr>\n",
              "      <th>32</th>\n",
              "      <th>1</th>\n",
              "      <td>5</td>\n",
              "    </tr>\n",
              "    <tr>\n",
              "      <th rowspan=\"2\" valign=\"top\">33</th>\n",
              "      <th>1</th>\n",
              "      <td>10</td>\n",
              "    </tr>\n",
              "    <tr>\n",
              "      <th>2</th>\n",
              "      <td>1</td>\n",
              "    </tr>\n",
              "    <tr>\n",
              "      <th>34</th>\n",
              "      <th>1</th>\n",
              "      <td>5</td>\n",
              "    </tr>\n",
              "    <tr>\n",
              "      <th rowspan=\"2\" valign=\"top\">35</th>\n",
              "      <th>1</th>\n",
              "      <td>8</td>\n",
              "    </tr>\n",
              "    <tr>\n",
              "      <th>2</th>\n",
              "      <td>1</td>\n",
              "    </tr>\n",
              "    <tr>\n",
              "      <th>36</th>\n",
              "      <th>1</th>\n",
              "      <td>4</td>\n",
              "    </tr>\n",
              "    <tr>\n",
              "      <th>37</th>\n",
              "      <th>1</th>\n",
              "      <td>4</td>\n",
              "    </tr>\n",
              "    <tr>\n",
              "      <th>38</th>\n",
              "      <th>1</th>\n",
              "      <td>17</td>\n",
              "    </tr>\n",
              "    <tr>\n",
              "      <th>39</th>\n",
              "      <th>1</th>\n",
              "      <td>13</td>\n",
              "    </tr>\n",
              "    <tr>\n",
              "      <th rowspan=\"2\" valign=\"top\">40</th>\n",
              "      <th>1</th>\n",
              "      <td>9</td>\n",
              "    </tr>\n",
              "    <tr>\n",
              "      <th>2</th>\n",
              "      <td>2</td>\n",
              "    </tr>\n",
              "    <tr>\n",
              "      <th>41</th>\n",
              "      <th>1</th>\n",
              "      <td>3</td>\n",
              "    </tr>\n",
              "    <tr>\n",
              "      <th>42</th>\n",
              "      <th>1</th>\n",
              "      <td>1</td>\n",
              "    </tr>\n",
              "  </tbody>\n",
              "</table>\n",
              "</div>"
            ],
            "text/plain": [
              "                     products\n",
              "customerId products          \n",
              "0          1                9\n",
              "1          1                9\n",
              "2          1                1\n",
              "3          1                5\n",
              "           2                1\n",
              "4          1                6\n",
              "5          1                7\n",
              "6          1                4\n",
              "7          1                2\n",
              "8          1               19\n",
              "9          1               10\n",
              "10         1               14\n",
              "           2                1\n",
              "11         1               14\n",
              "12         1                2\n",
              "13         1                4\n",
              "14         1               18\n",
              "15         1                2\n",
              "16         1                5\n",
              "17         1                8\n",
              "18         1                1\n",
              "19         1                6\n",
              "20         1                5\n",
              "21         1                9\n",
              "           2                1\n",
              "22         1               14\n",
              "23         1                5\n",
              "24         1                8\n",
              "25         1               11\n",
              "           2                1\n",
              "27         1                6\n",
              "           2                1\n",
              "28         1                1\n",
              "29         1                8\n",
              "30         1                6\n",
              "31         1                4\n",
              "32         1                5\n",
              "33         1               10\n",
              "           2                1\n",
              "34         1                5\n",
              "35         1                8\n",
              "           2                1\n",
              "36         1                4\n",
              "37         1                4\n",
              "38         1               17\n",
              "39         1               13\n",
              "40         1                9\n",
              "           2                2\n",
              "41         1                3\n",
              "42         1                1"
            ]
          },
          "metadata": {
            "tags": []
          },
          "execution_count": 33
        }
      ]
    },
    {
      "metadata": {
        "id": "8JD6VHyjV9BE",
        "colab_type": "code",
        "colab": {}
      },
      "cell_type": "code",
      "source": [
        "data = data.rename(columns={'products': 'purchase_count'})"
      ],
      "execution_count": 0,
      "outputs": []
    },
    {
      "metadata": {
        "id": "bDPxBk6EV9BH",
        "colab_type": "code",
        "colab": {}
      },
      "cell_type": "code",
      "source": [
        "data = data.reset_index()"
      ],
      "execution_count": 0,
      "outputs": []
    },
    {
      "metadata": {
        "id": "tkF2LyaTV9BJ",
        "colab_type": "code",
        "colab": {}
      },
      "cell_type": "code",
      "source": [
        "data = data.rename(columns={'products': 'productsId'})"
      ],
      "execution_count": 0,
      "outputs": []
    },
    {
      "metadata": {
        "id": "Q1qv5wEbV9BM",
        "colab_type": "code",
        "colab": {
          "base_uri": "https://localhost:8080/",
          "height": 204
        },
        "outputId": "f3b445e9-df28-4e9d-a2ca-5384ca11d5c3"
      },
      "cell_type": "code",
      "source": [
        "data.head()"
      ],
      "execution_count": 37,
      "outputs": [
        {
          "output_type": "execute_result",
          "data": {
            "text/html": [
              "<div>\n",
              "<style scoped>\n",
              "    .dataframe tbody tr th:only-of-type {\n",
              "        vertical-align: middle;\n",
              "    }\n",
              "\n",
              "    .dataframe tbody tr th {\n",
              "        vertical-align: top;\n",
              "    }\n",
              "\n",
              "    .dataframe thead th {\n",
              "        text-align: right;\n",
              "    }\n",
              "</style>\n",
              "<table border=\"1\" class=\"dataframe\">\n",
              "  <thead>\n",
              "    <tr style=\"text-align: right;\">\n",
              "      <th></th>\n",
              "      <th>customerId</th>\n",
              "      <th>productsId</th>\n",
              "      <th>purchase_count</th>\n",
              "    </tr>\n",
              "  </thead>\n",
              "  <tbody>\n",
              "    <tr>\n",
              "      <th>0</th>\n",
              "      <td>0</td>\n",
              "      <td>1</td>\n",
              "      <td>9</td>\n",
              "    </tr>\n",
              "    <tr>\n",
              "      <th>1</th>\n",
              "      <td>1</td>\n",
              "      <td>1</td>\n",
              "      <td>9</td>\n",
              "    </tr>\n",
              "    <tr>\n",
              "      <th>2</th>\n",
              "      <td>2</td>\n",
              "      <td>1</td>\n",
              "      <td>1</td>\n",
              "    </tr>\n",
              "    <tr>\n",
              "      <th>3</th>\n",
              "      <td>3</td>\n",
              "      <td>1</td>\n",
              "      <td>5</td>\n",
              "    </tr>\n",
              "    <tr>\n",
              "      <th>4</th>\n",
              "      <td>3</td>\n",
              "      <td>2</td>\n",
              "      <td>1</td>\n",
              "    </tr>\n",
              "  </tbody>\n",
              "</table>\n",
              "</div>"
            ],
            "text/plain": [
              "   customerId  productsId  purchase_count\n",
              "0           0           1               9\n",
              "1           1           1               9\n",
              "2           2           1               1\n",
              "3           3           1               5\n",
              "4           3           2               1"
            ]
          },
          "metadata": {
            "tags": []
          },
          "execution_count": 37
        }
      ]
    },
    {
      "metadata": {
        "id": "bq3SO1N4V9BP",
        "colab_type": "code",
        "colab": {}
      },
      "cell_type": "code",
      "source": [
        "def create_data_dummy(data):\n",
        "    data_dummy = data.copy()\n",
        "    data_dummy['purchase_dummy'] = 1\n",
        "    return data_dummy\n",
        "data_dummy = create_data_dummy(data)"
      ],
      "execution_count": 0,
      "outputs": []
    },
    {
      "metadata": {
        "id": "JcZOVdNMV9BS",
        "colab_type": "code",
        "colab": {}
      },
      "cell_type": "code",
      "source": [
        "df_matrix = pd.pivot_table(data, values='purchase_count', index='customerId', columns='productsId')"
      ],
      "execution_count": 0,
      "outputs": []
    },
    {
      "metadata": {
        "id": "bA321Ag9V9BU",
        "colab_type": "code",
        "colab": {
          "base_uri": "https://localhost:8080/",
          "height": 235
        },
        "outputId": "fa012d6f-4b03-4392-b087-e30789ce7da6"
      },
      "cell_type": "code",
      "source": [
        "df_matrix.head()"
      ],
      "execution_count": 40,
      "outputs": [
        {
          "output_type": "execute_result",
          "data": {
            "text/html": [
              "<div>\n",
              "<style scoped>\n",
              "    .dataframe tbody tr th:only-of-type {\n",
              "        vertical-align: middle;\n",
              "    }\n",
              "\n",
              "    .dataframe tbody tr th {\n",
              "        vertical-align: top;\n",
              "    }\n",
              "\n",
              "    .dataframe thead th {\n",
              "        text-align: right;\n",
              "    }\n",
              "</style>\n",
              "<table border=\"1\" class=\"dataframe\">\n",
              "  <thead>\n",
              "    <tr style=\"text-align: right;\">\n",
              "      <th>productsId</th>\n",
              "      <th>1</th>\n",
              "      <th>2</th>\n",
              "      <th>3</th>\n",
              "      <th>4</th>\n",
              "      <th>5</th>\n",
              "      <th>6</th>\n",
              "      <th>7</th>\n",
              "      <th>8</th>\n",
              "      <th>9</th>\n",
              "      <th>10</th>\n",
              "      <th>15</th>\n",
              "    </tr>\n",
              "    <tr>\n",
              "      <th>customerId</th>\n",
              "      <th></th>\n",
              "      <th></th>\n",
              "      <th></th>\n",
              "      <th></th>\n",
              "      <th></th>\n",
              "      <th></th>\n",
              "      <th></th>\n",
              "      <th></th>\n",
              "      <th></th>\n",
              "      <th></th>\n",
              "      <th></th>\n",
              "    </tr>\n",
              "  </thead>\n",
              "  <tbody>\n",
              "    <tr>\n",
              "      <th>0</th>\n",
              "      <td>9.0</td>\n",
              "      <td>NaN</td>\n",
              "      <td>NaN</td>\n",
              "      <td>NaN</td>\n",
              "      <td>NaN</td>\n",
              "      <td>NaN</td>\n",
              "      <td>NaN</td>\n",
              "      <td>NaN</td>\n",
              "      <td>NaN</td>\n",
              "      <td>NaN</td>\n",
              "      <td>NaN</td>\n",
              "    </tr>\n",
              "    <tr>\n",
              "      <th>1</th>\n",
              "      <td>9.0</td>\n",
              "      <td>NaN</td>\n",
              "      <td>NaN</td>\n",
              "      <td>NaN</td>\n",
              "      <td>NaN</td>\n",
              "      <td>NaN</td>\n",
              "      <td>NaN</td>\n",
              "      <td>NaN</td>\n",
              "      <td>NaN</td>\n",
              "      <td>NaN</td>\n",
              "      <td>NaN</td>\n",
              "    </tr>\n",
              "    <tr>\n",
              "      <th>2</th>\n",
              "      <td>1.0</td>\n",
              "      <td>NaN</td>\n",
              "      <td>NaN</td>\n",
              "      <td>NaN</td>\n",
              "      <td>NaN</td>\n",
              "      <td>NaN</td>\n",
              "      <td>NaN</td>\n",
              "      <td>NaN</td>\n",
              "      <td>NaN</td>\n",
              "      <td>NaN</td>\n",
              "      <td>NaN</td>\n",
              "    </tr>\n",
              "    <tr>\n",
              "      <th>3</th>\n",
              "      <td>5.0</td>\n",
              "      <td>1.0</td>\n",
              "      <td>NaN</td>\n",
              "      <td>NaN</td>\n",
              "      <td>NaN</td>\n",
              "      <td>NaN</td>\n",
              "      <td>NaN</td>\n",
              "      <td>NaN</td>\n",
              "      <td>NaN</td>\n",
              "      <td>NaN</td>\n",
              "      <td>NaN</td>\n",
              "    </tr>\n",
              "    <tr>\n",
              "      <th>4</th>\n",
              "      <td>6.0</td>\n",
              "      <td>NaN</td>\n",
              "      <td>NaN</td>\n",
              "      <td>NaN</td>\n",
              "      <td>NaN</td>\n",
              "      <td>NaN</td>\n",
              "      <td>NaN</td>\n",
              "      <td>NaN</td>\n",
              "      <td>NaN</td>\n",
              "      <td>NaN</td>\n",
              "      <td>NaN</td>\n",
              "    </tr>\n",
              "  </tbody>\n",
              "</table>\n",
              "</div>"
            ],
            "text/plain": [
              "productsId   1    2   3   4   5   6   7   8   9   10  15\n",
              "customerId                                              \n",
              "0           9.0  NaN NaN NaN NaN NaN NaN NaN NaN NaN NaN\n",
              "1           9.0  NaN NaN NaN NaN NaN NaN NaN NaN NaN NaN\n",
              "2           1.0  NaN NaN NaN NaN NaN NaN NaN NaN NaN NaN\n",
              "3           5.0  1.0 NaN NaN NaN NaN NaN NaN NaN NaN NaN\n",
              "4           6.0  NaN NaN NaN NaN NaN NaN NaN NaN NaN NaN"
            ]
          },
          "metadata": {
            "tags": []
          },
          "execution_count": 40
        }
      ]
    },
    {
      "metadata": {
        "id": "gGJO7cdoV9BX",
        "colab_type": "code",
        "colab": {}
      },
      "cell_type": "code",
      "source": [
        "df_matrix_norm = (df_matrix-df_matrix.min())/(df_matrix.max()-df_matrix.min())"
      ],
      "execution_count": 0,
      "outputs": []
    },
    {
      "metadata": {
        "id": "qDVvVtKtV9Bb",
        "colab_type": "code",
        "colab": {
          "base_uri": "https://localhost:8080/",
          "height": 235
        },
        "outputId": "ef89c490-7b1f-40f5-f265-12fa3441a1db"
      },
      "cell_type": "code",
      "source": [
        "df_matrix_norm.head()"
      ],
      "execution_count": 42,
      "outputs": [
        {
          "output_type": "execute_result",
          "data": {
            "text/html": [
              "<div>\n",
              "<style scoped>\n",
              "    .dataframe tbody tr th:only-of-type {\n",
              "        vertical-align: middle;\n",
              "    }\n",
              "\n",
              "    .dataframe tbody tr th {\n",
              "        vertical-align: top;\n",
              "    }\n",
              "\n",
              "    .dataframe thead th {\n",
              "        text-align: right;\n",
              "    }\n",
              "</style>\n",
              "<table border=\"1\" class=\"dataframe\">\n",
              "  <thead>\n",
              "    <tr style=\"text-align: right;\">\n",
              "      <th>productsId</th>\n",
              "      <th>1</th>\n",
              "      <th>2</th>\n",
              "      <th>3</th>\n",
              "      <th>4</th>\n",
              "      <th>5</th>\n",
              "      <th>6</th>\n",
              "      <th>7</th>\n",
              "      <th>8</th>\n",
              "      <th>9</th>\n",
              "      <th>10</th>\n",
              "      <th>15</th>\n",
              "    </tr>\n",
              "    <tr>\n",
              "      <th>customerId</th>\n",
              "      <th></th>\n",
              "      <th></th>\n",
              "      <th></th>\n",
              "      <th></th>\n",
              "      <th></th>\n",
              "      <th></th>\n",
              "      <th></th>\n",
              "      <th></th>\n",
              "      <th></th>\n",
              "      <th></th>\n",
              "      <th></th>\n",
              "    </tr>\n",
              "  </thead>\n",
              "  <tbody>\n",
              "    <tr>\n",
              "      <th>0</th>\n",
              "      <td>0.173913</td>\n",
              "      <td>NaN</td>\n",
              "      <td>NaN</td>\n",
              "      <td>NaN</td>\n",
              "      <td>NaN</td>\n",
              "      <td>NaN</td>\n",
              "      <td>NaN</td>\n",
              "      <td>NaN</td>\n",
              "      <td>NaN</td>\n",
              "      <td>NaN</td>\n",
              "      <td>NaN</td>\n",
              "    </tr>\n",
              "    <tr>\n",
              "      <th>1</th>\n",
              "      <td>0.173913</td>\n",
              "      <td>NaN</td>\n",
              "      <td>NaN</td>\n",
              "      <td>NaN</td>\n",
              "      <td>NaN</td>\n",
              "      <td>NaN</td>\n",
              "      <td>NaN</td>\n",
              "      <td>NaN</td>\n",
              "      <td>NaN</td>\n",
              "      <td>NaN</td>\n",
              "      <td>NaN</td>\n",
              "    </tr>\n",
              "    <tr>\n",
              "      <th>2</th>\n",
              "      <td>0.000000</td>\n",
              "      <td>NaN</td>\n",
              "      <td>NaN</td>\n",
              "      <td>NaN</td>\n",
              "      <td>NaN</td>\n",
              "      <td>NaN</td>\n",
              "      <td>NaN</td>\n",
              "      <td>NaN</td>\n",
              "      <td>NaN</td>\n",
              "      <td>NaN</td>\n",
              "      <td>NaN</td>\n",
              "    </tr>\n",
              "    <tr>\n",
              "      <th>3</th>\n",
              "      <td>0.086957</td>\n",
              "      <td>0.0</td>\n",
              "      <td>NaN</td>\n",
              "      <td>NaN</td>\n",
              "      <td>NaN</td>\n",
              "      <td>NaN</td>\n",
              "      <td>NaN</td>\n",
              "      <td>NaN</td>\n",
              "      <td>NaN</td>\n",
              "      <td>NaN</td>\n",
              "      <td>NaN</td>\n",
              "    </tr>\n",
              "    <tr>\n",
              "      <th>4</th>\n",
              "      <td>0.108696</td>\n",
              "      <td>NaN</td>\n",
              "      <td>NaN</td>\n",
              "      <td>NaN</td>\n",
              "      <td>NaN</td>\n",
              "      <td>NaN</td>\n",
              "      <td>NaN</td>\n",
              "      <td>NaN</td>\n",
              "      <td>NaN</td>\n",
              "      <td>NaN</td>\n",
              "      <td>NaN</td>\n",
              "    </tr>\n",
              "  </tbody>\n",
              "</table>\n",
              "</div>"
            ],
            "text/plain": [
              "productsId        1    2   3   4   5   6   7   8   9   10  15\n",
              "customerId                                                   \n",
              "0           0.173913  NaN NaN NaN NaN NaN NaN NaN NaN NaN NaN\n",
              "1           0.173913  NaN NaN NaN NaN NaN NaN NaN NaN NaN NaN\n",
              "2           0.000000  NaN NaN NaN NaN NaN NaN NaN NaN NaN NaN\n",
              "3           0.086957  0.0 NaN NaN NaN NaN NaN NaN NaN NaN NaN\n",
              "4           0.108696  NaN NaN NaN NaN NaN NaN NaN NaN NaN NaN"
            ]
          },
          "metadata": {
            "tags": []
          },
          "execution_count": 42
        }
      ]
    },
    {
      "metadata": {
        "id": "pnPocrCdV9Bg",
        "colab_type": "code",
        "colab": {
          "base_uri": "https://localhost:8080/",
          "height": 221
        },
        "outputId": "10aa553f-bc6b-4567-9809-434ddccf5287"
      },
      "cell_type": "code",
      "source": [
        "d = df_matrix_norm.reset_index() \n",
        "d.index.names = ['scaled_purchase_freq'] \n",
        "data_norm = pd.melt(d, id_vars=['customerId'], value_name='scaled_purchase_freq').dropna()\n",
        "print(data_norm.shape)\n",
        "data_norm.head()"
      ],
      "execution_count": 43,
      "outputs": [
        {
          "output_type": "stream",
          "text": [
            "(25155, 3)\n"
          ],
          "name": "stdout"
        },
        {
          "output_type": "execute_result",
          "data": {
            "text/html": [
              "<div>\n",
              "<style scoped>\n",
              "    .dataframe tbody tr th:only-of-type {\n",
              "        vertical-align: middle;\n",
              "    }\n",
              "\n",
              "    .dataframe tbody tr th {\n",
              "        vertical-align: top;\n",
              "    }\n",
              "\n",
              "    .dataframe thead th {\n",
              "        text-align: right;\n",
              "    }\n",
              "</style>\n",
              "<table border=\"1\" class=\"dataframe\">\n",
              "  <thead>\n",
              "    <tr style=\"text-align: right;\">\n",
              "      <th></th>\n",
              "      <th>customerId</th>\n",
              "      <th>productsId</th>\n",
              "      <th>scaled_purchase_freq</th>\n",
              "    </tr>\n",
              "  </thead>\n",
              "  <tbody>\n",
              "    <tr>\n",
              "      <th>0</th>\n",
              "      <td>0</td>\n",
              "      <td>1</td>\n",
              "      <td>0.173913</td>\n",
              "    </tr>\n",
              "    <tr>\n",
              "      <th>1</th>\n",
              "      <td>1</td>\n",
              "      <td>1</td>\n",
              "      <td>0.173913</td>\n",
              "    </tr>\n",
              "    <tr>\n",
              "      <th>2</th>\n",
              "      <td>2</td>\n",
              "      <td>1</td>\n",
              "      <td>0.000000</td>\n",
              "    </tr>\n",
              "    <tr>\n",
              "      <th>3</th>\n",
              "      <td>3</td>\n",
              "      <td>1</td>\n",
              "      <td>0.086957</td>\n",
              "    </tr>\n",
              "    <tr>\n",
              "      <th>4</th>\n",
              "      <td>4</td>\n",
              "      <td>1</td>\n",
              "      <td>0.108696</td>\n",
              "    </tr>\n",
              "  </tbody>\n",
              "</table>\n",
              "</div>"
            ],
            "text/plain": [
              "   customerId productsId  scaled_purchase_freq\n",
              "0           0          1              0.173913\n",
              "1           1          1              0.173913\n",
              "2           2          1              0.000000\n",
              "3           3          1              0.086957\n",
              "4           4          1              0.108696"
            ]
          },
          "metadata": {
            "tags": []
          },
          "execution_count": 43
        }
      ]
    },
    {
      "metadata": {
        "id": "i3RkJkUVV9Bk",
        "colab_type": "code",
        "colab": {}
      },
      "cell_type": "code",
      "source": [
        "def normalize_data(data):\n",
        "    df_matrix = pd.pivot_table(data, values='purchase_count', index='customerId', columns='productId')\n",
        "    df_matrix_norm = (df_matrix-df_matrix.min())/(df_matrix.max()-df_matrix.min())\n",
        "    d = df_matrix_norm.reset_index()\n",
        "    d.index.names = ['scaled_purchase_freq']\n",
        "    return pd.melt(d, id_vars=['customerId'], value_name='scaled_purchase_freq').dropna()"
      ],
      "execution_count": 0,
      "outputs": []
    },
    {
      "metadata": {
        "id": "KshfJfcqV9Bm",
        "colab_type": "code",
        "colab": {}
      },
      "cell_type": "code",
      "source": [
        "def split_data(data):\n",
        "    '''\n",
        "    Splits dataset into training and test set.\n",
        "    \n",
        "    Args:\n",
        "        data (pandas.DataFrame)\n",
        "        \n",
        "    Returns\n",
        "        train_data (tc.SFrame)\n",
        "        test_data (tc.SFrame)\n",
        "    '''\n",
        "    train, test = train_test_split(data, test_size = .2)\n",
        "    train_data = tc.SFrame(train)\n",
        "    test_data = tc.SFrame(test)\n",
        "    return train_data, test_data"
      ],
      "execution_count": 0,
      "outputs": []
    },
    {
      "metadata": {
        "id": "anQ_SbVRV9Bp",
        "colab_type": "code",
        "colab": {}
      },
      "cell_type": "code",
      "source": [
        "user_id = 'customerId'\n",
        "item_id = 'productsId'\n",
        "users_to_recommend = list(customers[user_id])\n",
        "n_rec = 10 # number of items to recommend\n",
        "n_display = 30 # to display the first few rows in an output dataset"
      ],
      "execution_count": 0,
      "outputs": []
    },
    {
      "metadata": {
        "id": "nF2r30WpV9Br",
        "colab_type": "code",
        "colab": {}
      },
      "cell_type": "code",
      "source": [
        "def model(train_data, name, user_id, item_id, target, users_to_recommend, n_rec, n_display):\n",
        "    if name == 'popularity':\n",
        "        model = tc.popularity_recommender.create(train_data, \n",
        "                                                    user_id=user_id, \n",
        "                                                    item_id=item_id, \n",
        "                                                    target=target)\n",
        "    elif name == 'cosine':\n",
        "        model = tc.item_similarity_recommender.create(train_data, \n",
        "                                                    user_id=user_id, \n",
        "                                                    item_id=item_id, \n",
        "                                                    target=target, \n",
        "                                                    similarity_type='cosine')\n",
        "    elif name == 'pearson':\n",
        "         model = tc.item_similarity_recommender.create(train_data, \n",
        "                                                    user_id=user_id, \n",
        "                                                    item_id=item_id, \n",
        "                                                    target=target, \n",
        "                                                    similarity_type='pearson')\n",
        "        \n",
        "    recom = model.recommend(users=users_to_recommend, k=n_rec)\n",
        "    recom.print_rows(n_display)\n",
        "    return model"
      ],
      "execution_count": 0,
      "outputs": []
    },
    {
      "metadata": {
        "id": "xiFjW1EDdVGw",
        "colab_type": "code",
        "colab": {}
      },
      "cell_type": "code",
      "source": [
        "train_data, test_data = split_data(data)\n",
        "train_data_dummy, test_data_dummy = split_data(data_dummy)\n",
        "train_data_norm, test_data_norm = split_data(data_norm)"
      ],
      "execution_count": 0,
      "outputs": []
    },
    {
      "metadata": {
        "id": "J_HbI5ReeSBA",
        "colab_type": "code",
        "colab": {}
      },
      "cell_type": "code",
      "source": [
        ""
      ],
      "execution_count": 0,
      "outputs": []
    },
    {
      "metadata": {
        "id": "huSH8CRSeU-9",
        "colab_type": "text"
      },
      "cell_type": "markdown",
      "source": [
        "# Collaborative Filtering"
      ]
    },
    {
      "metadata": {
        "id": "UoGqIAhdV9Bu",
        "colab_type": "code",
        "colab": {
          "base_uri": "https://localhost:8080/",
          "height": 1020
        },
        "outputId": "1ff7c0f2-f118-453b-cdd2-08e02d380858"
      },
      "cell_type": "code",
      "source": [
        "name = 'cosine'\n",
        "target = 'purchase_count'\n",
        "cos = model(train_data, name, user_id, item_id, target, users_to_recommend, n_rec, n_display)"
      ],
      "execution_count": 56,
      "outputs": [
        {
          "output_type": "display_data",
          "data": {
            "text/html": [
              "<pre>Preparing data set.</pre>"
            ],
            "text/plain": [
              "Preparing data set."
            ]
          },
          "metadata": {
            "tags": []
          }
        },
        {
          "output_type": "display_data",
          "data": {
            "text/html": [
              "<pre>    Data has 20165 observations with 19645 users and 9 items.</pre>"
            ],
            "text/plain": [
              "    Data has 20165 observations with 19645 users and 9 items."
            ]
          },
          "metadata": {
            "tags": []
          }
        },
        {
          "output_type": "display_data",
          "data": {
            "text/html": [
              "<pre>    Data prepared in: 0.042664s</pre>"
            ],
            "text/plain": [
              "    Data prepared in: 0.042664s"
            ]
          },
          "metadata": {
            "tags": []
          }
        },
        {
          "output_type": "display_data",
          "data": {
            "text/html": [
              "<pre>Training model from provided data.</pre>"
            ],
            "text/plain": [
              "Training model from provided data."
            ]
          },
          "metadata": {
            "tags": []
          }
        },
        {
          "output_type": "display_data",
          "data": {
            "text/html": [
              "<pre>Gathering per-item and per-user statistics.</pre>"
            ],
            "text/plain": [
              "Gathering per-item and per-user statistics."
            ]
          },
          "metadata": {
            "tags": []
          }
        },
        {
          "output_type": "display_data",
          "data": {
            "text/html": [
              "<pre>+--------------------------------+------------+</pre>"
            ],
            "text/plain": [
              "+--------------------------------+------------+"
            ]
          },
          "metadata": {
            "tags": []
          }
        },
        {
          "output_type": "display_data",
          "data": {
            "text/html": [
              "<pre>| Elapsed Time (Item Statistics) | % Complete |</pre>"
            ],
            "text/plain": [
              "| Elapsed Time (Item Statistics) | % Complete |"
            ]
          },
          "metadata": {
            "tags": []
          }
        },
        {
          "output_type": "display_data",
          "data": {
            "text/html": [
              "<pre>+--------------------------------+------------+</pre>"
            ],
            "text/plain": [
              "+--------------------------------+------------+"
            ]
          },
          "metadata": {
            "tags": []
          }
        },
        {
          "output_type": "display_data",
          "data": {
            "text/html": [
              "<pre>| 1.048ms                        | 5          |</pre>"
            ],
            "text/plain": [
              "| 1.048ms                        | 5          |"
            ]
          },
          "metadata": {
            "tags": []
          }
        },
        {
          "output_type": "display_data",
          "data": {
            "text/html": [
              "<pre>| 3.793ms                        | 100        |</pre>"
            ],
            "text/plain": [
              "| 3.793ms                        | 100        |"
            ]
          },
          "metadata": {
            "tags": []
          }
        },
        {
          "output_type": "display_data",
          "data": {
            "text/html": [
              "<pre>+--------------------------------+------------+</pre>"
            ],
            "text/plain": [
              "+--------------------------------+------------+"
            ]
          },
          "metadata": {
            "tags": []
          }
        },
        {
          "output_type": "display_data",
          "data": {
            "text/html": [
              "<pre>Setting up lookup tables.</pre>"
            ],
            "text/plain": [
              "Setting up lookup tables."
            ]
          },
          "metadata": {
            "tags": []
          }
        },
        {
          "output_type": "display_data",
          "data": {
            "text/html": [
              "<pre>Processing data in one pass using dense lookup tables.</pre>"
            ],
            "text/plain": [
              "Processing data in one pass using dense lookup tables."
            ]
          },
          "metadata": {
            "tags": []
          }
        },
        {
          "output_type": "display_data",
          "data": {
            "text/html": [
              "<pre>+-------------------------------------+------------------+-----------------+</pre>"
            ],
            "text/plain": [
              "+-------------------------------------+------------------+-----------------+"
            ]
          },
          "metadata": {
            "tags": []
          }
        },
        {
          "output_type": "display_data",
          "data": {
            "text/html": [
              "<pre>| Elapsed Time (Constructing Lookups) | Total % Complete | Items Processed |</pre>"
            ],
            "text/plain": [
              "| Elapsed Time (Constructing Lookups) | Total % Complete | Items Processed |"
            ]
          },
          "metadata": {
            "tags": []
          }
        },
        {
          "output_type": "display_data",
          "data": {
            "text/html": [
              "<pre>+-------------------------------------+------------------+-----------------+</pre>"
            ],
            "text/plain": [
              "+-------------------------------------+------------------+-----------------+"
            ]
          },
          "metadata": {
            "tags": []
          }
        },
        {
          "output_type": "display_data",
          "data": {
            "text/html": [
              "<pre>| 4.396ms                             | 0                | 0               |</pre>"
            ],
            "text/plain": [
              "| 4.396ms                             | 0                | 0               |"
            ]
          },
          "metadata": {
            "tags": []
          }
        },
        {
          "output_type": "display_data",
          "data": {
            "text/html": [
              "<pre>| 7.958ms                             | 100              | 9               |</pre>"
            ],
            "text/plain": [
              "| 7.958ms                             | 100              | 9               |"
            ]
          },
          "metadata": {
            "tags": []
          }
        },
        {
          "output_type": "display_data",
          "data": {
            "text/html": [
              "<pre>+-------------------------------------+------------------+-----------------+</pre>"
            ],
            "text/plain": [
              "+-------------------------------------+------------------+-----------------+"
            ]
          },
          "metadata": {
            "tags": []
          }
        },
        {
          "output_type": "display_data",
          "data": {
            "text/html": [
              "<pre>Finalizing lookup tables.</pre>"
            ],
            "text/plain": [
              "Finalizing lookup tables."
            ]
          },
          "metadata": {
            "tags": []
          }
        },
        {
          "output_type": "stream",
          "text": [
            "+------------+------------+-----------------------+------+\n",
            "| customerId | productsId |         score         | rank |\n",
            "+------------+------------+-----------------------+------+\n",
            "|    1553    |     2      |   1.0114215016365051  |  1   |\n",
            "|    1553    |     3      |   0.5018110871315002  |  2   |\n",
            "|    1553    |     4      |   0.2777579426765442  |  3   |\n",
            "|    1553    |     9      |  0.18263643980026245  |  4   |\n",
            "|    1553    |     7      |  0.14730334281921387  |  5   |\n",
            "|    1553    |     6      |  0.10030156373977661  |  6   |\n",
            "|    1553    |     8      |  0.08729088306427002  |  7   |\n",
            "|    1553    |     5      |  0.061724066734313965 |  8   |\n",
            "|   20400    |     2      |  0.03778516583972507  |  1   |\n",
            "|   20400    |     3      |  0.019596126344468858 |  2   |\n",
            "|   20400    |     4      |  0.010851144790649414 |  3   |\n",
            "|   20400    |     9      |  0.006967756483289931 |  4   |\n",
            "|   20400    |     7      |  0.005704853269788954 |  5   |\n",
            "|   20400    |     6      |  0.004772027333577474 |  6   |\n",
            "|   20400    |     1      |  0.004047148757510715 |  7   |\n",
            "|   20400    |     8      |  0.003980517387390137 |  8   |\n",
            "|   20400    |     5      | 0.0029908418655395508 |  9   |\n",
            "|   19750    |     2      |   0.3371405005455017  |  1   |\n",
            "|   19750    |     3      |  0.16727036237716675  |  2   |\n",
            "|   19750    |     4      |   0.0925859808921814  |  3   |\n",
            "|   19750    |     9      |  0.06087881326675415  |  4   |\n",
            "|   19750    |     7      |  0.04910111427307129  |  5   |\n",
            "|   19750    |     6      |  0.03343385457992554  |  6   |\n",
            "|   19750    |     8      |  0.02909696102142334  |  7   |\n",
            "|   19750    |     5      |  0.02057468891143799  |  8   |\n",
            "|    6334    |     2      |   0.3371405005455017  |  1   |\n",
            "|    6334    |     3      |  0.16727036237716675  |  2   |\n",
            "|    6334    |     4      |   0.0925859808921814  |  3   |\n",
            "|    6334    |     9      |  0.06087881326675415  |  4   |\n",
            "|    6334    |     7      |  0.04910111427307129  |  5   |\n",
            "+------------+------------+-----------------------+------+\n",
            "[8158 rows x 4 columns]\n",
            "\n"
          ],
          "name": "stdout"
        },
        {
          "output_type": "display_data",
          "data": {
            "text/html": [
              "<pre>Generating candidate set for working with new users.</pre>"
            ],
            "text/plain": [
              "Generating candidate set for working with new users."
            ]
          },
          "metadata": {
            "tags": []
          }
        },
        {
          "output_type": "display_data",
          "data": {
            "text/html": [
              "<pre>Finished training in 1.01168s</pre>"
            ],
            "text/plain": [
              "Finished training in 1.01168s"
            ]
          },
          "metadata": {
            "tags": []
          }
        },
        {
          "output_type": "display_data",
          "data": {
            "text/html": [
              "<pre>recommendations finished on 1000/1000 queries. users per second: 41133.6</pre>"
            ],
            "text/plain": [
              "recommendations finished on 1000/1000 queries. users per second: 41133.6"
            ]
          },
          "metadata": {
            "tags": []
          }
        }
      ]
    },
    {
      "metadata": {
        "id": "IzhKSOfNejIc",
        "colab_type": "text"
      },
      "cell_type": "markdown",
      "source": [
        ""
      ]
    },
    {
      "metadata": {
        "id": "CXH8NRpFdcn3",
        "colab_type": "code",
        "colab": {
          "base_uri": "https://localhost:8080/",
          "height": 1054
        },
        "outputId": "a6eea5ca-e200-4f6f-8a9e-fa1fd593302e"
      },
      "cell_type": "code",
      "source": [
        "name = 'cosine'\n",
        "target = 'purchase_dummy'\n",
        "cos_dummy = model(train_data_dummy, name, user_id, item_id, target, users_to_recommend, n_rec, n_display)"
      ],
      "execution_count": 57,
      "outputs": [
        {
          "output_type": "display_data",
          "data": {
            "text/html": [
              "<pre>Warning: Ignoring columns purchase_count;</pre>"
            ],
            "text/plain": [
              "Warning: Ignoring columns purchase_count;"
            ]
          },
          "metadata": {
            "tags": []
          }
        },
        {
          "output_type": "display_data",
          "data": {
            "text/html": [
              "<pre>    To use these columns in scoring predictions, use a model that allows the use of additional features.</pre>"
            ],
            "text/plain": [
              "    To use these columns in scoring predictions, use a model that allows the use of additional features."
            ]
          },
          "metadata": {
            "tags": []
          }
        },
        {
          "output_type": "display_data",
          "data": {
            "text/html": [
              "<pre>Preparing data set.</pre>"
            ],
            "text/plain": [
              "Preparing data set."
            ]
          },
          "metadata": {
            "tags": []
          }
        },
        {
          "output_type": "display_data",
          "data": {
            "text/html": [
              "<pre>    Data has 20165 observations with 19669 users and 10 items.</pre>"
            ],
            "text/plain": [
              "    Data has 20165 observations with 19669 users and 10 items."
            ]
          },
          "metadata": {
            "tags": []
          }
        },
        {
          "output_type": "display_data",
          "data": {
            "text/html": [
              "<pre>    Data prepared in: 0.04376s</pre>"
            ],
            "text/plain": [
              "    Data prepared in: 0.04376s"
            ]
          },
          "metadata": {
            "tags": []
          }
        },
        {
          "output_type": "display_data",
          "data": {
            "text/html": [
              "<pre>Training model from provided data.</pre>"
            ],
            "text/plain": [
              "Training model from provided data."
            ]
          },
          "metadata": {
            "tags": []
          }
        },
        {
          "output_type": "display_data",
          "data": {
            "text/html": [
              "<pre>Gathering per-item and per-user statistics.</pre>"
            ],
            "text/plain": [
              "Gathering per-item and per-user statistics."
            ]
          },
          "metadata": {
            "tags": []
          }
        },
        {
          "output_type": "display_data",
          "data": {
            "text/html": [
              "<pre>+--------------------------------+------------+</pre>"
            ],
            "text/plain": [
              "+--------------------------------+------------+"
            ]
          },
          "metadata": {
            "tags": []
          }
        },
        {
          "output_type": "display_data",
          "data": {
            "text/html": [
              "<pre>| Elapsed Time (Item Statistics) | % Complete |</pre>"
            ],
            "text/plain": [
              "| Elapsed Time (Item Statistics) | % Complete |"
            ]
          },
          "metadata": {
            "tags": []
          }
        },
        {
          "output_type": "display_data",
          "data": {
            "text/html": [
              "<pre>+--------------------------------+------------+</pre>"
            ],
            "text/plain": [
              "+--------------------------------+------------+"
            ]
          },
          "metadata": {
            "tags": []
          }
        },
        {
          "output_type": "display_data",
          "data": {
            "text/html": [
              "<pre>| 534us                          | 5          |</pre>"
            ],
            "text/plain": [
              "| 534us                          | 5          |"
            ]
          },
          "metadata": {
            "tags": []
          }
        },
        {
          "output_type": "display_data",
          "data": {
            "text/html": [
              "<pre>| 12.576ms                       | 100        |</pre>"
            ],
            "text/plain": [
              "| 12.576ms                       | 100        |"
            ]
          },
          "metadata": {
            "tags": []
          }
        },
        {
          "output_type": "display_data",
          "data": {
            "text/html": [
              "<pre>+--------------------------------+------------+</pre>"
            ],
            "text/plain": [
              "+--------------------------------+------------+"
            ]
          },
          "metadata": {
            "tags": []
          }
        },
        {
          "output_type": "display_data",
          "data": {
            "text/html": [
              "<pre>Setting up lookup tables.</pre>"
            ],
            "text/plain": [
              "Setting up lookup tables."
            ]
          },
          "metadata": {
            "tags": []
          }
        },
        {
          "output_type": "display_data",
          "data": {
            "text/html": [
              "<pre>Processing data in one pass using dense lookup tables.</pre>"
            ],
            "text/plain": [
              "Processing data in one pass using dense lookup tables."
            ]
          },
          "metadata": {
            "tags": []
          }
        },
        {
          "output_type": "display_data",
          "data": {
            "text/html": [
              "<pre>+-------------------------------------+------------------+-----------------+</pre>"
            ],
            "text/plain": [
              "+-------------------------------------+------------------+-----------------+"
            ]
          },
          "metadata": {
            "tags": []
          }
        },
        {
          "output_type": "display_data",
          "data": {
            "text/html": [
              "<pre>| Elapsed Time (Constructing Lookups) | Total % Complete | Items Processed |</pre>"
            ],
            "text/plain": [
              "| Elapsed Time (Constructing Lookups) | Total % Complete | Items Processed |"
            ]
          },
          "metadata": {
            "tags": []
          }
        },
        {
          "output_type": "display_data",
          "data": {
            "text/html": [
              "<pre>+-------------------------------------+------------------+-----------------+</pre>"
            ],
            "text/plain": [
              "+-------------------------------------+------------------+-----------------+"
            ]
          },
          "metadata": {
            "tags": []
          }
        },
        {
          "output_type": "display_data",
          "data": {
            "text/html": [
              "<pre>| 15.365ms                            | 0                | 0               |</pre>"
            ],
            "text/plain": [
              "| 15.365ms                            | 0                | 0               |"
            ]
          },
          "metadata": {
            "tags": []
          }
        },
        {
          "output_type": "display_data",
          "data": {
            "text/html": [
              "<pre>| 26.403ms                            | 100              | 10              |</pre>"
            ],
            "text/plain": [
              "| 26.403ms                            | 100              | 10              |"
            ]
          },
          "metadata": {
            "tags": []
          }
        },
        {
          "output_type": "display_data",
          "data": {
            "text/html": [
              "<pre>+-------------------------------------+------------------+-----------------+</pre>"
            ],
            "text/plain": [
              "+-------------------------------------+------------------+-----------------+"
            ]
          },
          "metadata": {
            "tags": []
          }
        },
        {
          "output_type": "display_data",
          "data": {
            "text/html": [
              "<pre>Finalizing lookup tables.</pre>"
            ],
            "text/plain": [
              "Finalizing lookup tables."
            ]
          },
          "metadata": {
            "tags": []
          }
        },
        {
          "output_type": "stream",
          "text": [
            "+------------+------------+----------------------+------+\n",
            "| customerId | productsId |        score         | rank |\n",
            "+------------+------------+----------------------+------+\n",
            "|    1553    |     2      | 0.12205260992050171  |  1   |\n",
            "|    1553    |     3      | 0.04250669479370117  |  2   |\n",
            "|    1553    |     4      | 0.03032892942428589  |  3   |\n",
            "|    1553    |     5      | 0.011697709560394287 |  4   |\n",
            "|    1553    |     7      | 0.010130524635314941 |  5   |\n",
            "|    1553    |     8      | 0.010130524635314941 |  6   |\n",
            "|    1553    |     9      | 0.010130524635314941 |  7   |\n",
            "|    1553    |     15     | 0.007163345813751221 |  8   |\n",
            "|    1553    |     10     | 0.007163345813751221 |  9   |\n",
            "|   20400    |     2      | 0.12205260992050171  |  1   |\n",
            "|   20400    |     3      | 0.04250669479370117  |  2   |\n",
            "|   20400    |     4      | 0.03032892942428589  |  3   |\n",
            "|   20400    |     5      | 0.011697709560394287 |  4   |\n",
            "|   20400    |     7      | 0.010130524635314941 |  5   |\n",
            "|   20400    |     8      | 0.010130524635314941 |  6   |\n",
            "|   20400    |     9      | 0.010130524635314941 |  7   |\n",
            "|   20400    |     15     | 0.007163345813751221 |  8   |\n",
            "|   20400    |     10     | 0.007163345813751221 |  9   |\n",
            "|   19750    |     2      | 0.12205260992050171  |  1   |\n",
            "|   19750    |     3      | 0.04250669479370117  |  2   |\n",
            "|   19750    |     4      | 0.03032892942428589  |  3   |\n",
            "|   19750    |     5      | 0.011697709560394287 |  4   |\n",
            "|   19750    |     7      | 0.010130524635314941 |  5   |\n",
            "|   19750    |     8      | 0.010130524635314941 |  6   |\n",
            "|   19750    |     9      | 0.010130524635314941 |  7   |\n",
            "|   19750    |     15     | 0.007163345813751221 |  8   |\n",
            "|   19750    |     10     | 0.007163345813751221 |  9   |\n",
            "|    6334    |     2      | 0.12205260992050171  |  1   |\n",
            "|    6334    |     3      | 0.04250669479370117  |  2   |\n",
            "|    6334    |     4      | 0.03032892942428589  |  3   |\n",
            "+------------+------------+----------------------+------+\n",
            "[9167 rows x 4 columns]\n",
            "\n"
          ],
          "name": "stdout"
        },
        {
          "output_type": "display_data",
          "data": {
            "text/html": [
              "<pre>Generating candidate set for working with new users.</pre>"
            ],
            "text/plain": [
              "Generating candidate set for working with new users."
            ]
          },
          "metadata": {
            "tags": []
          }
        },
        {
          "output_type": "display_data",
          "data": {
            "text/html": [
              "<pre>Finished training in 0.030737s</pre>"
            ],
            "text/plain": [
              "Finished training in 0.030737s"
            ]
          },
          "metadata": {
            "tags": []
          }
        },
        {
          "output_type": "display_data",
          "data": {
            "text/html": [
              "<pre>recommendations finished on 1000/1000 queries. users per second: 149254</pre>"
            ],
            "text/plain": [
              "recommendations finished on 1000/1000 queries. users per second: 149254"
            ]
          },
          "metadata": {
            "tags": []
          }
        }
      ]
    },
    {
      "metadata": {
        "id": "nhbvJOMRdxqf",
        "colab_type": "code",
        "colab": {
          "base_uri": "https://localhost:8080/",
          "height": 1020
        },
        "outputId": "e10d280d-e922-4672-e58d-14e352188a68"
      },
      "cell_type": "code",
      "source": [
        "name = 'cosine' \n",
        "target = 'scaled_purchase_freq' \n",
        "cos_norm = model(train_data_norm, name, user_id, item_id, target, users_to_recommend, n_rec, n_display)"
      ],
      "execution_count": 58,
      "outputs": [
        {
          "output_type": "display_data",
          "data": {
            "text/html": [
              "<pre>Preparing data set.</pre>"
            ],
            "text/plain": [
              "Preparing data set."
            ]
          },
          "metadata": {
            "tags": []
          }
        },
        {
          "output_type": "display_data",
          "data": {
            "text/html": [
              "<pre>    Data has 20124 observations with 19645 users and 3 items.</pre>"
            ],
            "text/plain": [
              "    Data has 20124 observations with 19645 users and 3 items."
            ]
          },
          "metadata": {
            "tags": []
          }
        },
        {
          "output_type": "display_data",
          "data": {
            "text/html": [
              "<pre>    Data prepared in: 0.043052s</pre>"
            ],
            "text/plain": [
              "    Data prepared in: 0.043052s"
            ]
          },
          "metadata": {
            "tags": []
          }
        },
        {
          "output_type": "display_data",
          "data": {
            "text/html": [
              "<pre>Training model from provided data.</pre>"
            ],
            "text/plain": [
              "Training model from provided data."
            ]
          },
          "metadata": {
            "tags": []
          }
        },
        {
          "output_type": "display_data",
          "data": {
            "text/html": [
              "<pre>Gathering per-item and per-user statistics.</pre>"
            ],
            "text/plain": [
              "Gathering per-item and per-user statistics."
            ]
          },
          "metadata": {
            "tags": []
          }
        },
        {
          "output_type": "display_data",
          "data": {
            "text/html": [
              "<pre>+--------------------------------+------------+</pre>"
            ],
            "text/plain": [
              "+--------------------------------+------------+"
            ]
          },
          "metadata": {
            "tags": []
          }
        },
        {
          "output_type": "display_data",
          "data": {
            "text/html": [
              "<pre>| Elapsed Time (Item Statistics) | % Complete |</pre>"
            ],
            "text/plain": [
              "| Elapsed Time (Item Statistics) | % Complete |"
            ]
          },
          "metadata": {
            "tags": []
          }
        },
        {
          "output_type": "display_data",
          "data": {
            "text/html": [
              "<pre>+--------------------------------+------------+</pre>"
            ],
            "text/plain": [
              "+--------------------------------+------------+"
            ]
          },
          "metadata": {
            "tags": []
          }
        },
        {
          "output_type": "display_data",
          "data": {
            "text/html": [
              "<pre>| 581us                          | 5          |</pre>"
            ],
            "text/plain": [
              "| 581us                          | 5          |"
            ]
          },
          "metadata": {
            "tags": []
          }
        },
        {
          "output_type": "display_data",
          "data": {
            "text/html": [
              "<pre>| 3.193ms                        | 100        |</pre>"
            ],
            "text/plain": [
              "| 3.193ms                        | 100        |"
            ]
          },
          "metadata": {
            "tags": []
          }
        },
        {
          "output_type": "display_data",
          "data": {
            "text/html": [
              "<pre>+--------------------------------+------------+</pre>"
            ],
            "text/plain": [
              "+--------------------------------+------------+"
            ]
          },
          "metadata": {
            "tags": []
          }
        },
        {
          "output_type": "stream",
          "text": [
            "+------------+------------+-----------------------+------+\n",
            "| customerId | productsId |         score         | rank |\n",
            "+------------+------------+-----------------------+------+\n",
            "|    1553    |     1      | 0.0016832749048868816 |  1   |\n",
            "|    1553    |     2      | 0.0011067787806193035 |  2   |\n",
            "|    1553    |     3      | 0.0004055698712666829 |  3   |\n",
            "|   20400    |     1      | 0.0016832749048868816 |  1   |\n",
            "|   20400    |     2      | 0.0011067787806193035 |  2   |\n",
            "|   20400    |     3      | 0.0004055698712666829 |  3   |\n",
            "|   19750    |     2      |          0.0          |  1   |\n",
            "|   19750    |     3      |          0.0          |  2   |\n",
            "|    6334    |     2      |          0.0          |  1   |\n",
            "|    6334    |     3      |          0.0          |  2   |\n",
            "|   27773    |     2      |          0.0          |  1   |\n",
            "|   27773    |     3      |          0.0          |  2   |\n",
            "|   20027    |     1      | 0.0016832749048868816 |  1   |\n",
            "|   20027    |     2      | 0.0011067787806193035 |  2   |\n",
            "|   20027    |     3      | 0.0004055698712666829 |  3   |\n",
            "|   10104    |     1      | 0.0016832749048868816 |  1   |\n",
            "|   10104    |     2      | 0.0011067787806193035 |  2   |\n",
            "|   10104    |     3      | 0.0004055698712666829 |  3   |\n",
            "|    5522    |     1      | 0.0016832749048868816 |  1   |\n",
            "|    5522    |     2      | 0.0011067787806193035 |  2   |\n",
            "|    5522    |     3      | 0.0004055698712666829 |  3   |\n",
            "|    9978    |     2      |  0.004163920879364014 |  1   |\n",
            "|    9978    |     3      | 0.0012080669403076172 |  2   |\n",
            "|   20966    |     2      |  0.004163920879364014 |  1   |\n",
            "|   20966    |     3      | 0.0012080669403076172 |  2   |\n",
            "|    218     |     1      | 0.0016832749048868816 |  1   |\n",
            "|    218     |     2      | 0.0011067787806193035 |  2   |\n",
            "|    218     |     3      | 0.0004055698712666829 |  3   |\n",
            "|    9023    |     2      |  0.008327901363372803 |  1   |\n",
            "|    9023    |     3      | 0.0024161338806152344 |  2   |\n",
            "+------------+------------+-----------------------+------+\n",
            "[2165 rows x 4 columns]\n",
            "\n"
          ],
          "name": "stdout"
        },
        {
          "output_type": "display_data",
          "data": {
            "text/html": [
              "<pre>Setting up lookup tables.</pre>"
            ],
            "text/plain": [
              "Setting up lookup tables."
            ]
          },
          "metadata": {
            "tags": []
          }
        },
        {
          "output_type": "display_data",
          "data": {
            "text/html": [
              "<pre>Processing data in one pass using dense lookup tables.</pre>"
            ],
            "text/plain": [
              "Processing data in one pass using dense lookup tables."
            ]
          },
          "metadata": {
            "tags": []
          }
        },
        {
          "output_type": "display_data",
          "data": {
            "text/html": [
              "<pre>+-------------------------------------+------------------+-----------------+</pre>"
            ],
            "text/plain": [
              "+-------------------------------------+------------------+-----------------+"
            ]
          },
          "metadata": {
            "tags": []
          }
        },
        {
          "output_type": "display_data",
          "data": {
            "text/html": [
              "<pre>| Elapsed Time (Constructing Lookups) | Total % Complete | Items Processed |</pre>"
            ],
            "text/plain": [
              "| Elapsed Time (Constructing Lookups) | Total % Complete | Items Processed |"
            ]
          },
          "metadata": {
            "tags": []
          }
        },
        {
          "output_type": "display_data",
          "data": {
            "text/html": [
              "<pre>+-------------------------------------+------------------+-----------------+</pre>"
            ],
            "text/plain": [
              "+-------------------------------------+------------------+-----------------+"
            ]
          },
          "metadata": {
            "tags": []
          }
        },
        {
          "output_type": "display_data",
          "data": {
            "text/html": [
              "<pre>| 3.457ms                             | 0                | 0               |</pre>"
            ],
            "text/plain": [
              "| 3.457ms                             | 0                | 0               |"
            ]
          },
          "metadata": {
            "tags": []
          }
        },
        {
          "output_type": "display_data",
          "data": {
            "text/html": [
              "<pre>| 6.938ms                             | 100              | 3               |</pre>"
            ],
            "text/plain": [
              "| 6.938ms                             | 100              | 3               |"
            ]
          },
          "metadata": {
            "tags": []
          }
        },
        {
          "output_type": "display_data",
          "data": {
            "text/html": [
              "<pre>+-------------------------------------+------------------+-----------------+</pre>"
            ],
            "text/plain": [
              "+-------------------------------------+------------------+-----------------+"
            ]
          },
          "metadata": {
            "tags": []
          }
        },
        {
          "output_type": "display_data",
          "data": {
            "text/html": [
              "<pre>Finalizing lookup tables.</pre>"
            ],
            "text/plain": [
              "Finalizing lookup tables."
            ]
          },
          "metadata": {
            "tags": []
          }
        },
        {
          "output_type": "display_data",
          "data": {
            "text/html": [
              "<pre>Generating candidate set for working with new users.</pre>"
            ],
            "text/plain": [
              "Generating candidate set for working with new users."
            ]
          },
          "metadata": {
            "tags": []
          }
        },
        {
          "output_type": "display_data",
          "data": {
            "text/html": [
              "<pre>Finished training in 0.009624s</pre>"
            ],
            "text/plain": [
              "Finished training in 0.009624s"
            ]
          },
          "metadata": {
            "tags": []
          }
        },
        {
          "output_type": "display_data",
          "data": {
            "text/html": [
              "<pre>recommendations finished on 1000/1000 queries. users per second: 155135</pre>"
            ],
            "text/plain": [
              "recommendations finished on 1000/1000 queries. users per second: 155135"
            ]
          },
          "metadata": {
            "tags": []
          }
        }
      ]
    },
    {
      "metadata": {
        "id": "wa5qD6gTd5ep",
        "colab_type": "code",
        "colab": {
          "base_uri": "https://localhost:8080/",
          "height": 1020
        },
        "outputId": "f9dda7c5-2e20-46f3-db90-7377215c1aa4"
      },
      "cell_type": "code",
      "source": [
        "name = 'pearson'\n",
        "target = 'purchase_count'\n",
        "pear = model(train_data, name, user_id, item_id, target, users_to_recommend, n_rec, n_display)"
      ],
      "execution_count": 59,
      "outputs": [
        {
          "output_type": "display_data",
          "data": {
            "text/html": [
              "<pre>Preparing data set.</pre>"
            ],
            "text/plain": [
              "Preparing data set."
            ]
          },
          "metadata": {
            "tags": []
          }
        },
        {
          "output_type": "display_data",
          "data": {
            "text/html": [
              "<pre>    Data has 20165 observations with 19645 users and 9 items.</pre>"
            ],
            "text/plain": [
              "    Data has 20165 observations with 19645 users and 9 items."
            ]
          },
          "metadata": {
            "tags": []
          }
        },
        {
          "output_type": "display_data",
          "data": {
            "text/html": [
              "<pre>    Data prepared in: 0.048436s</pre>"
            ],
            "text/plain": [
              "    Data prepared in: 0.048436s"
            ]
          },
          "metadata": {
            "tags": []
          }
        },
        {
          "output_type": "display_data",
          "data": {
            "text/html": [
              "<pre>Training model from provided data.</pre>"
            ],
            "text/plain": [
              "Training model from provided data."
            ]
          },
          "metadata": {
            "tags": []
          }
        },
        {
          "output_type": "display_data",
          "data": {
            "text/html": [
              "<pre>Gathering per-item and per-user statistics.</pre>"
            ],
            "text/plain": [
              "Gathering per-item and per-user statistics."
            ]
          },
          "metadata": {
            "tags": []
          }
        },
        {
          "output_type": "display_data",
          "data": {
            "text/html": [
              "<pre>+--------------------------------+------------+</pre>"
            ],
            "text/plain": [
              "+--------------------------------+------------+"
            ]
          },
          "metadata": {
            "tags": []
          }
        },
        {
          "output_type": "display_data",
          "data": {
            "text/html": [
              "<pre>| Elapsed Time (Item Statistics) | % Complete |</pre>"
            ],
            "text/plain": [
              "| Elapsed Time (Item Statistics) | % Complete |"
            ]
          },
          "metadata": {
            "tags": []
          }
        },
        {
          "output_type": "display_data",
          "data": {
            "text/html": [
              "<pre>+--------------------------------+------------+</pre>"
            ],
            "text/plain": [
              "+--------------------------------+------------+"
            ]
          },
          "metadata": {
            "tags": []
          }
        },
        {
          "output_type": "display_data",
          "data": {
            "text/html": [
              "<pre>| 627us                          | 5          |</pre>"
            ],
            "text/plain": [
              "| 627us                          | 5          |"
            ]
          },
          "metadata": {
            "tags": []
          }
        },
        {
          "output_type": "display_data",
          "data": {
            "text/html": [
              "<pre>| 4.44ms                         | 100        |</pre>"
            ],
            "text/plain": [
              "| 4.44ms                         | 100        |"
            ]
          },
          "metadata": {
            "tags": []
          }
        },
        {
          "output_type": "display_data",
          "data": {
            "text/html": [
              "<pre>+--------------------------------+------------+</pre>"
            ],
            "text/plain": [
              "+--------------------------------+------------+"
            ]
          },
          "metadata": {
            "tags": []
          }
        },
        {
          "output_type": "display_data",
          "data": {
            "text/html": [
              "<pre>Setting up lookup tables.</pre>"
            ],
            "text/plain": [
              "Setting up lookup tables."
            ]
          },
          "metadata": {
            "tags": []
          }
        },
        {
          "output_type": "display_data",
          "data": {
            "text/html": [
              "<pre>Processing data in one pass using dense lookup tables.</pre>"
            ],
            "text/plain": [
              "Processing data in one pass using dense lookup tables."
            ]
          },
          "metadata": {
            "tags": []
          }
        },
        {
          "output_type": "display_data",
          "data": {
            "text/html": [
              "<pre>+-------------------------------------+------------------+-----------------+</pre>"
            ],
            "text/plain": [
              "+-------------------------------------+------------------+-----------------+"
            ]
          },
          "metadata": {
            "tags": []
          }
        },
        {
          "output_type": "display_data",
          "data": {
            "text/html": [
              "<pre>| Elapsed Time (Constructing Lookups) | Total % Complete | Items Processed |</pre>"
            ],
            "text/plain": [
              "| Elapsed Time (Constructing Lookups) | Total % Complete | Items Processed |"
            ]
          },
          "metadata": {
            "tags": []
          }
        },
        {
          "output_type": "display_data",
          "data": {
            "text/html": [
              "<pre>+-------------------------------------+------------------+-----------------+</pre>"
            ],
            "text/plain": [
              "+-------------------------------------+------------------+-----------------+"
            ]
          },
          "metadata": {
            "tags": []
          }
        },
        {
          "output_type": "display_data",
          "data": {
            "text/html": [
              "<pre>| 4.756ms                             | 0                | 0               |</pre>"
            ],
            "text/plain": [
              "| 4.756ms                             | 0                | 0               |"
            ]
          },
          "metadata": {
            "tags": []
          }
        },
        {
          "output_type": "display_data",
          "data": {
            "text/html": [
              "<pre>| 8.299ms                             | 100              | 9               |</pre>"
            ],
            "text/plain": [
              "| 8.299ms                             | 100              | 9               |"
            ]
          },
          "metadata": {
            "tags": []
          }
        },
        {
          "output_type": "display_data",
          "data": {
            "text/html": [
              "<pre>+-------------------------------------+------------------+-----------------+</pre>"
            ],
            "text/plain": [
              "+-------------------------------------+------------------+-----------------+"
            ]
          },
          "metadata": {
            "tags": []
          }
        },
        {
          "output_type": "display_data",
          "data": {
            "text/html": [
              "<pre>Finalizing lookup tables.</pre>"
            ],
            "text/plain": [
              "Finalizing lookup tables."
            ]
          },
          "metadata": {
            "tags": []
          }
        },
        {
          "output_type": "display_data",
          "data": {
            "text/html": [
              "<pre>Generating candidate set for working with new users.</pre>"
            ],
            "text/plain": [
              "Generating candidate set for working with new users."
            ]
          },
          "metadata": {
            "tags": []
          }
        },
        {
          "output_type": "display_data",
          "data": {
            "text/html": [
              "<pre>Finished training in 0.010753s</pre>"
            ],
            "text/plain": [
              "Finished training in 0.010753s"
            ]
          },
          "metadata": {
            "tags": []
          }
        },
        {
          "output_type": "display_data",
          "data": {
            "text/html": [
              "<pre>recommendations finished on 1000/1000 queries. users per second: 168237</pre>"
            ],
            "text/plain": [
              "recommendations finished on 1000/1000 queries. users per second: 168237"
            ]
          },
          "metadata": {
            "tags": []
          }
        },
        {
          "output_type": "stream",
          "text": [
            "+------------+------------+--------------------+------+\n",
            "| customerId | productsId |       score        | rank |\n",
            "+------------+------------+--------------------+------+\n",
            "|    1553    |     2      | 1.2193853474154919 |  1   |\n",
            "|    1553    |     3      | 1.0605849997321173 |  2   |\n",
            "|    1553    |     4      |        1.0         |  3   |\n",
            "|    1553    |     8      |        1.0         |  4   |\n",
            "|    1553    |     9      |        1.0         |  5   |\n",
            "|    1553    |     6      |        1.0         |  6   |\n",
            "|    1553    |     5      |        1.0         |  7   |\n",
            "|    1553    |     7      |        1.0         |  8   |\n",
            "|   20400    |     1      | 2.4718756526711205 |  1   |\n",
            "|   20400    |     2      | 1.1128742181421831 |  2   |\n",
            "|   20400    |     3      | 1.0395923498060375 |  3   |\n",
            "|   20400    |     4      |        1.0         |  4   |\n",
            "|   20400    |     8      |        1.0         |  5   |\n",
            "|   20400    |     9      |        1.0         |  6   |\n",
            "|   20400    |     6      |        1.0         |  7   |\n",
            "|   20400    |     5      |        1.0         |  8   |\n",
            "|   20400    |     7      |        1.0         |  9   |\n",
            "|   19750    |     4      |        1.0         |  1   |\n",
            "|   19750    |     8      |        1.0         |  2   |\n",
            "|   19750    |     9      |        1.0         |  3   |\n",
            "|   19750    |     6      |        1.0         |  4   |\n",
            "|   19750    |     5      |        1.0         |  5   |\n",
            "|   19750    |     7      |        1.0         |  6   |\n",
            "|   19750    |     3      | 0.9981221930304571 |  7   |\n",
            "|   19750    |     2      | 0.9024659014239758 |  8   |\n",
            "|    6334    |     4      |        1.0         |  1   |\n",
            "|    6334    |     8      |        1.0         |  2   |\n",
            "|    6334    |     9      |        1.0         |  3   |\n",
            "|    6334    |     6      |        1.0         |  4   |\n",
            "|    6334    |     5      |        1.0         |  5   |\n",
            "+------------+------------+--------------------+------+\n",
            "[8158 rows x 4 columns]\n",
            "\n"
          ],
          "name": "stdout"
        }
      ]
    },
    {
      "metadata": {
        "id": "ldpvy4jQd9mX",
        "colab_type": "code",
        "colab": {
          "base_uri": "https://localhost:8080/",
          "height": 1054
        },
        "outputId": "359e3dc1-57f7-4f6c-8192-669c13d8857e"
      },
      "cell_type": "code",
      "source": [
        "name = 'pearson'\n",
        "target = 'purchase_dummy'\n",
        "pear_dummy = model(train_data_dummy, name, user_id, item_id, target, users_to_recommend, n_rec, n_display)\n"
      ],
      "execution_count": 60,
      "outputs": [
        {
          "output_type": "display_data",
          "data": {
            "text/html": [
              "<pre>Warning: Ignoring columns purchase_count;</pre>"
            ],
            "text/plain": [
              "Warning: Ignoring columns purchase_count;"
            ]
          },
          "metadata": {
            "tags": []
          }
        },
        {
          "output_type": "display_data",
          "data": {
            "text/html": [
              "<pre>    To use these columns in scoring predictions, use a model that allows the use of additional features.</pre>"
            ],
            "text/plain": [
              "    To use these columns in scoring predictions, use a model that allows the use of additional features."
            ]
          },
          "metadata": {
            "tags": []
          }
        },
        {
          "output_type": "display_data",
          "data": {
            "text/html": [
              "<pre>Preparing data set.</pre>"
            ],
            "text/plain": [
              "Preparing data set."
            ]
          },
          "metadata": {
            "tags": []
          }
        },
        {
          "output_type": "display_data",
          "data": {
            "text/html": [
              "<pre>    Data has 20165 observations with 19669 users and 10 items.</pre>"
            ],
            "text/plain": [
              "    Data has 20165 observations with 19669 users and 10 items."
            ]
          },
          "metadata": {
            "tags": []
          }
        },
        {
          "output_type": "display_data",
          "data": {
            "text/html": [
              "<pre>    Data prepared in: 0.043652s</pre>"
            ],
            "text/plain": [
              "    Data prepared in: 0.043652s"
            ]
          },
          "metadata": {
            "tags": []
          }
        },
        {
          "output_type": "display_data",
          "data": {
            "text/html": [
              "<pre>Training model from provided data.</pre>"
            ],
            "text/plain": [
              "Training model from provided data."
            ]
          },
          "metadata": {
            "tags": []
          }
        },
        {
          "output_type": "display_data",
          "data": {
            "text/html": [
              "<pre>Gathering per-item and per-user statistics.</pre>"
            ],
            "text/plain": [
              "Gathering per-item and per-user statistics."
            ]
          },
          "metadata": {
            "tags": []
          }
        },
        {
          "output_type": "display_data",
          "data": {
            "text/html": [
              "<pre>+--------------------------------+------------+</pre>"
            ],
            "text/plain": [
              "+--------------------------------+------------+"
            ]
          },
          "metadata": {
            "tags": []
          }
        },
        {
          "output_type": "display_data",
          "data": {
            "text/html": [
              "<pre>| Elapsed Time (Item Statistics) | % Complete |</pre>"
            ],
            "text/plain": [
              "| Elapsed Time (Item Statistics) | % Complete |"
            ]
          },
          "metadata": {
            "tags": []
          }
        },
        {
          "output_type": "display_data",
          "data": {
            "text/html": [
              "<pre>+--------------------------------+------------+</pre>"
            ],
            "text/plain": [
              "+--------------------------------+------------+"
            ]
          },
          "metadata": {
            "tags": []
          }
        },
        {
          "output_type": "display_data",
          "data": {
            "text/html": [
              "<pre>| 620us                          | 5          |</pre>"
            ],
            "text/plain": [
              "| 620us                          | 5          |"
            ]
          },
          "metadata": {
            "tags": []
          }
        },
        {
          "output_type": "display_data",
          "data": {
            "text/html": [
              "<pre>| 4.257ms                        | 100        |</pre>"
            ],
            "text/plain": [
              "| 4.257ms                        | 100        |"
            ]
          },
          "metadata": {
            "tags": []
          }
        },
        {
          "output_type": "display_data",
          "data": {
            "text/html": [
              "<pre>+--------------------------------+------------+</pre>"
            ],
            "text/plain": [
              "+--------------------------------+------------+"
            ]
          },
          "metadata": {
            "tags": []
          }
        },
        {
          "output_type": "display_data",
          "data": {
            "text/html": [
              "<pre>Setting up lookup tables.</pre>"
            ],
            "text/plain": [
              "Setting up lookup tables."
            ]
          },
          "metadata": {
            "tags": []
          }
        },
        {
          "output_type": "display_data",
          "data": {
            "text/html": [
              "<pre>Processing data in one pass using dense lookup tables.</pre>"
            ],
            "text/plain": [
              "Processing data in one pass using dense lookup tables."
            ]
          },
          "metadata": {
            "tags": []
          }
        },
        {
          "output_type": "display_data",
          "data": {
            "text/html": [
              "<pre>+-------------------------------------+------------------+-----------------+</pre>"
            ],
            "text/plain": [
              "+-------------------------------------+------------------+-----------------+"
            ]
          },
          "metadata": {
            "tags": []
          }
        },
        {
          "output_type": "display_data",
          "data": {
            "text/html": [
              "<pre>| Elapsed Time (Constructing Lookups) | Total % Complete | Items Processed |</pre>"
            ],
            "text/plain": [
              "| Elapsed Time (Constructing Lookups) | Total % Complete | Items Processed |"
            ]
          },
          "metadata": {
            "tags": []
          }
        },
        {
          "output_type": "display_data",
          "data": {
            "text/html": [
              "<pre>+-------------------------------------+------------------+-----------------+</pre>"
            ],
            "text/plain": [
              "+-------------------------------------+------------------+-----------------+"
            ]
          },
          "metadata": {
            "tags": []
          }
        },
        {
          "output_type": "display_data",
          "data": {
            "text/html": [
              "<pre>| 4.604ms                             | 0                | 0               |</pre>"
            ],
            "text/plain": [
              "| 4.604ms                             | 0                | 0               |"
            ]
          },
          "metadata": {
            "tags": []
          }
        },
        {
          "output_type": "display_data",
          "data": {
            "text/html": [
              "<pre>| 8.001ms                             | 100              | 10              |</pre>"
            ],
            "text/plain": [
              "| 8.001ms                             | 100              | 10              |"
            ]
          },
          "metadata": {
            "tags": []
          }
        },
        {
          "output_type": "display_data",
          "data": {
            "text/html": [
              "<pre>+-------------------------------------+------------------+-----------------+</pre>"
            ],
            "text/plain": [
              "+-------------------------------------+------------------+-----------------+"
            ]
          },
          "metadata": {
            "tags": []
          }
        },
        {
          "output_type": "display_data",
          "data": {
            "text/html": [
              "<pre>Finalizing lookup tables.</pre>"
            ],
            "text/plain": [
              "Finalizing lookup tables."
            ]
          },
          "metadata": {
            "tags": []
          }
        },
        {
          "output_type": "stream",
          "text": [
            "+------------+------------+-------+------+\n",
            "| customerId | productsId | score | rank |\n",
            "+------------+------------+-------+------+\n",
            "|    1553    |     4      |  0.0  |  1   |\n",
            "|    1553    |     2      |  0.0  |  2   |\n",
            "|    1553    |     7      |  0.0  |  3   |\n",
            "|    1553    |     3      |  0.0  |  4   |\n",
            "|    1553    |     15     |  0.0  |  5   |\n",
            "|    1553    |     5      |  0.0  |  6   |\n",
            "|    1553    |     10     |  0.0  |  7   |\n",
            "|    1553    |     8      |  0.0  |  8   |\n",
            "|    1553    |     9      |  0.0  |  9   |\n",
            "|   20400    |     4      |  0.0  |  1   |\n",
            "|   20400    |     2      |  0.0  |  2   |\n",
            "|   20400    |     7      |  0.0  |  3   |\n",
            "|   20400    |     3      |  0.0  |  4   |\n",
            "|   20400    |     15     |  0.0  |  5   |\n",
            "|   20400    |     5      |  0.0  |  6   |\n",
            "|   20400    |     10     |  0.0  |  7   |\n",
            "|   20400    |     8      |  0.0  |  8   |\n",
            "|   20400    |     9      |  0.0  |  9   |\n",
            "|   19750    |     4      |  0.0  |  1   |\n",
            "|   19750    |     2      |  0.0  |  2   |\n",
            "|   19750    |     7      |  0.0  |  3   |\n",
            "|   19750    |     3      |  0.0  |  4   |\n",
            "|   19750    |     15     |  0.0  |  5   |\n",
            "|   19750    |     5      |  0.0  |  6   |\n",
            "|   19750    |     10     |  0.0  |  7   |\n",
            "|   19750    |     8      |  0.0  |  8   |\n",
            "|   19750    |     9      |  0.0  |  9   |\n",
            "|    6334    |     4      |  0.0  |  1   |\n",
            "|    6334    |     2      |  0.0  |  2   |\n",
            "|    6334    |     7      |  0.0  |  3   |\n",
            "+------------+------------+-------+------+\n",
            "[9167 rows x 4 columns]\n",
            "\n"
          ],
          "name": "stdout"
        },
        {
          "output_type": "display_data",
          "data": {
            "text/html": [
              "<pre>Generating candidate set for working with new users.</pre>"
            ],
            "text/plain": [
              "Generating candidate set for working with new users."
            ]
          },
          "metadata": {
            "tags": []
          }
        },
        {
          "output_type": "display_data",
          "data": {
            "text/html": [
              "<pre>Finished training in 0.010373s</pre>"
            ],
            "text/plain": [
              "Finished training in 0.010373s"
            ]
          },
          "metadata": {
            "tags": []
          }
        },
        {
          "output_type": "display_data",
          "data": {
            "text/html": [
              "<pre>recommendations finished on 1000/1000 queries. users per second: 78727.8</pre>"
            ],
            "text/plain": [
              "recommendations finished on 1000/1000 queries. users per second: 78727.8"
            ]
          },
          "metadata": {
            "tags": []
          }
        }
      ]
    },
    {
      "metadata": {
        "id": "MHcsjm8DeDOb",
        "colab_type": "code",
        "colab": {
          "base_uri": "https://localhost:8080/",
          "height": 1020
        },
        "outputId": "efc740c5-f6ed-4d77-d1b8-48b0097b5ac0"
      },
      "cell_type": "code",
      "source": [
        "name = 'pearson'\n",
        "target = 'scaled_purchase_freq'\n",
        "pear_norm = model(train_data_norm, name, user_id, item_id, target, users_to_recommend, n_rec, n_display)"
      ],
      "execution_count": 61,
      "outputs": [
        {
          "output_type": "display_data",
          "data": {
            "text/html": [
              "<pre>Preparing data set.</pre>"
            ],
            "text/plain": [
              "Preparing data set."
            ]
          },
          "metadata": {
            "tags": []
          }
        },
        {
          "output_type": "display_data",
          "data": {
            "text/html": [
              "<pre>    Data has 20124 observations with 19645 users and 3 items.</pre>"
            ],
            "text/plain": [
              "    Data has 20124 observations with 19645 users and 3 items."
            ]
          },
          "metadata": {
            "tags": []
          }
        },
        {
          "output_type": "display_data",
          "data": {
            "text/html": [
              "<pre>    Data prepared in: 0.039709s</pre>"
            ],
            "text/plain": [
              "    Data prepared in: 0.039709s"
            ]
          },
          "metadata": {
            "tags": []
          }
        },
        {
          "output_type": "display_data",
          "data": {
            "text/html": [
              "<pre>Training model from provided data.</pre>"
            ],
            "text/plain": [
              "Training model from provided data."
            ]
          },
          "metadata": {
            "tags": []
          }
        },
        {
          "output_type": "display_data",
          "data": {
            "text/html": [
              "<pre>Gathering per-item and per-user statistics.</pre>"
            ],
            "text/plain": [
              "Gathering per-item and per-user statistics."
            ]
          },
          "metadata": {
            "tags": []
          }
        },
        {
          "output_type": "display_data",
          "data": {
            "text/html": [
              "<pre>+--------------------------------+------------+</pre>"
            ],
            "text/plain": [
              "+--------------------------------+------------+"
            ]
          },
          "metadata": {
            "tags": []
          }
        },
        {
          "output_type": "display_data",
          "data": {
            "text/html": [
              "<pre>| Elapsed Time (Item Statistics) | % Complete |</pre>"
            ],
            "text/plain": [
              "| Elapsed Time (Item Statistics) | % Complete |"
            ]
          },
          "metadata": {
            "tags": []
          }
        },
        {
          "output_type": "display_data",
          "data": {
            "text/html": [
              "<pre>+--------------------------------+------------+</pre>"
            ],
            "text/plain": [
              "+--------------------------------+------------+"
            ]
          },
          "metadata": {
            "tags": []
          }
        },
        {
          "output_type": "display_data",
          "data": {
            "text/html": [
              "<pre>| 521us                          | 5          |</pre>"
            ],
            "text/plain": [
              "| 521us                          | 5          |"
            ]
          },
          "metadata": {
            "tags": []
          }
        },
        {
          "output_type": "display_data",
          "data": {
            "text/html": [
              "<pre>| 10.451ms                       | 100        |</pre>"
            ],
            "text/plain": [
              "| 10.451ms                       | 100        |"
            ]
          },
          "metadata": {
            "tags": []
          }
        },
        {
          "output_type": "display_data",
          "data": {
            "text/html": [
              "<pre>+--------------------------------+------------+</pre>"
            ],
            "text/plain": [
              "+--------------------------------+------------+"
            ]
          },
          "metadata": {
            "tags": []
          }
        },
        {
          "output_type": "display_data",
          "data": {
            "text/html": [
              "<pre>Setting up lookup tables.</pre>"
            ],
            "text/plain": [
              "Setting up lookup tables."
            ]
          },
          "metadata": {
            "tags": []
          }
        },
        {
          "output_type": "display_data",
          "data": {
            "text/html": [
              "<pre>Processing data in one pass using dense lookup tables.</pre>"
            ],
            "text/plain": [
              "Processing data in one pass using dense lookup tables."
            ]
          },
          "metadata": {
            "tags": []
          }
        },
        {
          "output_type": "display_data",
          "data": {
            "text/html": [
              "<pre>+-------------------------------------+------------------+-----------------+</pre>"
            ],
            "text/plain": [
              "+-------------------------------------+------------------+-----------------+"
            ]
          },
          "metadata": {
            "tags": []
          }
        },
        {
          "output_type": "display_data",
          "data": {
            "text/html": [
              "<pre>| Elapsed Time (Constructing Lookups) | Total % Complete | Items Processed |</pre>"
            ],
            "text/plain": [
              "| Elapsed Time (Constructing Lookups) | Total % Complete | Items Processed |"
            ]
          },
          "metadata": {
            "tags": []
          }
        },
        {
          "output_type": "display_data",
          "data": {
            "text/html": [
              "<pre>+-------------------------------------+------------------+-----------------+</pre>"
            ],
            "text/plain": [
              "+-------------------------------------+------------------+-----------------+"
            ]
          },
          "metadata": {
            "tags": []
          }
        },
        {
          "output_type": "display_data",
          "data": {
            "text/html": [
              "<pre>| 14.387ms                            | 0                | 0               |</pre>"
            ],
            "text/plain": [
              "| 14.387ms                            | 0                | 0               |"
            ]
          },
          "metadata": {
            "tags": []
          }
        },
        {
          "output_type": "display_data",
          "data": {
            "text/html": [
              "<pre>| 21.873ms                            | 100              | 3               |</pre>"
            ],
            "text/plain": [
              "| 21.873ms                            | 100              | 3               |"
            ]
          },
          "metadata": {
            "tags": []
          }
        },
        {
          "output_type": "display_data",
          "data": {
            "text/html": [
              "<pre>+-------------------------------------+------------------+-----------------+</pre>"
            ],
            "text/plain": [
              "+-------------------------------------+------------------+-----------------+"
            ]
          },
          "metadata": {
            "tags": []
          }
        },
        {
          "output_type": "display_data",
          "data": {
            "text/html": [
              "<pre>Finalizing lookup tables.</pre>"
            ],
            "text/plain": [
              "Finalizing lookup tables."
            ]
          },
          "metadata": {
            "tags": []
          }
        },
        {
          "output_type": "display_data",
          "data": {
            "text/html": [
              "<pre>Generating candidate set for working with new users.</pre>"
            ],
            "text/plain": [
              "Generating candidate set for working with new users."
            ]
          },
          "metadata": {
            "tags": []
          }
        },
        {
          "output_type": "display_data",
          "data": {
            "text/html": [
              "<pre>Finished training in 0.03524s</pre>"
            ],
            "text/plain": [
              "Finished training in 0.03524s"
            ]
          },
          "metadata": {
            "tags": []
          }
        },
        {
          "output_type": "display_data",
          "data": {
            "text/html": [
              "<pre>recommendations finished on 1000/1000 queries. users per second: 209644</pre>"
            ],
            "text/plain": [
              "recommendations finished on 1000/1000 queries. users per second: 209644"
            ]
          },
          "metadata": {
            "tags": []
          }
        },
        {
          "output_type": "stream",
          "text": [
            "+------------+------------+----------------------+------+\n",
            "| customerId | productsId |        score         | rank |\n",
            "+------------+------------+----------------------+------+\n",
            "|    1553    |     3      | 0.07175218799839851  |  1   |\n",
            "|    1553    |     2      |  0.0451073413803464  |  2   |\n",
            "|    1553    |     1      | 0.030577137063642162 |  3   |\n",
            "|   20400    |     3      | 0.07175218799839851  |  1   |\n",
            "|   20400    |     2      |  0.0451073413803464  |  2   |\n",
            "|   20400    |     1      | 0.030577137063642162 |  3   |\n",
            "|   19750    |     3      | 0.07167287408441739  |  1   |\n",
            "|   19750    |     2      | 0.04261825141452609  |  2   |\n",
            "|    6334    |     3      | 0.07167287408441739  |  1   |\n",
            "|    6334    |     2      | 0.04261825141452609  |  2   |\n",
            "|   27773    |     3      | 0.07167287408441739  |  1   |\n",
            "|   27773    |     2      | 0.04261825141452609  |  2   |\n",
            "|   20027    |     3      | 0.07175218799839851  |  1   |\n",
            "|   20027    |     2      |  0.0451073413803464  |  2   |\n",
            "|   20027    |     1      | 0.030577137063642162 |  3   |\n",
            "|   10104    |     3      | 0.07175218799839851  |  1   |\n",
            "|   10104    |     2      |  0.0451073413803464  |  2   |\n",
            "|   10104    |     1      | 0.030577137063642162 |  3   |\n",
            "|    5522    |     3      | 0.07175218799839851  |  1   |\n",
            "|    5522    |     2      |  0.0451073413803464  |  2   |\n",
            "|    5522    |     1      | 0.030577137063642162 |  3   |\n",
            "|    9978    |     3      | 0.07220502435297207  |  1   |\n",
            "|    9978    |     2      | 0.045582509608495816 |  2   |\n",
            "|   20966    |     3      | 0.07220502435297207  |  1   |\n",
            "|   20966    |     2      | 0.045582509608495816 |  2   |\n",
            "|    218     |     3      | 0.07175218799839851  |  1   |\n",
            "|    218     |     2      |  0.0451073413803464  |  2   |\n",
            "|    218     |     1      | 0.030577137063642162 |  3   |\n",
            "|    9023    |     3      | 0.07273717462152676  |  1   |\n",
            "|    9023    |     2      | 0.04854676780246554  |  2   |\n",
            "+------------+------------+----------------------+------+\n",
            "[2165 rows x 4 columns]\n",
            "\n"
          ],
          "name": "stdout"
        }
      ]
    },
    {
      "metadata": {
        "id": "Otkt_OoteHN_",
        "colab_type": "code",
        "colab": {
          "base_uri": "https://localhost:8080/",
          "height": 714
        },
        "outputId": "c2365615-c1ae-4699-af4e-735556f8c4e0"
      },
      "cell_type": "code",
      "source": [
        "name = 'popularity'\n",
        "target = 'purchase_count'\n",
        "popularity = model(train_data, name, user_id, item_id, target, users_to_recommend, n_rec, n_display)\n"
      ],
      "execution_count": 63,
      "outputs": [
        {
          "output_type": "display_data",
          "data": {
            "text/html": [
              "<pre>Preparing data set.</pre>"
            ],
            "text/plain": [
              "Preparing data set."
            ]
          },
          "metadata": {
            "tags": []
          }
        },
        {
          "output_type": "display_data",
          "data": {
            "text/html": [
              "<pre>    Data has 20165 observations with 19645 users and 9 items.</pre>"
            ],
            "text/plain": [
              "    Data has 20165 observations with 19645 users and 9 items."
            ]
          },
          "metadata": {
            "tags": []
          }
        },
        {
          "output_type": "display_data",
          "data": {
            "text/html": [
              "<pre>    Data prepared in: 0.045249s</pre>"
            ],
            "text/plain": [
              "    Data prepared in: 0.045249s"
            ]
          },
          "metadata": {
            "tags": []
          }
        },
        {
          "output_type": "display_data",
          "data": {
            "text/html": [
              "<pre>20165 observations to process; with 9 unique items.</pre>"
            ],
            "text/plain": [
              "20165 observations to process; with 9 unique items."
            ]
          },
          "metadata": {
            "tags": []
          }
        },
        {
          "output_type": "display_data",
          "data": {
            "text/html": [
              "<pre>recommendations finished on 1000/1000 queries. users per second: 314861</pre>"
            ],
            "text/plain": [
              "recommendations finished on 1000/1000 queries. users per second: 314861"
            ]
          },
          "metadata": {
            "tags": []
          }
        },
        {
          "output_type": "stream",
          "text": [
            "+------------+------------+--------------------+------+\n",
            "| customerId | productsId |       score        | rank |\n",
            "+------------+------------+--------------------+------+\n",
            "|    1553    |     2      | 1.1391752577319587 |  1   |\n",
            "|    1553    |     3      | 1.044776119402985  |  2   |\n",
            "|    1553    |     4      |        1.0         |  3   |\n",
            "|    1553    |     8      |        1.0         |  4   |\n",
            "|    1553    |     9      |        1.0         |  5   |\n",
            "|    1553    |     6      |        1.0         |  6   |\n",
            "|    1553    |     5      |        1.0         |  7   |\n",
            "|    1553    |     7      |        1.0         |  8   |\n",
            "|   20400    |     1      | 2.4938138508136967 |  1   |\n",
            "|   20400    |     2      | 1.1391752577319587 |  2   |\n",
            "|   20400    |     3      | 1.044776119402985  |  3   |\n",
            "|   20400    |     4      |        1.0         |  4   |\n",
            "|   20400    |     8      |        1.0         |  5   |\n",
            "|   20400    |     9      |        1.0         |  6   |\n",
            "|   20400    |     6      |        1.0         |  7   |\n",
            "|   20400    |     5      |        1.0         |  8   |\n",
            "|   20400    |     7      |        1.0         |  9   |\n",
            "|   19750    |     2      | 1.1391752577319587 |  1   |\n",
            "|   19750    |     3      | 1.044776119402985  |  2   |\n",
            "|   19750    |     4      |        1.0         |  3   |\n",
            "|   19750    |     8      |        1.0         |  4   |\n",
            "|   19750    |     9      |        1.0         |  5   |\n",
            "|   19750    |     6      |        1.0         |  6   |\n",
            "|   19750    |     5      |        1.0         |  7   |\n",
            "|   19750    |     7      |        1.0         |  8   |\n",
            "|    6334    |     2      | 1.1391752577319587 |  1   |\n",
            "|    6334    |     3      | 1.044776119402985  |  2   |\n",
            "|    6334    |     4      |        1.0         |  3   |\n",
            "|    6334    |     8      |        1.0         |  4   |\n",
            "|    6334    |     9      |        1.0         |  5   |\n",
            "+------------+------------+--------------------+------+\n",
            "[8158 rows x 4 columns]\n",
            "\n"
          ],
          "name": "stdout"
        }
      ]
    },
    {
      "metadata": {
        "id": "l6iCjxhufYcJ",
        "colab_type": "code",
        "colab": {
          "base_uri": "https://localhost:8080/",
          "height": 748
        },
        "outputId": "a9aa07cd-c85f-44c6-e123-02697612b795"
      },
      "cell_type": "code",
      "source": [
        "name = 'popularity'\n",
        "target = 'purchase_dummy'\n",
        "pop_dummy = model(train_data_dummy, name, user_id, item_id, target, users_to_recommend, n_rec, n_display)"
      ],
      "execution_count": 64,
      "outputs": [
        {
          "output_type": "display_data",
          "data": {
            "text/html": [
              "<pre>Warning: Ignoring columns purchase_count;</pre>"
            ],
            "text/plain": [
              "Warning: Ignoring columns purchase_count;"
            ]
          },
          "metadata": {
            "tags": []
          }
        },
        {
          "output_type": "display_data",
          "data": {
            "text/html": [
              "<pre>    To use these columns in scoring predictions, use a model that allows the use of additional features.</pre>"
            ],
            "text/plain": [
              "    To use these columns in scoring predictions, use a model that allows the use of additional features."
            ]
          },
          "metadata": {
            "tags": []
          }
        },
        {
          "output_type": "display_data",
          "data": {
            "text/html": [
              "<pre>Preparing data set.</pre>"
            ],
            "text/plain": [
              "Preparing data set."
            ]
          },
          "metadata": {
            "tags": []
          }
        },
        {
          "output_type": "display_data",
          "data": {
            "text/html": [
              "<pre>    Data has 20165 observations with 19669 users and 10 items.</pre>"
            ],
            "text/plain": [
              "    Data has 20165 observations with 19669 users and 10 items."
            ]
          },
          "metadata": {
            "tags": []
          }
        },
        {
          "output_type": "display_data",
          "data": {
            "text/html": [
              "<pre>    Data prepared in: 0.038944s</pre>"
            ],
            "text/plain": [
              "    Data prepared in: 0.038944s"
            ]
          },
          "metadata": {
            "tags": []
          }
        },
        {
          "output_type": "display_data",
          "data": {
            "text/html": [
              "<pre>20165 observations to process; with 10 unique items.</pre>"
            ],
            "text/plain": [
              "20165 observations to process; with 10 unique items."
            ]
          },
          "metadata": {
            "tags": []
          }
        },
        {
          "output_type": "display_data",
          "data": {
            "text/html": [
              "<pre>recommendations finished on 1000/1000 queries. users per second: 204374</pre>"
            ],
            "text/plain": [
              "recommendations finished on 1000/1000 queries. users per second: 204374"
            ]
          },
          "metadata": {
            "tags": []
          }
        },
        {
          "output_type": "stream",
          "text": [
            "+------------+------------+-------+------+\n",
            "| customerId | productsId | score | rank |\n",
            "+------------+------------+-------+------+\n",
            "|    1553    |     4      |  1.0  |  1   |\n",
            "|    1553    |     2      |  1.0  |  2   |\n",
            "|    1553    |     7      |  1.0  |  3   |\n",
            "|    1553    |     3      |  1.0  |  4   |\n",
            "|    1553    |     15     |  1.0  |  5   |\n",
            "|    1553    |     5      |  1.0  |  6   |\n",
            "|    1553    |     10     |  1.0  |  7   |\n",
            "|    1553    |     8      |  1.0  |  8   |\n",
            "|    1553    |     9      |  1.0  |  9   |\n",
            "|   20400    |     4      |  1.0  |  1   |\n",
            "|   20400    |     2      |  1.0  |  2   |\n",
            "|   20400    |     7      |  1.0  |  3   |\n",
            "|   20400    |     3      |  1.0  |  4   |\n",
            "|   20400    |     15     |  1.0  |  5   |\n",
            "|   20400    |     5      |  1.0  |  6   |\n",
            "|   20400    |     10     |  1.0  |  7   |\n",
            "|   20400    |     8      |  1.0  |  8   |\n",
            "|   20400    |     9      |  1.0  |  9   |\n",
            "|   19750    |     4      |  1.0  |  1   |\n",
            "|   19750    |     2      |  1.0  |  2   |\n",
            "|   19750    |     7      |  1.0  |  3   |\n",
            "|   19750    |     3      |  1.0  |  4   |\n",
            "|   19750    |     15     |  1.0  |  5   |\n",
            "|   19750    |     5      |  1.0  |  6   |\n",
            "|   19750    |     10     |  1.0  |  7   |\n",
            "|   19750    |     8      |  1.0  |  8   |\n",
            "|   19750    |     9      |  1.0  |  9   |\n",
            "|    6334    |     4      |  1.0  |  1   |\n",
            "|    6334    |     2      |  1.0  |  2   |\n",
            "|    6334    |     7      |  1.0  |  3   |\n",
            "+------------+------------+-------+------+\n",
            "[9167 rows x 4 columns]\n",
            "\n"
          ],
          "name": "stdout"
        }
      ]
    },
    {
      "metadata": {
        "id": "wqSP7aN1fcpp",
        "colab_type": "code",
        "colab": {
          "base_uri": "https://localhost:8080/",
          "height": 714
        },
        "outputId": "5a02cbf5-2636-434b-f59f-8360148d9358"
      },
      "cell_type": "code",
      "source": [
        "name = 'popularity'\n",
        "target = 'scaled_purchase_freq'\n",
        "pop_norm = model(train_data_norm, name, user_id, item_id, target, users_to_recommend, n_rec, n_display)"
      ],
      "execution_count": 65,
      "outputs": [
        {
          "output_type": "display_data",
          "data": {
            "text/html": [
              "<pre>Preparing data set.</pre>"
            ],
            "text/plain": [
              "Preparing data set."
            ]
          },
          "metadata": {
            "tags": []
          }
        },
        {
          "output_type": "display_data",
          "data": {
            "text/html": [
              "<pre>    Data has 20124 observations with 19645 users and 3 items.</pre>"
            ],
            "text/plain": [
              "    Data has 20124 observations with 19645 users and 3 items."
            ]
          },
          "metadata": {
            "tags": []
          }
        },
        {
          "output_type": "display_data",
          "data": {
            "text/html": [
              "<pre>    Data prepared in: 0.043773s</pre>"
            ],
            "text/plain": [
              "    Data prepared in: 0.043773s"
            ]
          },
          "metadata": {
            "tags": []
          }
        },
        {
          "output_type": "display_data",
          "data": {
            "text/html": [
              "<pre>20124 observations to process; with 3 unique items.</pre>"
            ],
            "text/plain": [
              "20124 observations to process; with 3 unique items."
            ]
          },
          "metadata": {
            "tags": []
          }
        },
        {
          "output_type": "display_data",
          "data": {
            "text/html": [
              "<pre>recommendations finished on 1000/1000 queries. users per second: 340252</pre>"
            ],
            "text/plain": [
              "recommendations finished on 1000/1000 queries. users per second: 340252"
            ]
          },
          "metadata": {
            "tags": []
          }
        },
        {
          "output_type": "stream",
          "text": [
            "+------------+------------+----------------------+------+\n",
            "| customerId | productsId |        score         | rank |\n",
            "+------------+------------+----------------------+------+\n",
            "|    1553    |     3      | 0.07246376811594203  |  1   |\n",
            "|    1553    |     2      | 0.047023809523809496 |  2   |\n",
            "|    1553    |     1      | 0.03230928777724797  |  3   |\n",
            "|   20400    |     3      | 0.07246376811594203  |  1   |\n",
            "|   20400    |     2      | 0.047023809523809496 |  2   |\n",
            "|   20400    |     1      | 0.03230928777724797  |  3   |\n",
            "|   19750    |     3      | 0.07246376811594203  |  1   |\n",
            "|   19750    |     2      | 0.047023809523809496 |  2   |\n",
            "|    6334    |     3      | 0.07246376811594203  |  1   |\n",
            "|    6334    |     2      | 0.047023809523809496 |  2   |\n",
            "|   27773    |     3      | 0.07246376811594203  |  1   |\n",
            "|   27773    |     2      | 0.047023809523809496 |  2   |\n",
            "|   20027    |     3      | 0.07246376811594203  |  1   |\n",
            "|   20027    |     2      | 0.047023809523809496 |  2   |\n",
            "|   20027    |     1      | 0.03230928777724797  |  3   |\n",
            "|   10104    |     3      | 0.07246376811594203  |  1   |\n",
            "|   10104    |     2      | 0.047023809523809496 |  2   |\n",
            "|   10104    |     1      | 0.03230928777724797  |  3   |\n",
            "|    5522    |     3      | 0.07246376811594203  |  1   |\n",
            "|    5522    |     2      | 0.047023809523809496 |  2   |\n",
            "|    5522    |     1      | 0.03230928777724797  |  3   |\n",
            "|    9978    |     3      | 0.07246376811594203  |  1   |\n",
            "|    9978    |     2      | 0.047023809523809496 |  2   |\n",
            "|   20966    |     3      | 0.07246376811594203  |  1   |\n",
            "|   20966    |     2      | 0.047023809523809496 |  2   |\n",
            "|    218     |     3      | 0.07246376811594203  |  1   |\n",
            "|    218     |     2      | 0.047023809523809496 |  2   |\n",
            "|    218     |     1      | 0.03230928777724797  |  3   |\n",
            "|    9023    |     3      | 0.07246376811594203  |  1   |\n",
            "|    9023    |     2      | 0.047023809523809496 |  2   |\n",
            "+------------+------------+----------------------+------+\n",
            "[2165 rows x 4 columns]\n",
            "\n"
          ],
          "name": "stdout"
        }
      ]
    },
    {
      "metadata": {
        "id": "TdZpot3Memn3",
        "colab_type": "text"
      },
      "cell_type": "markdown",
      "source": [
        "# Model Evaluation"
      ]
    },
    {
      "metadata": {
        "id": "HNtj8m01eps8",
        "colab_type": "code",
        "colab": {}
      },
      "cell_type": "code",
      "source": [
        "models_w_counts = [popularity, cos, pear]\n",
        "models_w_dummy = [pop_dummy, cos_dummy, pear_dummy]\n",
        "models_w_norm = [pop_norm, cos_norm, pear_norm]\n",
        "names_w_counts = ['Popularity Model on Purchase Counts', 'Cosine Similarity on Purchase Counts', 'Pearson Similarity on Purchase Counts']\n",
        "names_w_dummy = ['Popularity Model on Purchase Dummy', 'Cosine Similarity on Purchase Dummy', 'Pearson Similarity on Purchase Dummy']\n",
        "names_w_norm = ['Popularity Model on Scaled Purchase Counts', 'Cosine Similarity on Scaled Purchase Counts', 'Pearson Similarity on Scaled Purchase Counts']\n"
      ],
      "execution_count": 0,
      "outputs": []
    },
    {
      "metadata": {
        "id": "UbV3OBkvew05",
        "colab_type": "code",
        "colab": {
          "base_uri": "https://localhost:8080/",
          "height": 9452
        },
        "outputId": "c96ad2d1-7387-4faa-ea77-5a5f7d862b95"
      },
      "cell_type": "code",
      "source": [
        "eval_counts = tc.recommender.util.compare_models(test_data, models_w_counts, model_names=names_w_counts)\n",
        "eval_dummy = tc.recommender.util.compare_models(test_data_dummy, models_w_dummy, model_names=names_w_dummy)\n",
        "eval_norm = tc.recommender.util.compare_models(test_data_norm, models_w_norm, model_names=names_w_norm)"
      ],
      "execution_count": 76,
      "outputs": [
        {
          "output_type": "stream",
          "text": [
            "PROGRESS: Evaluate model Popularity Model on Purchase Counts\n"
          ],
          "name": "stdout"
        },
        {
          "output_type": "display_data",
          "data": {
            "text/html": [
              "<pre>recommendations finished on 1000/5014 queries. users per second: 169405</pre>"
            ],
            "text/plain": [
              "recommendations finished on 1000/5014 queries. users per second: 169405"
            ]
          },
          "metadata": {
            "tags": []
          }
        },
        {
          "output_type": "display_data",
          "data": {
            "text/html": [
              "<pre>recommendations finished on 2000/5014 queries. users per second: 200300</pre>"
            ],
            "text/plain": [
              "recommendations finished on 2000/5014 queries. users per second: 200300"
            ]
          },
          "metadata": {
            "tags": []
          }
        },
        {
          "output_type": "display_data",
          "data": {
            "text/html": [
              "<pre>recommendations finished on 3000/5014 queries. users per second: 182482</pre>"
            ],
            "text/plain": [
              "recommendations finished on 3000/5014 queries. users per second: 182482"
            ]
          },
          "metadata": {
            "tags": []
          }
        },
        {
          "output_type": "display_data",
          "data": {
            "text/html": [
              "<pre>recommendations finished on 4000/5014 queries. users per second: 189816</pre>"
            ],
            "text/plain": [
              "recommendations finished on 4000/5014 queries. users per second: 189816"
            ]
          },
          "metadata": {
            "tags": []
          }
        },
        {
          "output_type": "display_data",
          "data": {
            "text/html": [
              "<pre>recommendations finished on 5000/5014 queries. users per second: 187554</pre>"
            ],
            "text/plain": [
              "recommendations finished on 5000/5014 queries. users per second: 187554"
            ]
          },
          "metadata": {
            "tags": []
          }
        },
        {
          "output_type": "stream",
          "text": [
            "\n",
            "Precision and recall summary statistics by cutoff\n",
            "+--------+---------------------+--------------------+\n",
            "| cutoff |    mean_precision   |    mean_recall     |\n",
            "+--------+---------------------+--------------------+\n",
            "|   1    |  0.9732748304746743 | 0.9704826485839666 |\n",
            "|   2    | 0.48673713601914737 | 0.9706820901475853 |\n",
            "|   3    |  0.3313389176971156 | 0.9912245712006382 |\n",
            "|   4    |  0.2505484642999601 | 0.9974072596729134 |\n",
            "|   5    |  0.200837654567212  | 0.9989030714000802 |\n",
            "|   6    | 0.16746443292115387 | 0.9992022337455112 |\n",
            "|   7    | 0.14354094250384608 | 0.9992022337455112 |\n",
            "|   8    |  0.1256232548863182 | 0.9994016753091354 |\n",
            "|   9    |  0.1117371360191465 |        1.0         |\n",
            "|   10   | 0.10060386473429954 |        1.0         |\n",
            "+--------+---------------------+--------------------+\n",
            "[10 rows x 3 columns]\n",
            "\n",
            "\n",
            "Overall RMSE: 2.4074710670251966\n",
            "\n",
            "Per User RMSE (best)\n",
            "+------------+------+-------+\n",
            "| customerId | rmse | count |\n",
            "+------------+------+-------+\n",
            "|    3995    | 0.0  |   1   |\n",
            "+------------+------+-------+\n",
            "[1 rows x 3 columns]\n",
            "\n",
            "\n",
            "Per User RMSE (worst)\n",
            "+------------+--------------------+-------+\n",
            "| customerId |        rmse        | count |\n",
            "+------------+--------------------+-------+\n",
            "|    713     | 44.506186149186306 |   1   |\n",
            "+------------+--------------------+-------+\n",
            "[1 rows x 3 columns]\n",
            "\n",
            "\n",
            "Per Item RMSE (best)\n",
            "+------------+------+-------+\n",
            "| productsId | rmse | count |\n",
            "+------------+------+-------+\n",
            "|     8      | 0.0  |   1   |\n",
            "+------------+------+-------+\n",
            "[1 rows x 3 columns]\n",
            "\n",
            "\n",
            "Per Item RMSE (worst)\n",
            "+------------+-------------------+-------+\n",
            "| productsId |        rmse       | count |\n",
            "+------------+-------------------+-------+\n",
            "|     1      | 2.446497027643792 |  4879 |\n",
            "+------------+-------------------+-------+\n",
            "[1 rows x 3 columns]\n",
            "\n",
            "PROGRESS: Evaluate model Cosine Similarity on Purchase Counts\n"
          ],
          "name": "stdout"
        },
        {
          "output_type": "display_data",
          "data": {
            "text/html": [
              "<pre>recommendations finished on 1000/5014 queries. users per second: 162259</pre>"
            ],
            "text/plain": [
              "recommendations finished on 1000/5014 queries. users per second: 162259"
            ]
          },
          "metadata": {
            "tags": []
          }
        },
        {
          "output_type": "display_data",
          "data": {
            "text/html": [
              "<pre>recommendations finished on 2000/5014 queries. users per second: 158215</pre>"
            ],
            "text/plain": [
              "recommendations finished on 2000/5014 queries. users per second: 158215"
            ]
          },
          "metadata": {
            "tags": []
          }
        },
        {
          "output_type": "display_data",
          "data": {
            "text/html": [
              "<pre>recommendations finished on 3000/5014 queries. users per second: 158806</pre>"
            ],
            "text/plain": [
              "recommendations finished on 3000/5014 queries. users per second: 158806"
            ]
          },
          "metadata": {
            "tags": []
          }
        },
        {
          "output_type": "display_data",
          "data": {
            "text/html": [
              "<pre>recommendations finished on 4000/5014 queries. users per second: 163921</pre>"
            ],
            "text/plain": [
              "recommendations finished on 4000/5014 queries. users per second: 163921"
            ]
          },
          "metadata": {
            "tags": []
          }
        },
        {
          "output_type": "display_data",
          "data": {
            "text/html": [
              "<pre>recommendations finished on 5000/5014 queries. users per second: 173732</pre>"
            ],
            "text/plain": [
              "recommendations finished on 5000/5014 queries. users per second: 173732"
            ]
          },
          "metadata": {
            "tags": []
          }
        },
        {
          "output_type": "stream",
          "text": [
            "\n",
            "Precision and recall summary statistics by cutoff\n",
            "+--------+----------------------+----------------------+\n",
            "| cutoff |    mean_precision    |     mean_recall      |\n",
            "+--------+----------------------+----------------------+\n",
            "|   1    | 0.04726765057838078  | 0.04527323494216199  |\n",
            "|   2    | 0.025528520143597862 | 0.04846429996011187  |\n",
            "|   3    | 0.01748437707751629  | 0.049561228560031964 |\n",
            "|   4    | 0.013113282808137191 | 0.049561228560031964 |\n",
            "|   5    | 0.01053051455923409  | 0.04976067012365373  |\n",
            "|   6    | 0.008808669059965423 | 0.049960111687275544 |\n",
            "|   7    |  0.1435124508519007  |  0.9990027921818904  |\n",
            "|   8    | 0.12564818508177114  |  0.999601116872756   |\n",
            "|   9    | 0.11173713601914653  |         1.0          |\n",
            "|   10   | 0.10060386473429953  |         1.0          |\n",
            "+--------+----------------------+----------------------+\n",
            "[10 rows x 3 columns]\n",
            "\n",
            "\n",
            "Overall RMSE: 3.3745444040584096\n",
            "\n",
            "Per User RMSE (best)\n",
            "+------------+-----------------------+-------+\n",
            "| customerId |          rmse         | count |\n",
            "+------------+-----------------------+-------+\n",
            "|    2823    | 0.0036221742630004883 |   1   |\n",
            "+------------+-----------------------+-------+\n",
            "[1 rows x 3 columns]\n",
            "\n",
            "\n",
            "Per User RMSE (worst)\n",
            "+------------+-------------------+-------+\n",
            "| customerId |        rmse       | count |\n",
            "+------------+-------------------+-------+\n",
            "|    713     | 46.99595285124249 |   1   |\n",
            "+------------+-------------------+-------+\n",
            "[1 rows x 3 columns]\n",
            "\n",
            "\n",
            "Per Item RMSE (best)\n",
            "+------------+--------------------+-------+\n",
            "| productsId |        rmse        | count |\n",
            "+------------+--------------------+-------+\n",
            "|     8      | 0.5933516025543213 |   1   |\n",
            "+------------+--------------------+-------+\n",
            "[1 rows x 3 columns]\n",
            "\n",
            "\n",
            "Per Item RMSE (worst)\n",
            "+------------+-------------------+-------+\n",
            "| productsId |        rmse       | count |\n",
            "+------------+-------------------+-------+\n",
            "|     1      | 3.417411857134328 |  4879 |\n",
            "+------------+-------------------+-------+\n",
            "[1 rows x 3 columns]\n",
            "\n",
            "PROGRESS: Evaluate model Pearson Similarity on Purchase Counts\n"
          ],
          "name": "stdout"
        },
        {
          "output_type": "display_data",
          "data": {
            "text/html": [
              "<pre>recommendations finished on 1000/5014 queries. users per second: 177054</pre>"
            ],
            "text/plain": [
              "recommendations finished on 1000/5014 queries. users per second: 177054"
            ]
          },
          "metadata": {
            "tags": []
          }
        },
        {
          "output_type": "display_data",
          "data": {
            "text/html": [
              "<pre>recommendations finished on 2000/5014 queries. users per second: 148313</pre>"
            ],
            "text/plain": [
              "recommendations finished on 2000/5014 queries. users per second: 148313"
            ]
          },
          "metadata": {
            "tags": []
          }
        },
        {
          "output_type": "display_data",
          "data": {
            "text/html": [
              "<pre>recommendations finished on 3000/5014 queries. users per second: 164141</pre>"
            ],
            "text/plain": [
              "recommendations finished on 3000/5014 queries. users per second: 164141"
            ]
          },
          "metadata": {
            "tags": []
          }
        },
        {
          "output_type": "display_data",
          "data": {
            "text/html": [
              "<pre>recommendations finished on 4000/5014 queries. users per second: 176632</pre>"
            ],
            "text/plain": [
              "recommendations finished on 4000/5014 queries. users per second: 176632"
            ]
          },
          "metadata": {
            "tags": []
          }
        },
        {
          "output_type": "display_data",
          "data": {
            "text/html": [
              "<pre>recommendations finished on 5000/5014 queries. users per second: 177784</pre>"
            ],
            "text/plain": [
              "recommendations finished on 5000/5014 queries. users per second: 177784"
            ]
          },
          "metadata": {
            "tags": []
          }
        },
        {
          "output_type": "stream",
          "text": [
            "\n",
            "Precision and recall summary statistics by cutoff\n",
            "+--------+---------------------+--------------------+\n",
            "| cutoff |    mean_precision   |    mean_recall     |\n",
            "+--------+---------------------+--------------------+\n",
            "|   1    |  0.9922217790187489 | 0.9894295971280426 |\n",
            "|   2    |  0.5000997207818112 | 0.9954128440366954 |\n",
            "|   3    |  0.3339981385454059 | 0.9967092142002395 |\n",
            "|   4    | 0.25064818508177045 | 0.9970083765456708 |\n",
            "|   5    | 0.20051854806541697 | 0.9970083765456708 |\n",
            "|   6    | 0.16713203031511806 | 0.9972078181092944 |\n",
            "|   7    | 0.14336999259216998 | 0.9980055843637818 |\n",
            "|   8    |  0.1256481850817714 | 0.999601116872756  |\n",
            "|   9    | 0.11173713601914641 |        1.0         |\n",
            "|   10   | 0.10060386473429957 |        1.0         |\n",
            "+--------+---------------------+--------------------+\n",
            "[10 rows x 3 columns]\n",
            "\n",
            "\n",
            "Overall RMSE: 2.4101933240073197\n",
            "\n",
            "Per User RMSE (best)\n",
            "+------------+------+-------+\n",
            "| customerId | rmse | count |\n",
            "+------------+------+-------+\n",
            "|    3995    | 0.0  |   1   |\n",
            "+------------+------+-------+\n",
            "[1 rows x 3 columns]\n",
            "\n",
            "\n",
            "Per User RMSE (worst)\n",
            "+------------+-------------------+-------+\n",
            "| customerId |        rmse       | count |\n",
            "+------------+-------------------+-------+\n",
            "|    713     | 44.52812434732888 |   1   |\n",
            "+------------+-------------------+-------+\n",
            "[1 rows x 3 columns]\n",
            "\n",
            "\n",
            "Per Item RMSE (best)\n",
            "+------------+------+-------+\n",
            "| productsId | rmse | count |\n",
            "+------------+------+-------+\n",
            "|     8      | 0.0  |   1   |\n",
            "+------------+------+-------+\n",
            "[1 rows x 3 columns]\n",
            "\n",
            "\n",
            "Per Item RMSE (worst)\n",
            "+------------+-------------------+-------+\n",
            "| productsId |        rmse       | count |\n",
            "+------------+-------------------+-------+\n",
            "|     1      | 2.445209587617178 |  4879 |\n",
            "+------------+-------------------+-------+\n",
            "[1 rows x 3 columns]\n",
            "\n",
            "PROGRESS: Evaluate model Popularity Model on Purchase Dummy\n"
          ],
          "name": "stdout"
        },
        {
          "output_type": "display_data",
          "data": {
            "text/html": [
              "<pre>recommendations finished on 1000/5006 queries. users per second: 167701</pre>"
            ],
            "text/plain": [
              "recommendations finished on 1000/5006 queries. users per second: 167701"
            ]
          },
          "metadata": {
            "tags": []
          }
        },
        {
          "output_type": "display_data",
          "data": {
            "text/html": [
              "<pre>recommendations finished on 2000/5006 queries. users per second: 162232</pre>"
            ],
            "text/plain": [
              "recommendations finished on 2000/5006 queries. users per second: 162232"
            ]
          },
          "metadata": {
            "tags": []
          }
        },
        {
          "output_type": "display_data",
          "data": {
            "text/html": [
              "<pre>recommendations finished on 3000/5006 queries. users per second: 169683</pre>"
            ],
            "text/plain": [
              "recommendations finished on 3000/5006 queries. users per second: 169683"
            ]
          },
          "metadata": {
            "tags": []
          }
        },
        {
          "output_type": "display_data",
          "data": {
            "text/html": [
              "<pre>recommendations finished on 4000/5006 queries. users per second: 182315</pre>"
            ],
            "text/plain": [
              "recommendations finished on 4000/5006 queries. users per second: 182315"
            ]
          },
          "metadata": {
            "tags": []
          }
        },
        {
          "output_type": "display_data",
          "data": {
            "text/html": [
              "<pre>recommendations finished on 5000/5006 queries. users per second: 184515</pre>"
            ],
            "text/plain": [
              "recommendations finished on 5000/5006 queries. users per second: 184515"
            ]
          },
          "metadata": {
            "tags": []
          }
        },
        {
          "output_type": "stream",
          "text": [
            "\n",
            "Precision and recall summary statistics by cutoff\n",
            "+--------+---------------------+--------------------+\n",
            "| cutoff |    mean_precision   |    mean_recall     |\n",
            "+--------+---------------------+--------------------+\n",
            "|   1    |  0.9744306831801837 | 0.9708349980023973 |\n",
            "|   2    |  0.4966040751098673 | 0.9895125848981213 |\n",
            "|   3    |  0.3346650685843655 | 0.9971034758290015 |\n",
            "|   4    | 0.25139832201358414 | 0.9987015581302443 |\n",
            "|   5    | 0.20123851378345975 | 0.9991010787055526 |\n",
            "|   6    | 0.16773205486749249 | 0.9993008389932108 |\n",
            "|   7    | 0.14379886992751473 | 0.9994007191370361 |\n",
            "|   8    | 0.12582401118657588 | 0.9994007191370361 |\n",
            "|   9    | 0.11189073112265287 | 0.9998002397123447 |\n",
            "|   10   | 0.10076852221778314 |        1.0         |\n",
            "+--------+---------------------+--------------------+\n",
            "[10 rows x 3 columns]\n",
            "\n",
            "\n",
            "Overall RMSE: 0.0\n",
            "\n",
            "Per User RMSE (best)\n",
            "+------------+------+-------+\n",
            "| customerId | rmse | count |\n",
            "+------------+------+-------+\n",
            "|   16436    | 0.0  |   1   |\n",
            "+------------+------+-------+\n",
            "[1 rows x 3 columns]\n",
            "\n",
            "\n",
            "Per User RMSE (worst)\n",
            "+------------+------+-------+\n",
            "| customerId | rmse | count |\n",
            "+------------+------+-------+\n",
            "|   27161    | 0.0  |   1   |\n",
            "+------------+------+-------+\n",
            "[1 rows x 3 columns]\n",
            "\n",
            "\n",
            "Per Item RMSE (best)\n",
            "+------------+------+-------+\n",
            "| productsId | rmse | count |\n",
            "+------------+------+-------+\n",
            "|     8      | 0.0  |   1   |\n",
            "+------------+------+-------+\n",
            "[1 rows x 3 columns]\n",
            "\n",
            "\n",
            "Per Item RMSE (worst)\n",
            "+------------+------+-------+\n",
            "| productsId | rmse | count |\n",
            "+------------+------+-------+\n",
            "|     2      | 0.0  |  147  |\n",
            "+------------+------+-------+\n",
            "[1 rows x 3 columns]\n",
            "\n",
            "PROGRESS: Evaluate model Cosine Similarity on Purchase Dummy\n"
          ],
          "name": "stdout"
        },
        {
          "output_type": "display_data",
          "data": {
            "text/html": [
              "<pre>recommendations finished on 1000/5006 queries. users per second: 142349</pre>"
            ],
            "text/plain": [
              "recommendations finished on 1000/5006 queries. users per second: 142349"
            ]
          },
          "metadata": {
            "tags": []
          }
        },
        {
          "output_type": "display_data",
          "data": {
            "text/html": [
              "<pre>recommendations finished on 2000/5006 queries. users per second: 182432</pre>"
            ],
            "text/plain": [
              "recommendations finished on 2000/5006 queries. users per second: 182432"
            ]
          },
          "metadata": {
            "tags": []
          }
        },
        {
          "output_type": "display_data",
          "data": {
            "text/html": [
              "<pre>recommendations finished on 3000/5006 queries. users per second: 147776</pre>"
            ],
            "text/plain": [
              "recommendations finished on 3000/5006 queries. users per second: 147776"
            ]
          },
          "metadata": {
            "tags": []
          }
        },
        {
          "output_type": "display_data",
          "data": {
            "text/html": [
              "<pre>recommendations finished on 4000/5006 queries. users per second: 151257</pre>"
            ],
            "text/plain": [
              "recommendations finished on 4000/5006 queries. users per second: 151257"
            ]
          },
          "metadata": {
            "tags": []
          }
        },
        {
          "output_type": "display_data",
          "data": {
            "text/html": [
              "<pre>recommendations finished on 5000/5006 queries. users per second: 157594</pre>"
            ],
            "text/plain": [
              "recommendations finished on 5000/5006 queries. users per second: 157594"
            ]
          },
          "metadata": {
            "tags": []
          }
        },
        {
          "output_type": "stream",
          "text": [
            "\n",
            "Precision and recall summary statistics by cutoff\n",
            "+--------+---------------------+--------------------+\n",
            "| cutoff |    mean_precision   |    mean_recall     |\n",
            "+--------+---------------------+--------------------+\n",
            "|   1    |  0.9892129444666412 | 0.985617259288856  |\n",
            "|   2    | 0.49580503395924896 | 0.9879145025968832 |\n",
            "|   3    | 0.33519776268477847 | 0.9987015581302449 |\n",
            "|   4    | 0.25144826208549886 | 0.9989013184178988 |\n",
            "|   5    | 0.20127846584099096 | 0.9993008389932106 |\n",
            "|   6    | 0.16773205486749276 | 0.9993008389932106 |\n",
            "|   7    | 0.14382740711146616 | 0.9996004794246902 |\n",
            "|   8    | 0.12584898122253266 | 0.9996004794246902 |\n",
            "|   9    | 0.11189073112265288 | 0.9998002397123447 |\n",
            "|   10   | 0.10076852221778287 |        1.0         |\n",
            "+--------+---------------------+--------------------+\n",
            "[10 rows x 3 columns]\n",
            "\n",
            "\n",
            "Overall RMSE: 0.9950832731071032\n",
            "\n",
            "Per User RMSE (best)\n",
            "+------------+--------------------+-------+\n",
            "| customerId |        rmse        | count |\n",
            "+------------+--------------------+-------+\n",
            "|    6650    | 0.8779473900794983 |   1   |\n",
            "+------------+--------------------+-------+\n",
            "[1 rows x 3 columns]\n",
            "\n",
            "\n",
            "Per User RMSE (worst)\n",
            "+------------+------+-------+\n",
            "| customerId | rmse | count |\n",
            "+------------+------+-------+\n",
            "|   27161    | 1.0  |   1   |\n",
            "+------------+------+-------+\n",
            "[1 rows x 3 columns]\n",
            "\n",
            "\n",
            "Per Item RMSE (best)\n",
            "+------------+--------------------+-------+\n",
            "| productsId |        rmse        | count |\n",
            "+------------+--------------------+-------+\n",
            "|     2      | 0.9241894896552902 |  147  |\n",
            "+------------+--------------------+-------+\n",
            "[1 rows x 3 columns]\n",
            "\n",
            "\n",
            "Per Item RMSE (worst)\n",
            "+------------+------+-------+\n",
            "| productsId | rmse | count |\n",
            "+------------+------+-------+\n",
            "|     6      | 1.0  |   2   |\n",
            "+------------+------+-------+\n",
            "[1 rows x 3 columns]\n",
            "\n",
            "PROGRESS: Evaluate model Pearson Similarity on Purchase Dummy\n"
          ],
          "name": "stdout"
        },
        {
          "output_type": "display_data",
          "data": {
            "text/html": [
              "<pre>recommendations finished on 1000/5006 queries. users per second: 155739</pre>"
            ],
            "text/plain": [
              "recommendations finished on 1000/5006 queries. users per second: 155739"
            ]
          },
          "metadata": {
            "tags": []
          }
        },
        {
          "output_type": "display_data",
          "data": {
            "text/html": [
              "<pre>recommendations finished on 2000/5006 queries. users per second: 183385</pre>"
            ],
            "text/plain": [
              "recommendations finished on 2000/5006 queries. users per second: 183385"
            ]
          },
          "metadata": {
            "tags": []
          }
        },
        {
          "output_type": "display_data",
          "data": {
            "text/html": [
              "<pre>recommendations finished on 3000/5006 queries. users per second: 187970</pre>"
            ],
            "text/plain": [
              "recommendations finished on 3000/5006 queries. users per second: 187970"
            ]
          },
          "metadata": {
            "tags": []
          }
        },
        {
          "output_type": "display_data",
          "data": {
            "text/html": [
              "<pre>recommendations finished on 4000/5006 queries. users per second: 195781</pre>"
            ],
            "text/plain": [
              "recommendations finished on 4000/5006 queries. users per second: 195781"
            ]
          },
          "metadata": {
            "tags": []
          }
        },
        {
          "output_type": "display_data",
          "data": {
            "text/html": [
              "<pre>recommendations finished on 5000/5006 queries. users per second: 193319</pre>"
            ],
            "text/plain": [
              "recommendations finished on 5000/5006 queries. users per second: 193319"
            ]
          },
          "metadata": {
            "tags": []
          }
        },
        {
          "output_type": "stream",
          "text": [
            "\n",
            "Precision and recall summary statistics by cutoff\n",
            "+--------+---------------------+--------------------+\n",
            "| cutoff |    mean_precision   |    mean_recall     |\n",
            "+--------+---------------------+--------------------+\n",
            "|   1    |  0.9744306831801838 | 0.9708349980023959 |\n",
            "|   2    |  0.496604075109868  | 0.9895125848981203 |\n",
            "|   3    | 0.33466506858436534 | 0.997103475829002  |\n",
            "|   4    | 0.25139832201358364 | 0.9987015581302449 |\n",
            "|   5    | 0.20123851378345992 | 0.9991010787055526 |\n",
            "|   6    |  0.1677320548674925 | 0.9993008389932108 |\n",
            "|   7    | 0.14379886992751545 | 0.9994007191370362 |\n",
            "|   8    | 0.12582401118657596 | 0.9994007191370362 |\n",
            "|   9    | 0.11189073112265295 | 0.9998002397123448 |\n",
            "|   10   | 0.10076852221778289 |        1.0         |\n",
            "+--------+---------------------+--------------------+\n",
            "[10 rows x 3 columns]\n",
            "\n",
            "\n",
            "Overall RMSE: 1.0\n",
            "\n",
            "Per User RMSE (best)\n",
            "+------------+------+-------+\n",
            "| customerId | rmse | count |\n",
            "+------------+------+-------+\n",
            "|   16436    | 1.0  |   1   |\n",
            "+------------+------+-------+\n",
            "[1 rows x 3 columns]\n",
            "\n",
            "\n",
            "Per User RMSE (worst)\n",
            "+------------+------+-------+\n",
            "| customerId | rmse | count |\n",
            "+------------+------+-------+\n",
            "|   27161    | 1.0  |   1   |\n",
            "+------------+------+-------+\n",
            "[1 rows x 3 columns]\n",
            "\n",
            "\n",
            "Per Item RMSE (best)\n",
            "+------------+------+-------+\n",
            "| productsId | rmse | count |\n",
            "+------------+------+-------+\n",
            "|     8      | 1.0  |   1   |\n",
            "+------------+------+-------+\n",
            "[1 rows x 3 columns]\n",
            "\n",
            "\n",
            "Per Item RMSE (worst)\n",
            "+------------+------+-------+\n",
            "| productsId | rmse | count |\n",
            "+------------+------+-------+\n",
            "|     2      | 1.0  |  147  |\n",
            "+------------+------+-------+\n",
            "[1 rows x 3 columns]\n",
            "\n",
            "PROGRESS: Evaluate model Popularity Model on Scaled Purchase Counts\n"
          ],
          "name": "stdout"
        },
        {
          "output_type": "display_data",
          "data": {
            "text/html": [
              "<pre>recommendations finished on 1000/4999 queries. users per second: 298507</pre>"
            ],
            "text/plain": [
              "recommendations finished on 1000/4999 queries. users per second: 298507"
            ]
          },
          "metadata": {
            "tags": []
          }
        },
        {
          "output_type": "display_data",
          "data": {
            "text/html": [
              "<pre>recommendations finished on 2000/4999 queries. users per second: 461148</pre>"
            ],
            "text/plain": [
              "recommendations finished on 2000/4999 queries. users per second: 461148"
            ]
          },
          "metadata": {
            "tags": []
          }
        },
        {
          "output_type": "display_data",
          "data": {
            "text/html": [
              "<pre>recommendations finished on 3000/4999 queries. users per second: 233300</pre>"
            ],
            "text/plain": [
              "recommendations finished on 3000/4999 queries. users per second: 233300"
            ]
          },
          "metadata": {
            "tags": []
          }
        },
        {
          "output_type": "display_data",
          "data": {
            "text/html": [
              "<pre>recommendations finished on 4000/4999 queries. users per second: 247265</pre>"
            ],
            "text/plain": [
              "recommendations finished on 4000/4999 queries. users per second: 247265"
            ]
          },
          "metadata": {
            "tags": []
          }
        },
        {
          "output_type": "stream",
          "text": [
            "\n",
            "Precision and recall summary statistics by cutoff\n",
            "+--------+----------------------+----------------------+\n",
            "| cutoff |    mean_precision    |     mean_recall      |\n",
            "+--------+----------------------+----------------------+\n",
            "|   1    | 0.004800960192038419 | 0.004200840168033601 |\n",
            "|   2    | 0.02800560112022405  | 0.050710142028405666 |\n",
            "|   3    |  0.3437020737480833  |         1.0          |\n",
            "|   4    |  0.3437020737480832  |         1.0          |\n",
            "|   5    |  0.3437020737480832  |         1.0          |\n",
            "|   6    | 0.34370207374808315  |         1.0          |\n",
            "|   7    | 0.34370207374808315  |         1.0          |\n",
            "|   8    | 0.34370207374808315  |         1.0          |\n",
            "|   9    | 0.34370207374808315  |         1.0          |\n",
            "|   10   |  0.3437020737480833  |         1.0          |\n",
            "+--------+----------------------+----------------------+\n",
            "[10 rows x 3 columns]\n",
            "\n",
            "\n",
            "Overall RMSE: 0.05532971643903755\n",
            "\n",
            "Per User RMSE (best)\n",
            "+------------+----------------------+-------+\n",
            "| customerId |         rmse         | count |\n",
            "+------------+----------------------+-------+\n",
            "|   12986    | 0.010570157342465365 |   1   |\n",
            "+------------+----------------------+-------+\n",
            "[1 rows x 3 columns]\n",
            "\n",
            "\n",
            "Per User RMSE (worst)\n",
            "+------------+--------------------+-------+\n",
            "| customerId |        rmse        | count |\n",
            "+------------+--------------------+-------+\n",
            "|    1021    | 0.6198646252662303 |   1   |\n",
            "+------------+--------------------+-------+\n",
            "[1 rows x 3 columns]\n",
            "\n",
            "\n",
            "Per Item RMSE (best)\n",
            "+------------+---------------------+-------+\n",
            "| productsId |         rmse        | count |\n",
            "+------------+---------------------+-------+\n",
            "|     1      | 0.05268898666615727 |  4863 |\n",
            "+------------+---------------------+-------+\n",
            "[1 rows x 3 columns]\n",
            "\n",
            "\n",
            "Per Item RMSE (worst)\n",
            "+------------+---------------------+-------+\n",
            "| productsId |         rmse        | count |\n",
            "+------------+---------------------+-------+\n",
            "|     2      | 0.10934787206413871 |  152  |\n",
            "+------------+---------------------+-------+\n",
            "[1 rows x 3 columns]\n",
            "\n",
            "PROGRESS: Evaluate model Cosine Similarity on Scaled Purchase Counts\n"
          ],
          "name": "stdout"
        },
        {
          "output_type": "display_data",
          "data": {
            "text/html": [
              "<pre>recommendations finished on 1000/4999 queries. users per second: 325945</pre>"
            ],
            "text/plain": [
              "recommendations finished on 1000/4999 queries. users per second: 325945"
            ]
          },
          "metadata": {
            "tags": []
          }
        },
        {
          "output_type": "display_data",
          "data": {
            "text/html": [
              "<pre>recommendations finished on 2000/4999 queries. users per second: 329001</pre>"
            ],
            "text/plain": [
              "recommendations finished on 2000/4999 queries. users per second: 329001"
            ]
          },
          "metadata": {
            "tags": []
          }
        },
        {
          "output_type": "display_data",
          "data": {
            "text/html": [
              "<pre>recommendations finished on 3000/4999 queries. users per second: 289911</pre>"
            ],
            "text/plain": [
              "recommendations finished on 3000/4999 queries. users per second: 289911"
            ]
          },
          "metadata": {
            "tags": []
          }
        },
        {
          "output_type": "display_data",
          "data": {
            "text/html": [
              "<pre>recommendations finished on 4000/4999 queries. users per second: 280938</pre>"
            ],
            "text/plain": [
              "recommendations finished on 4000/4999 queries. users per second: 280938"
            ]
          },
          "metadata": {
            "tags": []
          }
        },
        {
          "output_type": "stream",
          "text": [
            "\n",
            "Precision and recall summary statistics by cutoff\n",
            "+--------+---------------------+--------------------+\n",
            "| cutoff |    mean_precision   |    mean_recall     |\n",
            "+--------+---------------------+--------------------+\n",
            "|   1    |  0.9941988397679538 | 0.9909981996399287 |\n",
            "|   2    |  0.5036007201440279 | 0.9992998599719967 |\n",
            "|   3    | 0.34370207374808276 |        1.0         |\n",
            "|   4    | 0.34370207374808276 |        1.0         |\n",
            "|   5    | 0.34370207374808276 |        1.0         |\n",
            "|   6    | 0.34370207374808276 |        1.0         |\n",
            "|   7    | 0.34370207374808276 |        1.0         |\n",
            "|   8    | 0.34370207374808276 |        1.0         |\n",
            "|   9    | 0.34370207374808276 |        1.0         |\n",
            "|   10   |  0.3437020737480828 |        1.0         |\n",
            "+--------+---------------------+--------------------+\n",
            "[10 rows x 3 columns]\n",
            "\n",
            "\n",
            "Overall RMSE: 0.06174714052637378\n",
            "\n",
            "Per User RMSE (best)\n",
            "+------------+------+-------+\n",
            "| customerId | rmse | count |\n",
            "+------------+------+-------+\n",
            "|    8894    | 0.0  |   1   |\n",
            "+------------+------+-------+\n",
            "[1 rows x 3 columns]\n",
            "\n",
            "\n",
            "Per User RMSE (worst)\n",
            "+------------+--------------------+-------+\n",
            "| customerId |        rmse        | count |\n",
            "+------------+--------------------+-------+\n",
            "|    1021    | 0.6521739130434783 |   1   |\n",
            "+------------+--------------------+-------+\n",
            "[1 rows x 3 columns]\n",
            "\n",
            "\n",
            "Per Item RMSE (best)\n",
            "+------------+----------------------+-------+\n",
            "| productsId |         rmse         | count |\n",
            "+------------+----------------------+-------+\n",
            "|     3      | 0.011197630750097609 |   16  |\n",
            "+------------+----------------------+-------+\n",
            "[1 rows x 3 columns]\n",
            "\n",
            "\n",
            "Per Item RMSE (worst)\n",
            "+------------+---------------------+-------+\n",
            "| productsId |         rmse        | count |\n",
            "+------------+---------------------+-------+\n",
            "|     2      | 0.09801564185522285 |  152  |\n",
            "+------------+---------------------+-------+\n",
            "[1 rows x 3 columns]\n",
            "\n",
            "PROGRESS: Evaluate model Pearson Similarity on Scaled Purchase Counts\n"
          ],
          "name": "stdout"
        },
        {
          "output_type": "display_data",
          "data": {
            "text/html": [
              "<pre>recommendations finished on 1000/4999 queries. users per second: 351247</pre>"
            ],
            "text/plain": [
              "recommendations finished on 1000/4999 queries. users per second: 351247"
            ]
          },
          "metadata": {
            "tags": []
          }
        },
        {
          "output_type": "display_data",
          "data": {
            "text/html": [
              "<pre>recommendations finished on 2000/4999 queries. users per second: 339156</pre>"
            ],
            "text/plain": [
              "recommendations finished on 2000/4999 queries. users per second: 339156"
            ]
          },
          "metadata": {
            "tags": []
          }
        },
        {
          "output_type": "display_data",
          "data": {
            "text/html": [
              "<pre>recommendations finished on 3000/4999 queries. users per second: 304538</pre>"
            ],
            "text/plain": [
              "recommendations finished on 3000/4999 queries. users per second: 304538"
            ]
          },
          "metadata": {
            "tags": []
          }
        },
        {
          "output_type": "display_data",
          "data": {
            "text/html": [
              "<pre>recommendations finished on 4000/4999 queries. users per second: 294074</pre>"
            ],
            "text/plain": [
              "recommendations finished on 4000/4999 queries. users per second: 294074"
            ]
          },
          "metadata": {
            "tags": []
          }
        },
        {
          "output_type": "stream",
          "text": [
            "\n",
            "Precision and recall summary statistics by cutoff\n",
            "+--------+----------------------+----------------------+\n",
            "| cutoff |    mean_precision    |     mean_recall      |\n",
            "+--------+----------------------+----------------------+\n",
            "|   1    | 0.007801560312062434 | 0.007201440288057603 |\n",
            "|   2    | 0.028005601120224072 | 0.05071014202840547  |\n",
            "|   3    | 0.34370207374808315  |         1.0          |\n",
            "|   4    | 0.34370207374808315  |         1.0          |\n",
            "|   5    |  0.3437020737480832  |         1.0          |\n",
            "|   6    |  0.3437020737480832  |         1.0          |\n",
            "|   7    |  0.3437020737480832  |         1.0          |\n",
            "|   8    |  0.3437020737480832  |         1.0          |\n",
            "|   9    |  0.3437020737480832  |         1.0          |\n",
            "|   10   |  0.3437020737480832  |         1.0          |\n",
            "+--------+----------------------+----------------------+\n",
            "[10 rows x 3 columns]\n",
            "\n",
            "\n",
            "Overall RMSE: 0.055053928302984965\n",
            "\n",
            "Per User RMSE (best)\n",
            "+------------+---------------------+-------+\n",
            "| customerId |         rmse        | count |\n",
            "+------------+---------------------+-------+\n",
            "|    6397    | 0.00415818768074961 |   1   |\n",
            "+------------+---------------------+-------+\n",
            "[1 rows x 3 columns]\n",
            "\n",
            "\n",
            "Per User RMSE (worst)\n",
            "+------------+--------------------+-------+\n",
            "| customerId |        rmse        | count |\n",
            "+------------+--------------------+-------+\n",
            "|    1021    | 0.6239575272113476 |   1   |\n",
            "+------------+--------------------+-------+\n",
            "[1 rows x 3 columns]\n",
            "\n",
            "\n",
            "Per Item RMSE (best)\n",
            "+------------+-------------------+-------+\n",
            "| productsId |        rmse       | count |\n",
            "+------------+-------------------+-------+\n",
            "|     1      | 0.052747898772469 |  4863 |\n",
            "+------------+-------------------+-------+\n",
            "[1 rows x 3 columns]\n",
            "\n",
            "\n",
            "Per Item RMSE (worst)\n",
            "+------------+---------------------+-------+\n",
            "| productsId |         rmse        | count |\n",
            "+------------+---------------------+-------+\n",
            "|     2      | 0.10354171564546419 |  152  |\n",
            "+------------+---------------------+-------+\n",
            "[1 rows x 3 columns]\n",
            "\n"
          ],
          "name": "stdout"
        }
      ]
    },
    {
      "metadata": {
        "id": "Naual8YugKsd",
        "colab_type": "code",
        "colab": {
          "base_uri": "https://localhost:8080/",
          "height": 1054
        },
        "outputId": "66f8a56b-2a59-42f8-a81d-4c3e9b7e479a"
      },
      "cell_type": "code",
      "source": [
        "name = 'cosine'\n",
        "target = 'purchase_dummy'\n",
        "cos_dummy = model(train_data_dummy, name, user_id, item_id, target, users_to_recommend, n_rec, n_display)"
      ],
      "execution_count": 78,
      "outputs": [
        {
          "output_type": "display_data",
          "data": {
            "text/html": [
              "<pre>Warning: Ignoring columns purchase_count;</pre>"
            ],
            "text/plain": [
              "Warning: Ignoring columns purchase_count;"
            ]
          },
          "metadata": {
            "tags": []
          }
        },
        {
          "output_type": "display_data",
          "data": {
            "text/html": [
              "<pre>    To use these columns in scoring predictions, use a model that allows the use of additional features.</pre>"
            ],
            "text/plain": [
              "    To use these columns in scoring predictions, use a model that allows the use of additional features."
            ]
          },
          "metadata": {
            "tags": []
          }
        },
        {
          "output_type": "display_data",
          "data": {
            "text/html": [
              "<pre>Preparing data set.</pre>"
            ],
            "text/plain": [
              "Preparing data set."
            ]
          },
          "metadata": {
            "tags": []
          }
        },
        {
          "output_type": "display_data",
          "data": {
            "text/html": [
              "<pre>    Data has 20165 observations with 19669 users and 10 items.</pre>"
            ],
            "text/plain": [
              "    Data has 20165 observations with 19669 users and 10 items."
            ]
          },
          "metadata": {
            "tags": []
          }
        },
        {
          "output_type": "display_data",
          "data": {
            "text/html": [
              "<pre>    Data prepared in: 0.054823s</pre>"
            ],
            "text/plain": [
              "    Data prepared in: 0.054823s"
            ]
          },
          "metadata": {
            "tags": []
          }
        },
        {
          "output_type": "display_data",
          "data": {
            "text/html": [
              "<pre>Training model from provided data.</pre>"
            ],
            "text/plain": [
              "Training model from provided data."
            ]
          },
          "metadata": {
            "tags": []
          }
        },
        {
          "output_type": "display_data",
          "data": {
            "text/html": [
              "<pre>Gathering per-item and per-user statistics.</pre>"
            ],
            "text/plain": [
              "Gathering per-item and per-user statistics."
            ]
          },
          "metadata": {
            "tags": []
          }
        },
        {
          "output_type": "display_data",
          "data": {
            "text/html": [
              "<pre>+--------------------------------+------------+</pre>"
            ],
            "text/plain": [
              "+--------------------------------+------------+"
            ]
          },
          "metadata": {
            "tags": []
          }
        },
        {
          "output_type": "display_data",
          "data": {
            "text/html": [
              "<pre>| Elapsed Time (Item Statistics) | % Complete |</pre>"
            ],
            "text/plain": [
              "| Elapsed Time (Item Statistics) | % Complete |"
            ]
          },
          "metadata": {
            "tags": []
          }
        },
        {
          "output_type": "display_data",
          "data": {
            "text/html": [
              "<pre>+--------------------------------+------------+</pre>"
            ],
            "text/plain": [
              "+--------------------------------+------------+"
            ]
          },
          "metadata": {
            "tags": []
          }
        },
        {
          "output_type": "display_data",
          "data": {
            "text/html": [
              "<pre>| 739us                          | 5          |</pre>"
            ],
            "text/plain": [
              "| 739us                          | 5          |"
            ]
          },
          "metadata": {
            "tags": []
          }
        },
        {
          "output_type": "display_data",
          "data": {
            "text/html": [
              "<pre>| 3.862ms                        | 100        |</pre>"
            ],
            "text/plain": [
              "| 3.862ms                        | 100        |"
            ]
          },
          "metadata": {
            "tags": []
          }
        },
        {
          "output_type": "display_data",
          "data": {
            "text/html": [
              "<pre>+--------------------------------+------------+</pre>"
            ],
            "text/plain": [
              "+--------------------------------+------------+"
            ]
          },
          "metadata": {
            "tags": []
          }
        },
        {
          "output_type": "display_data",
          "data": {
            "text/html": [
              "<pre>Setting up lookup tables.</pre>"
            ],
            "text/plain": [
              "Setting up lookup tables."
            ]
          },
          "metadata": {
            "tags": []
          }
        },
        {
          "output_type": "display_data",
          "data": {
            "text/html": [
              "<pre>Processing data in one pass using dense lookup tables.</pre>"
            ],
            "text/plain": [
              "Processing data in one pass using dense lookup tables."
            ]
          },
          "metadata": {
            "tags": []
          }
        },
        {
          "output_type": "display_data",
          "data": {
            "text/html": [
              "<pre>+-------------------------------------+------------------+-----------------+</pre>"
            ],
            "text/plain": [
              "+-------------------------------------+------------------+-----------------+"
            ]
          },
          "metadata": {
            "tags": []
          }
        },
        {
          "output_type": "stream",
          "text": [
            "+------------+------------+----------------------+------+\n",
            "| customerId | productsId |        score         | rank |\n",
            "+------------+------------+----------------------+------+\n",
            "|    1553    |     2      | 0.12205260992050171  |  1   |\n",
            "|    1553    |     3      | 0.04250669479370117  |  2   |\n",
            "|    1553    |     4      | 0.03032892942428589  |  3   |\n",
            "|    1553    |     5      | 0.011697709560394287 |  4   |\n",
            "|    1553    |     7      | 0.010130524635314941 |  5   |\n",
            "|    1553    |     8      | 0.010130524635314941 |  6   |\n",
            "|    1553    |     9      | 0.010130524635314941 |  7   |\n",
            "|    1553    |     15     | 0.007163345813751221 |  8   |\n",
            "|    1553    |     10     | 0.007163345813751221 |  9   |\n",
            "|   20400    |     2      | 0.12205260992050171  |  1   |\n",
            "|   20400    |     3      | 0.04250669479370117  |  2   |\n",
            "|   20400    |     4      | 0.03032892942428589  |  3   |\n",
            "|   20400    |     5      | 0.011697709560394287 |  4   |\n",
            "|   20400    |     7      | 0.010130524635314941 |  5   |\n",
            "|   20400    |     8      | 0.010130524635314941 |  6   |\n",
            "|   20400    |     9      | 0.010130524635314941 |  7   |\n",
            "|   20400    |     15     | 0.007163345813751221 |  8   |\n",
            "|   20400    |     10     | 0.007163345813751221 |  9   |\n",
            "|   19750    |     2      | 0.12205260992050171  |  1   |\n",
            "|   19750    |     3      | 0.04250669479370117  |  2   |\n",
            "|   19750    |     4      | 0.03032892942428589  |  3   |\n",
            "|   19750    |     5      | 0.011697709560394287 |  4   |\n",
            "|   19750    |     7      | 0.010130524635314941 |  5   |\n",
            "|   19750    |     8      | 0.010130524635314941 |  6   |\n",
            "|   19750    |     9      | 0.010130524635314941 |  7   |\n",
            "|   19750    |     15     | 0.007163345813751221 |  8   |\n",
            "|   19750    |     10     | 0.007163345813751221 |  9   |\n",
            "|    6334    |     2      | 0.12205260992050171  |  1   |\n",
            "|    6334    |     3      | 0.04250669479370117  |  2   |\n",
            "|    6334    |     4      | 0.03032892942428589  |  3   |\n",
            "+------------+------------+----------------------+------+\n",
            "[9167 rows x 4 columns]\n",
            "\n"
          ],
          "name": "stdout"
        },
        {
          "output_type": "display_data",
          "data": {
            "text/html": [
              "<pre>| Elapsed Time (Constructing Lookups) | Total % Complete | Items Processed |</pre>"
            ],
            "text/plain": [
              "| Elapsed Time (Constructing Lookups) | Total % Complete | Items Processed |"
            ]
          },
          "metadata": {
            "tags": []
          }
        },
        {
          "output_type": "display_data",
          "data": {
            "text/html": [
              "<pre>+-------------------------------------+------------------+-----------------+</pre>"
            ],
            "text/plain": [
              "+-------------------------------------+------------------+-----------------+"
            ]
          },
          "metadata": {
            "tags": []
          }
        },
        {
          "output_type": "display_data",
          "data": {
            "text/html": [
              "<pre>| 4.353ms                             | 0                | 0               |</pre>"
            ],
            "text/plain": [
              "| 4.353ms                             | 0                | 0               |"
            ]
          },
          "metadata": {
            "tags": []
          }
        },
        {
          "output_type": "display_data",
          "data": {
            "text/html": [
              "<pre>| 8.882ms                             | 100              | 10              |</pre>"
            ],
            "text/plain": [
              "| 8.882ms                             | 100              | 10              |"
            ]
          },
          "metadata": {
            "tags": []
          }
        },
        {
          "output_type": "display_data",
          "data": {
            "text/html": [
              "<pre>+-------------------------------------+------------------+-----------------+</pre>"
            ],
            "text/plain": [
              "+-------------------------------------+------------------+-----------------+"
            ]
          },
          "metadata": {
            "tags": []
          }
        },
        {
          "output_type": "display_data",
          "data": {
            "text/html": [
              "<pre>Finalizing lookup tables.</pre>"
            ],
            "text/plain": [
              "Finalizing lookup tables."
            ]
          },
          "metadata": {
            "tags": []
          }
        },
        {
          "output_type": "display_data",
          "data": {
            "text/html": [
              "<pre>Generating candidate set for working with new users.</pre>"
            ],
            "text/plain": [
              "Generating candidate set for working with new users."
            ]
          },
          "metadata": {
            "tags": []
          }
        },
        {
          "output_type": "display_data",
          "data": {
            "text/html": [
              "<pre>Finished training in 0.011302s</pre>"
            ],
            "text/plain": [
              "Finished training in 0.011302s"
            ]
          },
          "metadata": {
            "tags": []
          }
        },
        {
          "output_type": "display_data",
          "data": {
            "text/html": [
              "<pre>recommendations finished on 1000/1000 queries. users per second: 58541.2</pre>"
            ],
            "text/plain": [
              "recommendations finished on 1000/1000 queries. users per second: 58541.2"
            ]
          },
          "metadata": {
            "tags": []
          }
        }
      ]
    },
    {
      "metadata": {
        "id": "WwUeJWSWgjLn",
        "colab_type": "code",
        "colab": {
          "base_uri": "https://localhost:8080/",
          "height": 646
        },
        "outputId": "b588e0c6-d8a9-4828-d8dd-b468f1f8c138"
      },
      "cell_type": "code",
      "source": [
        "recom = cos_dummy.recommend(users=users_to_recommend, k=n_rec)\n",
        "recom.print_rows(n_display)"
      ],
      "execution_count": 80,
      "outputs": [
        {
          "output_type": "display_data",
          "data": {
            "text/html": [
              "<pre>recommendations finished on 1000/1000 queries. users per second: 89750.5</pre>"
            ],
            "text/plain": [
              "recommendations finished on 1000/1000 queries. users per second: 89750.5"
            ]
          },
          "metadata": {
            "tags": []
          }
        },
        {
          "output_type": "stream",
          "text": [
            "+------------+------------+----------------------+------+\n",
            "| customerId | productsId |        score         | rank |\n",
            "+------------+------------+----------------------+------+\n",
            "|    1553    |     2      | 0.12205260992050171  |  1   |\n",
            "|    1553    |     3      | 0.04250669479370117  |  2   |\n",
            "|    1553    |     4      | 0.03032892942428589  |  3   |\n",
            "|    1553    |     5      | 0.011697709560394287 |  4   |\n",
            "|    1553    |     7      | 0.010130524635314941 |  5   |\n",
            "|    1553    |     8      | 0.010130524635314941 |  6   |\n",
            "|    1553    |     9      | 0.010130524635314941 |  7   |\n",
            "|    1553    |     15     | 0.007163345813751221 |  8   |\n",
            "|    1553    |     10     | 0.007163345813751221 |  9   |\n",
            "|   20400    |     2      | 0.12205260992050171  |  1   |\n",
            "|   20400    |     3      | 0.04250669479370117  |  2   |\n",
            "|   20400    |     4      | 0.03032892942428589  |  3   |\n",
            "|   20400    |     5      | 0.011697709560394287 |  4   |\n",
            "|   20400    |     7      | 0.010130524635314941 |  5   |\n",
            "|   20400    |     8      | 0.010130524635314941 |  6   |\n",
            "|   20400    |     9      | 0.010130524635314941 |  7   |\n",
            "|   20400    |     15     | 0.007163345813751221 |  8   |\n",
            "|   20400    |     10     | 0.007163345813751221 |  9   |\n",
            "|   19750    |     2      | 0.12205260992050171  |  1   |\n",
            "|   19750    |     3      | 0.04250669479370117  |  2   |\n",
            "|   19750    |     4      | 0.03032892942428589  |  3   |\n",
            "|   19750    |     5      | 0.011697709560394287 |  4   |\n",
            "|   19750    |     7      | 0.010130524635314941 |  5   |\n",
            "|   19750    |     8      | 0.010130524635314941 |  6   |\n",
            "|   19750    |     9      | 0.010130524635314941 |  7   |\n",
            "|   19750    |     15     | 0.007163345813751221 |  8   |\n",
            "|   19750    |     10     | 0.007163345813751221 |  9   |\n",
            "|    6334    |     2      | 0.12205260992050171  |  1   |\n",
            "|    6334    |     3      | 0.04250669479370117  |  2   |\n",
            "|    6334    |     4      | 0.03032892942428589  |  3   |\n",
            "+------------+------------+----------------------+------+\n",
            "[9167 rows x 4 columns]\n",
            "\n"
          ],
          "name": "stdout"
        }
      ]
    },
    {
      "metadata": {
        "id": "53lw7v1BjPAR",
        "colab_type": "code",
        "colab": {}
      },
      "cell_type": "code",
      "source": [
        "def create_output(model, users_to_recommend, n_rec, print_csv=True):\n",
        "    recomendation = model.recommend(users=users_to_recommend, k=n_rec)\n",
        "    df_rec = recomendation.to_dataframe()\n",
        "    df_rec['recommendedProducts'] = df_rec.groupby([user_id])[item_id] \\\n",
        "        .transform(lambda x: '|'.join(x.astype(str)))\n",
        "    df_output = df_rec[['customerId', 'recommendedProducts']].drop_duplicates() \\\n",
        "        .sort_values('customerId').set_index('customerId')\n",
        "    if print_csv:\n",
        "        df_output.to_csv('recommendation.csv')\n",
        "        print(\"An output file can be found in 'output' folder with name 'option1_recommendation.csv'\")\n",
        "    return df_output"
      ],
      "execution_count": 0,
      "outputs": []
    },
    {
      "metadata": {
        "id": "3SPgh1zMjzIQ",
        "colab_type": "code",
        "colab": {
          "base_uri": "https://localhost:8080/",
          "height": 286
        },
        "outputId": "df1f968e-9a51-44eb-f68a-1ca99b4b232f"
      },
      "cell_type": "code",
      "source": [
        "df_output = create_output(pear_norm, users_to_recommend, n_rec, print_csv=True)\n",
        "print(df_output.shape)\n",
        "df_output.head()"
      ],
      "execution_count": 84,
      "outputs": [
        {
          "output_type": "display_data",
          "data": {
            "text/html": [
              "<pre>recommendations finished on 1000/1000 queries. users per second: 177148</pre>"
            ],
            "text/plain": [
              "recommendations finished on 1000/1000 queries. users per second: 177148"
            ]
          },
          "metadata": {
            "tags": []
          }
        },
        {
          "output_type": "stream",
          "text": [
            "An output file can be found in 'output' folder with name 'option1_recommendation.csv'\n",
            "(1000, 1)\n"
          ],
          "name": "stdout"
        },
        {
          "output_type": "execute_result",
          "data": {
            "text/html": [
              "<div>\n",
              "<style scoped>\n",
              "    .dataframe tbody tr th:only-of-type {\n",
              "        vertical-align: middle;\n",
              "    }\n",
              "\n",
              "    .dataframe tbody tr th {\n",
              "        vertical-align: top;\n",
              "    }\n",
              "\n",
              "    .dataframe thead th {\n",
              "        text-align: right;\n",
              "    }\n",
              "</style>\n",
              "<table border=\"1\" class=\"dataframe\">\n",
              "  <thead>\n",
              "    <tr style=\"text-align: right;\">\n",
              "      <th></th>\n",
              "      <th>recommendedProducts</th>\n",
              "    </tr>\n",
              "    <tr>\n",
              "      <th>customerId</th>\n",
              "      <th></th>\n",
              "    </tr>\n",
              "  </thead>\n",
              "  <tbody>\n",
              "    <tr>\n",
              "      <th>4</th>\n",
              "      <td>3|2</td>\n",
              "    </tr>\n",
              "    <tr>\n",
              "      <th>11</th>\n",
              "      <td>2|3</td>\n",
              "    </tr>\n",
              "    <tr>\n",
              "      <th>12</th>\n",
              "      <td>3|2</td>\n",
              "    </tr>\n",
              "    <tr>\n",
              "      <th>16</th>\n",
              "      <td>3|2|1</td>\n",
              "    </tr>\n",
              "    <tr>\n",
              "      <th>21</th>\n",
              "      <td>3|2|1</td>\n",
              "    </tr>\n",
              "  </tbody>\n",
              "</table>\n",
              "</div>"
            ],
            "text/plain": [
              "           recommendedProducts\n",
              "customerId                    \n",
              "4                          3|2\n",
              "11                         2|3\n",
              "12                         3|2\n",
              "16                       3|2|1\n",
              "21                       3|2|1"
            ]
          },
          "metadata": {
            "tags": []
          },
          "execution_count": 84
        }
      ]
    },
    {
      "metadata": {
        "id": "20N0_dcFj2KP",
        "colab_type": "code",
        "colab": {}
      },
      "cell_type": "code",
      "source": [
        ""
      ],
      "execution_count": 0,
      "outputs": []
    }
  ]
}